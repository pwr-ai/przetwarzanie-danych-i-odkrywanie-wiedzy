{
 "cells": [
  {
   "cell_type": "markdown",
   "id": "greenhouse-interim",
   "metadata": {},
   "source": [
    "# Zadania Lista 4\n",
    "\n",
    "Celem listy jest budowa modelu klasyfikacji sentymentu, używając poznanego już zbioru wpisów internetowych nt. Cyberpunka.\n",
    "\n",
    "\n",
    "## Uwagi ogólne\n",
    "1. Dokonując analizy modelu zawsze wykonuj cross-walidację\n",
    "1. Stosuj potoki przetwarzania sklearn, jeśli to możliwe\n"
   ]
  },
  {
   "cell_type": "markdown",
   "id": "apparent-bundle",
   "metadata": {},
   "source": [
    "## Czyszczenie danych i przetwarzanie wstępne "
   ]
  },
  {
   "cell_type": "markdown",
   "id": "existing-november",
   "metadata": {},
   "source": [
    "a) **(1 pkt)** Rozwiąż kwestię brakujących wartości - bazując na wykonanej EDA, uzupełnij brakujące wartości, usuń przypadki z brakującymi wartościami lub usuń kolumny zawierające brakujące wartości."
   ]
  },
  {
   "cell_type": "markdown",
   "id": "bibliographic-macedonia",
   "metadata": {},
   "source": [
    "b) **(1 pkt)** Zakoduj zmienne kategoryczne"
   ]
  },
  {
   "cell_type": "markdown",
   "id": "union-cleaning",
   "metadata": {},
   "source": [
    "c) **(1 pkt)** Przeskaluj zmienne numeryczne"
   ]
  },
  {
   "cell_type": "markdown",
   "id": "better-transport",
   "metadata": {},
   "source": [
    "d) **(2 pkt)** Dokonaj standardowego czyszczenia danych tekstowych - usuń URLe, mentiony użytkowników (tj. `@xaru`) oraz znak hasha z hashtagów, jeśli występują w tekście\n"
   ]
  },
  {
   "cell_type": "markdown",
   "id": "spiritual-cross",
   "metadata": {},
   "source": [
    "e) **(1 pkt)** Dokonaj wektoryzacji danych tekstowych metodą BoW"
   ]
  },
  {
   "cell_type": "markdown",
   "id": "minus-afghanistan",
   "metadata": {},
   "source": [
    "## Uczenie modelu\n",
    "\n",
    "**(5 pkt)** Wytrenuj i porównaj dwa klasyczne algorytmy ML - SVM i Random Forest.\n",
    "\n",
    "Przeprowadź następujące eksperymenty:\n",
    "- użyj tylko danych tekstowych\n",
    "- użyj pozostałych danych oprócz tekstowych\n",
    "- użyj wszystkich danych\n",
    "\n",
    "Zaraportuj metryki klasyfikacji. Jak możesz je interpretować? Który algorytm lepiej sobie radzi w tym przypadku? Które cechy pozwalają najlepiej predykować sentyment? Zastanów się, dlaczego?"
   ]
  },
  {
   "cell_type": "markdown",
   "id": "liked-stress",
   "metadata": {},
   "source": [
    "## Feature engineering\n",
    "\n",
    "**(5 pkt)** Bazując na przeprowadzonej EDA, dokonaj inżynierii cech w celu polepszenia wyników z poprzedniego zadania:\n",
    "- użyj metod selekcji cech\n",
    "- użyj metod redukcji wymiarowości\n",
    "- zaproponuj nowe cechy, bazując na wiedzy domenowej którą uzyskałeś\n",
    "\n",
    "Wykonaj kilka iteracji i eksperymentów, sprawdź, jakie kombinacje metod/cech pozwalają poprawić rezultaty, a jakie nie. Jak sądzisz, dlaczego?\n"
   ]
  },
  {
   "cell_type": "markdown",
   "id": "stuffed-steering",
   "metadata": {},
   "source": [
    "## Wnioski\n",
    "\n",
    "**(1 pkt)** Przeanalizuj uzyskane wyniki pod kątem dokonanej podczas ostatnich zajęć EDA. Czy zdobyta wiedza była przydatna? Czy wysnute wtedy wnioski znalazły potwierdzenie w wynikach modelu? "
   ]
  }
 ],
 "metadata": {
  "kernelspec": {
   "display_name": "Python 3 (ipykernel)",
   "language": "python",
   "name": "python3"
  },
  "language_info": {
   "codemirror_mode": {
    "name": "ipython",
    "version": 3
   },
   "file_extension": ".py",
   "mimetype": "text/x-python",
   "name": "python",
   "nbconvert_exporter": "python",
   "pygments_lexer": "ipython3",
   "version": "3.10.9"
  }
 },
 "nbformat": 4,
 "nbformat_minor": 5
}
