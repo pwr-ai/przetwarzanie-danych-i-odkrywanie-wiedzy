{
 "cells": [
  {
   "cell_type": "markdown",
   "id": "brutal-sympathy",
   "metadata": {},
   "source": [
    "# Zadania Lista 5"
   ]
  },
  {
   "cell_type": "markdown",
   "id": "soviet-tackle",
   "metadata": {},
   "source": [
    "## Tuning hiperparametrów\n",
    "\n",
    "Porównaj następujące metody optymalizacji parametrów modelu: _RandomSearch, GridSearch, HalvingGridSearch, HalvingRandomSearch_\n",
    "\n",
    "a) (1 pkt) Opisz pokrótce ich działanie, możliwości i ograniczenia"
   ]
  },
  {
   "cell_type": "markdown",
   "id": "historical-seminar",
   "metadata": {},
   "source": [
    "b) (2 pkt) Użyj ich i porównaj jakość najlepszego modelu oraz czas ich działania. Narysuj odpowiedni wykres"
   ]
  },
  {
   "cell_type": "markdown",
   "id": "legendary-necklace",
   "metadata": {},
   "source": [
    "c) (1 pkt) Podaj lub oszacuj ilość iteracji każdej z metod (tj. ilość stworzonych podczas działania modeli)"
   ]
  },
  {
   "cell_type": "markdown",
   "id": "instant-royal",
   "metadata": {},
   "source": [
    "d) (1 pkt) Podsumuj uzyskane wyniki. Wskaż twoim zdaniem najlepszą wykorzystaną metodę optymalizacji hiperparametrów. Wybór uzasadnij."
   ]
  },
  {
   "cell_type": "markdown",
   "id": "designed-apparatus",
   "metadata": {},
   "source": [
    "<br><br>\n",
    "## Wektoryzacja tekstu\n",
    "\n",
    "a) (2 pkt) Używając biblioteki Spacy, dokonaj preprocessingu danych tekstowych. Usuń z tekstu wszystkie elementy, które nie są nośnikami emocji. \n",
    "\n",
    "b) (5 pkt) Dokonaj wektoryzacji tak przetworzonego tekstu przy pomocy następujących metod:\n",
    "- bag-of-words\n",
    "- tf-idf\n",
    "- word2vec\n",
    "\n",
    "Wyucz klasyfikator używając każdej z nich. Porównaj wyniki i spróbuj uzasadnić różnice w jakości. "
   ]
  },
  {
   "cell_type": "markdown",
   "id": "proved-bunny",
   "metadata": {},
   "source": [
    "<br><br> \n",
    "## Wyjaśnialność modeli\n",
    "\n",
    "a) (1 pkt) Używając metody SHAP, przeanalizuj wyniki jednego z uprzednio stworzonych klasyfikatorów. \n",
    "\n",
    "b) (1.5 pkt) Zweryfikuj, które cechy wpływają na ocenę sentymentu pozytywnie, a które negatywnie. \n",
    "\n",
    "c) (1.5 pkt) Przeanalizuj dokładnie kilka błędnych zaklasyfikoawanych przykładów, sprawdzając, co w ich przypadku spowodowało błąd"
   ]
  },
  {
   "cell_type": "code",
   "execution_count": null,
   "id": "opposed-calibration",
   "metadata": {},
   "outputs": [],
   "source": []
  }
 ],
 "metadata": {
  "kernelspec": {
   "display_name": "Python 3",
   "language": "python",
   "name": "python3"
  },
  "language_info": {
   "codemirror_mode": {
    "name": "ipython",
    "version": 3
   },
   "file_extension": ".py",
   "mimetype": "text/x-python",
   "name": "python",
   "nbconvert_exporter": "python",
   "pygments_lexer": "ipython3",
   "version": "3.6.5"
  }
 },
 "nbformat": 4,
 "nbformat_minor": 5
}
