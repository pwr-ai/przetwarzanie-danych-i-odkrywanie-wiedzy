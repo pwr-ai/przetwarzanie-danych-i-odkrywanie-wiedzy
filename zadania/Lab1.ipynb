{
 "cells": [
  {
   "cell_type": "markdown",
   "id": "0d2314cb-8048-46ab-b6ad-c0b987e7535d",
   "metadata": {
    "tags": []
   },
   "source": [
    "# Zadania Lista 1"
   ]
  },
  {
   "cell_type": "markdown",
   "id": "f1b0a2ea-920d-4f53-a6e7-0e759f5e7e56",
   "metadata": {},
   "source": [
    "1\\. Korzystając z języka Python i jedynie z wbudowanych paczek, wykonaj poniższe zadania:\n",
    "\n",
    "a) (2 pkt) Napisz dowolny skrypt pod ścieżką `scripts/main_1.py`.\n",
    "\n",
    "b) (3 pkt) W pliku `src/utils.py` zamieść dowolną funkcję/klasę, którą zaimportujesz i wykorzystasz w skrypcie `scripts/main_2.py`.\n",
    "\n",
    "**Wymagania**\n",
    "\n",
    "- Skrypty należy uruchomić korzystając ze środowiska w kontenerze Docker, w przeciwnym razie przyznane będzie 0pkt. (To wymaganie zostanie z nami do końca kursu.)\n",
    "- Pisząc skrypty należy skorzystać z instrukcji `if`, `else`, `for`, `range`, `return`, ze struktur `list`, `set`, `dict`, `tuple`, `class`, `dataclass` oraz z *list comprehension*. Każda instrukcja musi wystąpić **co najmniej raz** w zad. a **lub** b.\n",
    "- Program nie musi być użyteczny, ale ma mieć jednoznaczny sens. \n",
    "\n",
    "---\n",
    "\n",
    "2\\. Korzystając ze środowiska Docker:\n",
    "\n",
    "a) (2pkt) zainstaluj paczkę `black` specyfikując na sztywno jej wersję w pliku `requirements.txt`. Sformatuj wszystkie pliki `.py` w projekcie. Zamieść 3 zrzuty ekranu pod ścieżką `screenshots`: dowolony plik przed formatowaniem, dowolony plik po formatowaniu oraz wyjście w terminalu po komendzie formatującej. \n",
    "\n",
    "b) (3pkt) uruchom Jupyter Notebook lub JupyterLab w kontenerze dockerowym. Następnie utwórz notebook pod ścieżką `notebooks/notebook_1.ipynb`, w którym w komórce typu `Markdown` wyświetlisz swój numer indeksu, a w komórce typu `Code`. Zaimportujesz funkcję/klasę z `src/utils.py`.\n",
    "\n",
    "---\n",
    "\n",
    "**Uwagi**\n",
    "- Przy wykonywaniu listy przyda się znajomość `PYTHONPATH` oraz umiejętność przekierowania portów ;)"
   ]
  }
 ],
 "metadata": {
  "kernelspec": {
   "display_name": "przetwarzanie-danych-i-odkrywanie-wiedzy",
   "language": "python",
   "name": "przetwarzanie-danych-i-odkrywanie-wiedzy"
  },
  "language_info": {
   "codemirror_mode": {
    "name": "ipython",
    "version": 3
   },
   "file_extension": ".py",
   "mimetype": "text/x-python",
   "name": "python",
   "nbconvert_exporter": "python",
   "pygments_lexer": "ipython3",
   "version": "3.6.13"
  }
 },
 "nbformat": 4,
 "nbformat_minor": 5
}
