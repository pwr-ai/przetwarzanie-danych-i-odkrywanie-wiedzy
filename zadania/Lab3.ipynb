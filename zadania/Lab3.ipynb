{
 "cells": [
  {
   "cell_type": "markdown",
   "id": "collected-australian",
   "metadata": {},
   "source": [
    "# Zadania Lista 3"
   ]
  },
  {
   "cell_type": "markdown",
   "id": "standard-expense",
   "metadata": {},
   "source": [
    "1\\. (1 pkt) Przy pomocy sklearn, wczytaj zbiór danych [California Housing](https://scikit-learn.org/stable/datasets/real_world.html#california-housing-dataset) i wyświetl jego przykładowe kilka rekordów"
   ]
  },
  {
   "cell_type": "code",
   "execution_count": 2,
   "id": "destroyed-signature",
   "metadata": {},
   "outputs": [],
   "source": [
    "#"
   ]
  },
  {
   "cell_type": "markdown",
   "id": "liberal-mission",
   "metadata": {},
   "source": [
    "2\\. (1.5 pkt) Przy pomocy biblioteki Pandas Profiling przeanalizuj w/w zbiór i odpowiedz na następujące pytania:\n",
    "\n",
    "- ile znajduje się w zbiorze cech kategorycznych, a ile numerycznych? \n",
    "- czy zmienna wyjściowa jest kategoryczna, czy numeryczna?\n",
    "- czy rozpatrujemy problem klasyfikacji, klasteryzacji czy regresji?\n",
    "- ile w zbiorze jest brakujących wartości?\n",
    "- czy któraś z cech koreluje ze zmienną wyjściową? Jeśli tak - która?\n"
   ]
  },
  {
   "cell_type": "code",
   "execution_count": 3,
   "id": "biological-township",
   "metadata": {},
   "outputs": [],
   "source": [
    "#"
   ]
  },
  {
   "cell_type": "markdown",
   "id": "secret-brown",
   "metadata": {},
   "source": [
    "3\\. (2 pkt) stwórz pipeline składający się z modułu standaryzacji i estymatora - w zależności czy problem dotyczy klasyfikacji czy regresji, użyj [RandomForestClassifier](https://scikit-learn.org/stable/modules/generated/sklearn.ensemble.RandomForestClassifier.html) lub [RandomForestRegressor](https://scikit-learn.org/stable/modules/generated/sklearn.ensemble.RandomForestRegressor.html) "
   ]
  },
  {
   "cell_type": "code",
   "execution_count": 4,
   "id": "electric-investor",
   "metadata": {},
   "outputs": [],
   "source": [
    "#"
   ]
  },
  {
   "cell_type": "markdown",
   "id": "raising-cricket",
   "metadata": {},
   "source": [
    "4\\. (4 pkt) używając sprawdzianu krzyżowego z 10 foldami (sprawdź odpowiedni parametr w [dokumentacji](https://scikit-learn.org/stable/modules/generated/sklearn.model_selection.cross_validate.html)) sprawdź jakość predykcji, używając odpowiednich do zadania metryk (wybierz odpowiednią spośród tych [tutaj](https://scikit-learn.org/stable/modules/classes.html#module-sklearn.metrics))"
   ]
  },
  {
   "cell_type": "code",
   "execution_count": 6,
   "id": "oriental-rover",
   "metadata": {},
   "outputs": [],
   "source": [
    "#"
   ]
  },
  {
   "cell_type": "markdown",
   "id": "planned-celtic",
   "metadata": {},
   "source": [
    "5\\. (3 pkt) Używając cross-walidacji, porównaj jakość modelu używającego i nieużywającego standaryzacji cech."
   ]
  },
  {
   "cell_type": "code",
   "execution_count": 7,
   "id": "awful-africa",
   "metadata": {},
   "outputs": [],
   "source": [
    "#"
   ]
  },
  {
   "cell_type": "markdown",
   "id": "interim-marker",
   "metadata": {},
   "source": [
    "6\\. (3.5 pkt) Używając metody [GridSearch](https://scikit-learn.org/stable/modules/generated/sklearn.model_selection.GridSearchCV.html) sprawdź, jakie parametry modelu najlepiej pasują do rozwiązywanego problemu"
   ]
  },
  {
   "cell_type": "markdown",
   "id": "everyday-pension",
   "metadata": {},
   "source": [
    "```{important}\n",
    "Pamiętaj, że mechanizm GridSearch przeszukuje wszystkie możliwe kombinacje podanych parametrów. Nie podawaj ich zbyt wiele, by skończyć zadanie w sensownym czasie.\n",
    "```"
   ]
  },
  {
   "cell_type": "code",
   "execution_count": 8,
   "id": "mental-question",
   "metadata": {},
   "outputs": [],
   "source": [
    "#"
   ]
  },
  {
   "cell_type": "code",
   "execution_count": null,
   "id": "helpful-capability",
   "metadata": {},
   "outputs": [],
   "source": []
  }
 ],
 "metadata": {
  "kernelspec": {
   "display_name": "Python 3",
   "language": "python",
   "name": "python3"
  },
  "language_info": {
   "codemirror_mode": {
    "name": "ipython",
    "version": 3
   },
   "file_extension": ".py",
   "mimetype": "text/x-python",
   "name": "python",
   "nbconvert_exporter": "python",
   "pygments_lexer": "ipython3",
   "version": "3.8.6"
  }
 },
 "nbformat": 4,
 "nbformat_minor": 5
}
