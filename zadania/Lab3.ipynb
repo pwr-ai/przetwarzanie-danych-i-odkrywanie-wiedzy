{
 "cells": [
  {
   "cell_type": "markdown",
   "id": "collected-australian",
   "metadata": {},
   "source": [
    "# Zadania Lista 3"
   ]
  },
  {
   "cell_type": "markdown",
   "id": "liberal-mission",
   "metadata": {},
   "source": [
    "1\\. (1.5 pkt) Przy pomocy sklearn, wczytaj zbiór danych [California Housing](https://scikit-learn.org/stable/datasets/real_world.html#california-housing-dataset).\n",
    "\n",
    "Przy pomocy biblioteki Pandas Profiling przeanalizuj ten zbiór i odpowiedz na następujące pytania:\n",
    "\n",
    "- ile znajduje się w zbiorze cech kategorycznych, a ile numerycznych? \n",
    "- czy zmienna wyjściowa jest kategoryczna, czy numeryczna?\n",
    "- czy rozpatrujemy problem klasyfikacji, klasteryzacji czy regresji?\n",
    "- ile w zbiorze jest brakujących wartości?\n",
    "- czy któraś z cech koreluje ze zmienną wyjściową? Jeśli tak - która?\n"
   ]
  },
  {
   "cell_type": "code",
   "execution_count": 3,
   "id": "biological-township",
   "metadata": {},
   "outputs": [],
   "source": [
    "# TUTAJ UMIEŚĆ ODPOWIEDZI"
   ]
  },
  {
   "cell_type": "markdown",
   "id": "secret-brown",
   "metadata": {},
   "source": [
    "2\\. (3 pkt) Stwórz pipeline składający się z modułu standaryzacji i estymatora - w zależności czy problem dotyczy klasyfikacji czy regresji, użyj [RandomForestClassifier](https://scikit-learn.org/stable/modules/generated/sklearn.ensemble.RandomForestClassifier.html) lub [RandomForestRegressor](https://scikit-learn.org/stable/modules/generated/sklearn.ensemble.RandomForestRegressor.html) "
   ]
  },
  {
   "cell_type": "code",
   "execution_count": 4,
   "id": "electric-investor",
   "metadata": {},
   "outputs": [],
   "source": [
    "# TUTAJ UMIEŚĆ KOD"
   ]
  },
  {
   "cell_type": "markdown",
   "id": "raising-cricket",
   "metadata": {},
   "source": [
    "3\\. (3 pkt) Używając walidacji krzyżowej z 10 foldami (sprawdź odpowiedni parametr w [dokumentacji](https://scikit-learn.org/stable/modules/generated/sklearn.model_selection.cross_validate.html)) sprawdź jakość predykcji, używając odpowiednich do zadania metryk (wybierz odpowiednią spośród tych [tutaj](https://scikit-learn.org/stable/modules/classes.html#module-sklearn.metrics))"
   ]
  },
  {
   "cell_type": "code",
   "execution_count": 6,
   "id": "oriental-rover",
   "metadata": {},
   "outputs": [],
   "source": [
    "# TUTAJ UMIEŚĆ KOD"
   ]
  },
  {
   "cell_type": "markdown",
   "id": "planned-celtic",
   "metadata": {},
   "source": [
    "4\\. (2 pkt) Używając cross-walidacji, porównaj jakość modelu używającego i nieużywającego standaryzacji cech."
   ]
  },
  {
   "cell_type": "code",
   "execution_count": 7,
   "id": "awful-africa",
   "metadata": {},
   "outputs": [],
   "source": [
    "# TUTAJ UMIEŚĆ KOD"
   ]
  },
  {
   "cell_type": "markdown",
   "id": "interim-marker",
   "metadata": {},
   "source": [
    "5\\. Znajdź 3 metody optymalizacji parametrów modelu, inne niż użyty w przykładzie `RandomSearch`\n",
    "\n",
    "a) (2 pkt) opisz pokrótce ich działanie, dobre i złe strony"
   ]
  },
  {
   "cell_type": "code",
   "execution_count": 1,
   "id": "combined-semester",
   "metadata": {},
   "outputs": [],
   "source": [
    "# TUTAJ UMIEŚĆ ODPOWIEDZI"
   ]
  },
  {
   "cell_type": "markdown",
   "id": "growing-passport",
   "metadata": {},
   "source": [
    "b) (2 pkt) użyj ich i porównaj jakość najlepszego modelu oraz czas ich działania. Narysuj odpowiedni wykres"
   ]
  },
  {
   "cell_type": "code",
   "execution_count": 3,
   "id": "binding-analysis",
   "metadata": {},
   "outputs": [],
   "source": [
    "# TUTAJ UMIEŚĆ KOD"
   ]
  },
  {
   "cell_type": "markdown",
   "id": "faced-jones",
   "metadata": {},
   "source": [
    "c) (1.5 pkt) podaj lub oszacuj ilość iteracji każdej z metod (tj. ilość stworzonych podczas działania modeli)"
   ]
  },
  {
   "cell_type": "code",
   "execution_count": 5,
   "id": "divided-partition",
   "metadata": {},
   "outputs": [],
   "source": [
    "# TUTAJ UMIEŚ ODPOWIEDZI"
   ]
  }
 ],
 "metadata": {
  "kernelspec": {
   "display_name": "Python 3",
   "language": "python",
   "name": "python3"
  },
  "language_info": {
   "codemirror_mode": {
    "name": "ipython",
    "version": 3
   },
   "file_extension": ".py",
   "mimetype": "text/x-python",
   "name": "python",
   "nbconvert_exporter": "python",
   "pygments_lexer": "ipython3",
   "version": "3.8.6"
  }
 },
 "nbformat": 4,
 "nbformat_minor": 5
}
