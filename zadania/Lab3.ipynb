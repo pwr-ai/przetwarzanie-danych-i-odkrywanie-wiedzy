{
 "cells": [
  {
   "cell_type": "markdown",
   "id": "athletic-defeat",
   "metadata": {},
   "source": [
    "# Zadania Lista 3\n"
   ]
  },
  {
   "cell_type": "markdown",
   "id": "af1f52cc-4da1-4407-8d3f-b40e3ba16285",
   "metadata": {},
   "source": [
    "**Wymagania**\n",
    "\n",
    "- Końcową komendę `dvc repro` należy uruchomić korzystając ze środowiska w kontenerze Docker, w przeciwnym razie przyznane będzie 0pkt za zadania z DVC. \n",
    "- MLflow należy uruchomić w Dockerze, w przeciwnym razie przyznane będzie 0pkt za zadania z MLflow."
   ]
  },
  {
   "cell_type": "markdown",
   "id": "duplicate-degree",
   "metadata": {
    "tags": []
   },
   "source": [
    "## 1. (3 pkt) Przygotowanie potoku przetwarzaniadanych\n",
    "\n",
    "Przygotuj poszczególne elementy rozwiązania problemu uczenia maszynowego w postaci osobnych skryptów.\n",
    "\n",
    "Do realizacji zastosować następujący podział:\n",
    "- Czyszczenie danych\n",
    "- Podział danych\n",
    "- Analiza danych\n",
    "- Ekstrakcja cech\n",
    "- Uczenie i ewaluacja modelu\n",
    "\n",
    "Skrypty umieść w folderze `scripts`, parametry w pliku `params.yaml`, a pliki wejściowe i wyjściowe w folderze `data`.\n",
    "\n",
    "W ramach tej listy zajmiemy się klasyfikatora, który będzie punktem odniesienia w kolejnych listach. Będzie on predykował ignorując wszystkie cechy wejściowe. Ponieżej zamieszczono opis działania poszczególnych skryptów.\n",
    "\n",
    "- Czyszczenie danych - niczego nie czyść, skrypt ma zapisywać dane dokładnie takie jakie są. **uwaga**: nie oznacza to, że etap może zostać pominięty!\n",
    "- Podział danych - podziel dane na zbiory train/val/test bez stratyfikacji i je zapisz. Zaleca się wykorzystanie funkcji [sklearn.model_selection.train_test_split\n",
    "](https://scikit-learn.org/stable/modules/generated/sklearn.model_selection.train_test_split.html)\n",
    "- Ekstrakcja cech - usuń wszystkie cechy (poza klasą sentymentu) oraz dodaj nową kolumnę, którą całą wypełnisz wartością `None`. Zapisz wynik.\n",
    "- Analiza danych - napisz krótki notebook, w którym zwizualizujesz rozkład klas na wykresie w poszczególnych podbiorach train/val/test\n",
    "- Uczenie i ewaluacja modelu - wytrenuj klasyfikator który będzie predykował najczęstszą klasę, następnie policz F1-score, wyniki zapisz w formacie json. Zaleca się wykorzystanie [sklearn.dummy.DummyClassifier](https://scikit-learn.org/stable/modules/generated/sklearn.dummy.DummyClassifier.html) oraz [sklearn.metrics.f1_score](https://scikit-learn.org/stable/modules/generated/sklearn.metrics.f1_score.html)"
   ]
  },
  {
   "cell_type": "markdown",
   "id": "duplicate-jason",
   "metadata": {},
   "source": [
    "## 2. (4 pkt) Obsługa MLflow\n",
    "\n",
    "* Do skryptu przeznaczonego do ewaluacji modelu dodaj obsługę `MLflow`. \n",
    "* Przekaż odpowiednie parametry i metryki. \n",
    "* Dodaj wykres macierzy pomyłek dla zbioru uczącego i testowego.\n",
    "* Załącz zrzuty ekranu z MLFlow pokazujące przebieg eksperymentów"
   ]
  },
  {
   "cell_type": "markdown",
   "id": "great-popularity",
   "metadata": {},
   "source": [
    "## 3. (4 pkt)  Obsługa DVC\n",
    "Dodaj przygotowane skrypty jako elementy potoku `DVC`, zdefiniuj odpowiednie parametry i zależności. Dodaj metryki do trackowania. Zreprodukuj potok. Zatwierdź zmiany i umieść je w repozytorium. Oznacz końcowy `commit` tagiem `initial_pipeline`"
   ]
  },
  {
   "cell_type": "markdown",
   "id": "loved-organ",
   "metadata": {},
   "source": [
    "## 4. (3 pkt) Wykonanie eksperymentów\n",
    "\n",
    "* Dodaj wsparcie dla modelu predykującego klasę z rozkładu jednostajnego ciągłego. Dodaj możliwość wybrania modelu w konfiguracji. \n",
    "* Dodaj logowanie tego modelu do mlflow. Wykorzystaj api `dvc experiments` do porównania modeli. \n",
    "* Załącz zrzuty ekranu z MLFlow pokazujące przebieg eksperymentów.\n",
    "\n",
    "\n",
    "## 5. (1 pkt) Krótkie podsumowanie\n",
    "* Napisz podsumowanie dokanych eksperymentów.\n",
    "* Załącz wyjście polecenia dvc experiments show.\n",
    "* Wskaż twoim zdaniem mocne i słabe strony zastosowania dvc i mlflow.\n",
    "* Zdefiniuj twoim zdaniem elementy najbardziej problematyczne i czasochłonne."
   ]
  }
 ],
 "metadata": {
  "kernelspec": {
   "display_name": "Python 3 (ipykernel)",
   "language": "python",
   "name": "python3"
  },
  "language_info": {
   "codemirror_mode": {
    "name": "ipython",
    "version": 3
   },
   "file_extension": ".py",
   "mimetype": "text/x-python",
   "name": "python",
   "nbconvert_exporter": "python",
   "pygments_lexer": "ipython3",
   "version": "3.10.9"
  }
 },
 "nbformat": 4,
 "nbformat_minor": 5
}
