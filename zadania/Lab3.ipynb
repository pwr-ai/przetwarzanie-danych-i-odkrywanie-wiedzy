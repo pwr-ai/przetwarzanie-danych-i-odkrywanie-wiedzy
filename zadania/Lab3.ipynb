{
 "cells": [
  {
   "cell_type": "markdown",
   "id": "collected-australian",
   "metadata": {},
   "source": [
    "# Zadania Lista 3"
   ]
  },
  {
   "cell_type": "markdown",
   "id": "liberal-mission",
   "metadata": {},
   "source": [
    "1\\. (1.5 pkt) Przy pomocy sklearn, wczytaj zbiór danych [California Housing](https://scikit-learn.org/stable/datasets/real_world.html#california-housing-dataset).\n",
    "\n",
    "Za pomocą Pandas Profiling przeanalizuj ten zbiór i odpowiedz na następujące pytania:\n",
    "\n",
    "- Ile znajduje się w zbiorze cech kategorycznych, a ile numerycznych? \n",
    "- Czy zmienna wyjściowa jest kategoryczna, czy numeryczna?\n",
    "- Czy rozpatrujemy problem klasyfikacji, klasteryzacji czy regresji?\n",
    "- Ile w zbiorze jest brakujących wartości?\n",
    "- Czy któraś z cech koreluje ze zmienną wyjściową? Jeśli tak - która?\n"
   ]
  },
  {
   "cell_type": "code",
   "execution_count": null,
   "id": "biological-township",
   "metadata": {},
   "outputs": [],
   "source": [
    "# TUTAJ UMIEŚĆ ODPOWIEDZI"
   ]
  },
  {
   "cell_type": "markdown",
   "id": "secret-brown",
   "metadata": {},
   "source": [
    "2\\. (3 pkt) Stwórz i wyucz pipeline składający się z modułów standaryzacji i estymatora - w zależności czy problem dotyczy klasyfikacji czy regresji, użyj [RandomForestClassifier](https://scikit-learn.org/stable/modules/generated/sklearn.ensemble.RandomForestClassifier.html) lub [RandomForestRegressor](https://scikit-learn.org/stable/modules/generated/sklearn.ensemble.RandomForestRegressor.html). "
   ]
  },
  {
   "cell_type": "code",
   "execution_count": null,
   "id": "electric-investor",
   "metadata": {},
   "outputs": [],
   "source": [
    "# TUTAJ UMIEŚĆ KOD"
   ]
  },
  {
   "cell_type": "markdown",
   "id": "raising-cricket",
   "metadata": {},
   "source": [
    "3\\. (3 pkt) Używając walidacji krzyżowej z 10 foldami (sprawdź odpowiedni parametr w [dokumentacji](https://scikit-learn.org/stable/modules/generated/sklearn.model_selection.cross_validate.html)) sprawdź jakość predykcji, używając odpowiednich do zadania metryk (wybierz odpowiednią - przykładowe [tutaj](https://scikit-learn.org/stable/modules/classes.html#module-sklearn.metrics))"
   ]
  },
  {
   "cell_type": "code",
   "execution_count": null,
   "id": "oriental-rover",
   "metadata": {},
   "outputs": [],
   "source": [
    "# TUTAJ UMIEŚĆ KOD"
   ]
  },
  {
   "cell_type": "markdown",
   "id": "planned-celtic",
   "metadata": {},
   "source": [
    "4\\. (2 pkt) Używając cross-walidacji, porównaj jakość modelu używającego i nieużywającego standaryzacji cech."
   ]
  },
  {
   "cell_type": "code",
   "execution_count": null,
   "id": "awful-africa",
   "metadata": {},
   "outputs": [],
   "source": [
    "# TUTAJ UMIEŚĆ KOD"
   ]
  },
  {
   "cell_type": "markdown",
   "id": "interim-marker",
   "metadata": {},
   "source": [
    "5. Porównaj następujące metody optymalizacji parametrów modelu, `RandomSearch`, `GridSearch`, `HalvingGridSearch`, `HalvingRandomSearch`\n",
    "\n",
    "a) (1 pkt) Opisz pokrótce ich działanie, możliwości i ograniczenia"
   ]
  },
  {
   "cell_type": "code",
   "execution_count": null,
   "id": "combined-semester",
   "metadata": {},
   "outputs": [],
   "source": [
    "# TUTAJ UMIEŚĆ ODPOWIEDZI"
   ]
  },
  {
   "cell_type": "markdown",
   "id": "growing-passport",
   "metadata": {},
   "source": [
    "b) (2 pkt) Użyj ich i porównaj jakość najlepszego modelu oraz czas ich działania. Narysuj odpowiedni wykres "
   ]
  },
  {
   "cell_type": "code",
   "execution_count": null,
   "id": "binding-analysis",
   "metadata": {},
   "outputs": [],
   "source": [
    "# TUTAJ UMIEŚĆ KOD"
   ]
  },
  {
   "cell_type": "markdown",
   "id": "faced-jones",
   "metadata": {},
   "source": [
    "c) (1.5 pkt) Podaj lub oszacuj ilość iteracji każdej z metod (tj. ilość stworzonych podczas działania modeli)"
   ]
  },
  {
   "cell_type": "code",
   "execution_count": null,
   "id": "apart-algeria",
   "metadata": {},
   "outputs": [],
   "source": [
    "# TUTAJ UMIEŚĆ ODPOWIEDZI"
   ]
  },
  {
   "cell_type": "markdown",
   "id": "solved-detective",
   "metadata": {},
   "source": [
    "d) (1 pkt) Podsumuj uzyskane wyniki. Wskaż twoim zdaniem najlepszą wykorzystaną metodę optymalizacji hiperparametrów. Wybór uzasadnij.\n"
   ]
  },
  {
   "cell_type": "code",
   "execution_count": null,
   "id": "ranging-angel",
   "metadata": {},
   "outputs": [],
   "source": [
    "# TUTAJ UMIEŚĆ ODPOWIEDZI"
   ]
  }
 ],
 "metadata": {
  "kernelspec": {
   "display_name": "Python 3",
   "language": "python",
   "name": "python3"
  },
  "language_info": {
   "codemirror_mode": {
    "name": "ipython",
    "version": 3
   },
   "file_extension": ".py",
   "mimetype": "text/x-python",
   "name": "python",
   "nbconvert_exporter": "python",
   "pygments_lexer": "ipython3",
   "version": "3.6.5"
  }
 },
 "nbformat": 4,
 "nbformat_minor": 5
}
