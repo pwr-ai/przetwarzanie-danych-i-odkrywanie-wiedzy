{
 "cells": [
  {
   "cell_type": "markdown",
   "metadata": {},
   "source": [
    "# Zadania Lista 5\n"
   ]
  },
  {
   "cell_type": "markdown",
   "metadata": {},
   "source": [
    "## 1. (3 pkt) Reorganizacja rozwiązania listy 4\n",
    "\n",
    "Dokanaj refaktoryzacji rozwiązania listy 4. Przedstaw poszczególne elementy rozwiązania w postaci osobnych skryptów.\n",
    "\n",
    "Do realizacji można wykorzystać zastosować następujący podział:\n",
    "- Czyszczenie danych\n",
    "- Podział danych\n",
    "- Ekstrakcja cech\n",
    "- Ewaluacja modelu\n",
    "\n",
    "Podczas refaktoryzacji pomiń elementy związane z `pandas.profiling`, `shap` i uruchomienia modelu na podzbiorze cech. Skrypty umieść w folderze `scripts`, parametry w pliku `params.yaml`, a pliki wyjściowe w folderze `data`. \n",
    "\n",
    "**UWAGA**\n",
    "W celu przyśpieszenia obliczeń można wykorzystać podzbiór zbioru danych lub ograniczyć dane etapy np. podzbiorem cech."
   ]
  },
  {
   "cell_type": "markdown",
   "metadata": {},
   "source": [
    "## 2. (4 pkt) Obsługa MLflow\n",
    "\n",
    "Do skryptu przeznaczonego do ewaluacji modelu dodaj obsługę `MLflow`. Przekaż odpowiednie parametry i metryki. Dodaj wykres macierzy pomyłek dla zbioru uczącego i testowego. Dodaj etap badania istotności cech i przekaż wykresy do `MLFlow`. *(Można ograniczyć się do dodania jednego wykresu podsumowującego np. `beeswarm`)*"
   ]
  },
  {
   "cell_type": "markdown",
   "metadata": {},
   "source": [
    "## 3. (4 pkt)  Obsługa DVC\n",
    "Dodaj przygotowane skrypty jako elementy potoku `DVC`, zdefiniuj odpowiednie parametry i zależności. Dodaj metryki do trackowania. Zreprodukuj potok. Zatwierdź zmiany i umieść je w repozytorium. Oznacz końcowy `commit` tagiem `initial_pipeline`"
   ]
  },
  {
   "cell_type": "markdown",
   "metadata": {},
   "source": [
    "## 4. (3 pkt) Wykonanie eksperymentów\n",
    "\n",
    "Dodaj możliwość wybrania modelu w konfiguracji. Dodaj wsparcie dla modeli [`LightGBM`].(https://lightgbm.readthedocs.io/en/latest/) i [`Catboost`](https://github.com/catboost/catboost) Dodaj logowanie tych modeli do mlflow. Wykorzystaj api `dvc experiments` do porównania modeli. \n",
    "\n",
    "## 5. (1 pkt) Podsumowanie\n",
    "Napisz podsumowanie dokanych eksperymentów w pliku `SOLUTION.md` lub `SOLUTION.ipynb`. Załącz wyjście polecenia `dvc experiments show`.  Zbadaj czy występują różnice w istototności cech pomiędzy różnymi modelami. Wskaż twoim zdaniem mocne i słabe strony zastosowania `dvc` i `mlflow`. Zdefiniuj twoim zdaniem elementy najbardziej problematyczne i czasochłonne."
   ]
  }
 ],
 "metadata": {
  "kernelspec": {
   "display_name": "Python 3",
   "language": "python",
   "name": "python3"
  },
  "language_info": {
   "codemirror_mode": {
    "name": "ipython",
    "version": 3
   },
   "file_extension": ".py",
   "mimetype": "text/x-python",
   "name": "python",
   "nbconvert_exporter": "python",
   "pygments_lexer": "ipython3",
   "version": "3.9.0"
  }
 },
 "nbformat": 4,
 "nbformat_minor": 5
}
