{
 "cells": [
  {
   "cell_type": "markdown",
   "id": "greenhouse-interim",
   "metadata": {},
   "source": [
    "# Zadania Lista 5\n",
    "\n",
    "Celem listy jest budowa modelu klasyfikacji wydźwięku emocjonalnego (sentiment).\n",
    "\n",
    "**Wymagania**\n",
    "\n",
    "- Wszystkie procedury należy zintegrować z potokiem dvc.\n",
    "- Końcową komendę `dvc repro` należy uruchomić korzystając ze środowiska w kontenerze Docker. \n",
    "\n",
    "\n",
    "**Uwagi ogólne**\n",
    "1. Zanim cokolwiek dodasz do projeku zastanów się w którym stage'u powinno to być umieszczone. W wielu sytuacjach nie będzie jednego dobrego rozwiązania, należy wtedy postąpić według własnych preferencji zdając sobie sprawę z wad i zalet decyzji.\n",
    "1. Dokonując analizy modelu zawsze wykonuj cross-walidację.\n",
    "1. Weź pod uwagę, że korzystając Stosuj potoki przetwarzania sklearn, jeśli to możliwe.\n"
   ]
  },
  {
   "cell_type": "markdown",
   "id": "apparent-bundle",
   "metadata": {},
   "source": [
    "## 1. (3 pkt) Czyszczenie danych i przetwarzanie wstępne "
   ]
  },
  {
   "cell_type": "markdown",
   "id": "existing-november",
   "metadata": {},
   "source": [
    "a) **(0.5 pkt)** Rozwiąż kwestię brakujących wartości - bazując na wykonanej EDA, uzupełnij brakujące wartości, usuń przypadki z brakującymi wartościami lub usuń kolumny zawierające brakujące wartości."
   ]
  },
  {
   "cell_type": "markdown",
   "id": "bibliographic-macedonia",
   "metadata": {},
   "source": [
    "b) **(0.5 pkt)** Zakoduj zmienne kategoryczne"
   ]
  },
  {
   "cell_type": "markdown",
   "id": "union-cleaning",
   "metadata": {},
   "source": [
    "c) **(0.5 pkt)** Przeskaluj zmienne numeryczne"
   ]
  },
  {
   "cell_type": "markdown",
   "id": "better-transport",
   "metadata": {},
   "source": [
    "d) **(1 pkt)** Dokonaj czyszczenia danych tekstowych (należy zaproponować metodę czyszczenia). Można użyć do tego np. biblioteki Spacy, regex'y."
   ]
  },
  {
   "cell_type": "markdown",
   "id": "spiritual-cross",
   "metadata": {},
   "source": [
    "e) **(0.5 pkt)** Dokonaj wektoryzacji danych tekstowych metodą BoW"
   ]
  },
  {
   "cell_type": "markdown",
   "id": "minus-afghanistan",
   "metadata": {},
   "source": [
    "## 2. Uczenie modelu\n",
    "\n",
    "**(3 pkt)** Wytrenuj i porównaj dwa klasyczne algorytmy ML - SVM i Random Forest.\n",
    "\n",
    "Przeprowadź następujące eksperymenty:\n",
    "- użyj tylko danych tekstowych\n",
    "- użyj pozostałych danych oprócz tekstowych\n",
    "- użyj wszystkich danych\n",
    "\n",
    "Zaraportuj metryki klasyfikacji. Jak możesz je interpretować? Który algorytm lepiej sobie radzi w tym przypadku? Które cechy pozwalają najlepiej predykować sentyment? Zastanów się, dlaczego?"
   ]
  },
  {
   "cell_type": "markdown",
   "id": "liked-stress",
   "metadata": {},
   "source": [
    "## 3. Feature engineering\n",
    "\n",
    "**(3 pkt)** Bazując na przeprowadzonej EDA, dokonaj inżynierii cech w celu polepszenia wyników z poprzedniego zadania:\n",
    "- użyj metod selekcji cech\n",
    "- użyj metod redukcji wymiarowości\n",
    "- zaproponuj nowe cechy, bazując na wiedzy domenowej którą uzyskałeś\n",
    "\n",
    "Wykonaj kilka iteracji i eksperymentów, sprawdź, jakie kombinacje metod/cech pozwalają poprawić rezultaty, a jakie nie. Jak sądzisz, dlaczego?\n"
   ]
  },
  {
   "cell_type": "markdown",
   "id": "stuffed-steering",
   "metadata": {},
   "source": [
    "## 4. Wnioski\n",
    "\n",
    "**(1 pkt)** Przeanalizuj uzyskane wyniki pod kątem dokonanej podczas ostatnich zajęć EDA. Czy zdobyta wiedza była przydatna? Czy wysnute wtedy wnioski znalazły potwierdzenie w wynikach modelu? "
   ]
  }
 ],
 "metadata": {
  "kernelspec": {
   "display_name": "Python 3 (ipykernel)",
   "language": "python",
   "name": "python3"
  },
  "language_info": {
   "codemirror_mode": {
    "name": "ipython",
    "version": 3
   },
   "file_extension": ".py",
   "mimetype": "text/x-python",
   "name": "python",
   "nbconvert_exporter": "python",
   "pygments_lexer": "ipython3",
   "version": "3.10.9"
  }
 },
 "nbformat": 4,
 "nbformat_minor": 5
}
