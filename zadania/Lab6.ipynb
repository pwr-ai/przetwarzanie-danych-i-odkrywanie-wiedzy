{
 "cells": [
  {
   "cell_type": "markdown",
   "id": "acute-there",
   "metadata": {},
   "source": [
    "# Zadania Lista 6\n"
   ]
  },
  {
   "cell_type": "markdown",
   "id": "rocky-watch",
   "metadata": {},
   "source": [
    "1. dodaj do kodu z repo warstwe frontu przy pomocy streamlit\n",
    "1. wrzuc to na dockera\n",
    "1. odpal i skonfiguruj prometeusza\n",
    "1. odpal i skonfiguruj grafane\n",
    "1. wepnij w kod jakies zbieranie statystytk do grafany\n",
    "1. dodaj wykresy i alert w grafanie"
   ]
  },
  {
   "cell_type": "code",
   "execution_count": null,
   "id": "placed-douglas",
   "metadata": {},
   "outputs": [],
   "source": []
  }
 ],
 "metadata": {
  "kernelspec": {
   "display_name": "Python 3",
   "language": "python",
   "name": "python3"
  },
  "language_info": {
   "codemirror_mode": {
    "name": "ipython",
    "version": 3
   },
   "file_extension": ".py",
   "mimetype": "text/x-python",
   "name": "python",
   "nbconvert_exporter": "python",
   "pygments_lexer": "ipython3",
   "version": "3.9.5"
  }
 },
 "nbformat": 4,
 "nbformat_minor": 5
}
