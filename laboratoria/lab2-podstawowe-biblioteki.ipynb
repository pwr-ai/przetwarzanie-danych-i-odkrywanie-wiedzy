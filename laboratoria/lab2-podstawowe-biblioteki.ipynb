{
 "cells": [
  {
   "cell_type": "markdown",
   "id": "interested-oxford",
   "metadata": {},
   "source": [
    "![](../docs/banner.png)"
   ]
  },
  {
   "cell_type": "markdown",
   "id": "oriental-order",
   "metadata": {},
   "source": [
    "# Laboratorium 2: Podstawowe biblioteki do odkrywania wiedzy"
   ]
  },
  {
   "cell_type": "markdown",
   "id": "fossil-station",
   "metadata": {},
   "source": [
    "## Plan laboratorium\n",
    "---\n",
    "\n",
    "1. [Podstawowe biblioteki w warsztacie Data Science](#Podstawowe-biblioteki-w-warsztacie-Data-Science)\n",
    "1. [Numpy](#Numpy)\n",
    "1. [Pandas](#Pandas)\n",
    "1. [Matplotlib](#Matplotlib)\n",
    "1. [Zadania](#Zadania)"
   ]
  },
  {
   "cell_type": "markdown",
   "id": "indonesian-stick",
   "metadata": {},
   "source": [
    "## Efekty kształcenia laboratorium\n",
    "---\n",
    "- dowiesz się, jakie są podstawowe i najczęściej używane biblioteki do pracy z danymi\n",
    "- poznasz podstawy biblioteki Numpy\n",
    "- poznasz podstawy biblioteki Pandas\n",
    "- poznasz podstawy biblioteki Matplotlib"
   ]
  },
  {
   "cell_type": "markdown",
   "id": "german-heading",
   "metadata": {},
   "source": [
    "## Podstawowe biblioteki w warsztacie Data Science"
   ]
  },
  {
   "cell_type": "markdown",
   "id": "coordinate-primary",
   "metadata": {},
   "source": [
    "| Biblioteka | Zastosowanie | Sensowne alternatywy |\n",
    "| :--- | :--- | :--- |\n",
    "| Numpy | szybkie operacje macierzowe | - |\n",
    "| SciPy | zaawansowana metematyka i statystyka | - |\n",
    "| Pandas | eksploracja i analiza zbiorów danych | - |\n",
    "| Matplotlib | wizualizacja danych | Seaborn, Plotly, Bokeh |\n",
    "| Scikit-learn | preprocessing danych i uczenie maszynowe | - |\n",
    "| Keras | sieci neuronowe i uczenie głębokie | TensorFlow, PyTorch |\n",
    "| Scrapy | scrapowanie stron www | BeautifulSoup |"
   ]
  },
  {
   "cell_type": "markdown",
   "id": "american-lloyd",
   "metadata": {},
   "source": [
    "## Numpy\n",
    "\n",
    "Numpy jest podstawową biblioteką do operacji na macierzach - ich przechowywania, transformacji, zastosowań w algebrze, statystyce itd. Stała się podstawą przetwarzania danych w środowisku Pythona - na niej bazują pozostałe biblioteki, jak Pandas, SciPy czy Scikit-learn.\n",
    "\n",
    "Dzięki implementacji w C oraz intensywnie używanej wektoryzacji, operacje są niezwykle szybkie. "
   ]
  },
  {
   "cell_type": "markdown",
   "id": "equal-separate",
   "metadata": {},
   "source": [
    "### Instalacja\n",
    "\n",
    "Numpy instalujemy przy pomocy pip:\n",
    "```\n",
    "pip install numpy\n",
    "```"
   ]
  },
  {
   "cell_type": "markdown",
   "id": "closed-japanese",
   "metadata": {},
   "source": [
    "### ndarray\n",
    "Podstawowym typem danych w Numpy jest `ndarray` - ang. `N-dimentional array` (_tablica N-wymiarowa_). \n",
    "\n",
    "``` {important}\n",
    "Tablice Numpy są jednorodne - tj. wszystkie elementy w tablicy muszą być tego samego typu.\n",
    "```\n",
    "\n",
    "``` {important}\n",
    "Tablice Numpy mają stały rozmiar. Zmiana rozmiaru tablicy usuwa stary i tworzy nowy obiekt.\n",
    "```\n"
   ]
  },
  {
   "cell_type": "markdown",
   "id": "structural-vancouver",
   "metadata": {},
   "source": [
    "### Tablice jednowymiarowe\n",
    "Tablice jednowymiarowe rozpatrywane być mogą jako pojedynczy rząd lub kolumna danych:\n",
    "![](../docs/lab2/numpy_row_column.png)"
   ]
  },
  {
   "cell_type": "markdown",
   "id": "patient-delight",
   "metadata": {},
   "source": [
    "Stworzyć jednowymiarową tablicę możemy na wiele sposobów:"
   ]
  },
  {
   "cell_type": "code",
   "execution_count": 29,
   "id": "hearing-cologne",
   "metadata": {},
   "outputs": [],
   "source": [
    "import numpy as np"
   ]
  },
  {
   "cell_type": "code",
   "execution_count": 30,
   "id": "cutting-result",
   "metadata": {},
   "outputs": [
    {
     "data": {
      "text/plain": [
       "array([1, 2, 3])"
      ]
     },
     "execution_count": 30,
     "metadata": {},
     "output_type": "execute_result"
    }
   ],
   "source": [
    "# z pythonowej listy \n",
    "np.array([1, 2, 3])"
   ]
  },
  {
   "cell_type": "code",
   "execution_count": 31,
   "id": "starting-variance",
   "metadata": {},
   "outputs": [
    {
     "data": {
      "text/plain": [
       "array([0., 0., 0., 0., 0.])"
      ]
     },
     "execution_count": 31,
     "metadata": {},
     "output_type": "execute_result"
    }
   ],
   "source": [
    "# z samymi zerami\n",
    "# np.zeros(ELEMENTS_COUNT)\n",
    "np.zeros(5)"
   ]
  },
  {
   "cell_type": "code",
   "execution_count": 32,
   "id": "infinite-string",
   "metadata": {},
   "outputs": [
    {
     "data": {
      "text/plain": [
       "array([1., 1., 1., 1.])"
      ]
     },
     "execution_count": 32,
     "metadata": {},
     "output_type": "execute_result"
    }
   ],
   "source": [
    "# z samymi jedynkami\n",
    "# np.ones(ELEMENTS_COUNT)\n",
    "np.ones(4)"
   ]
  },
  {
   "cell_type": "code",
   "execution_count": 34,
   "id": "caring-green",
   "metadata": {},
   "outputs": [
    {
     "data": {
      "text/plain": [
       "array([ 5, 10, 15, 20, 25])"
      ]
     },
     "execution_count": 34,
     "metadata": {},
     "output_type": "execute_result"
    }
   ],
   "source": [
    "# z kolejnymi elementami \n",
    "# np.arange(START, STOP, STEP)\n",
    "np.arange(5, 30, 5)"
   ]
  },
  {
   "cell_type": "code",
   "execution_count": 33,
   "id": "operational-escape",
   "metadata": {},
   "outputs": [
    {
     "data": {
      "text/plain": [
       "array([3.  , 2.25, 1.5 , 0.75, 0.  ])"
      ]
     },
     "execution_count": 33,
     "metadata": {},
     "output_type": "execute_result"
    }
   ],
   "source": [
    "# z elementami rozłożonymi liniowo\n",
    "# np.linspace(START, STOP, ELEMENTS_COUNT)\n",
    "np.linspace(3, 0, 5)"
   ]
  },
  {
   "cell_type": "code",
   "execution_count": 39,
   "id": "synthetic-november",
   "metadata": {},
   "outputs": [
    {
     "data": {
      "text/plain": [
       "array([68, 17, 81])"
      ]
     },
     "execution_count": 39,
     "metadata": {},
     "output_type": "execute_result"
    }
   ],
   "source": [
    "# z losowymi elementami\n",
    "# np.random.randint(START, STOP, ELEMENTS_COUNT)\n",
    "np.random.randint(10, 100, 3)"
   ]
  },
  {
   "cell_type": "code",
   "execution_count": 40,
   "id": "unusual-telling",
   "metadata": {},
   "outputs": [
    {
     "data": {
      "text/plain": [
       "array([3.10503618e+231, 3.10503618e+231, 2.18665683e-314, 2.78134232e-309,\n",
       "       3.10503618e+231, 3.10503618e+231])"
      ]
     },
     "execution_count": 40,
     "metadata": {},
     "output_type": "execute_result"
    }
   ],
   "source": [
    "# pustą\n",
    "# np.empty(ELEMENTS_COUNT)\n",
    "np.empty(6)"
   ]
  },
  {
   "cell_type": "markdown",
   "id": "conscious-labor",
   "metadata": {},
   "source": [
    "### Tablice wielowymiarowe\n",
    "Tablice wielowymiarowe możemy rozpatrywać jako tablic jednowymiarowych względem kilku osi:\n",
    "![](../docs/lab2/numpy_multidimentional.png)\n",
    "\n",
    "Tablicę wielowymiarową tworzymy analogicznie do tablic jednowymiarowych:"
   ]
  },
  {
   "cell_type": "code",
   "execution_count": 237,
   "id": "sound-anniversary",
   "metadata": {},
   "outputs": [
    {
     "data": {
      "text/plain": [
       "array([[34, 24],\n",
       "       [69, 96],\n",
       "       [56, 63]])"
      ]
     },
     "execution_count": 237,
     "metadata": {},
     "output_type": "execute_result"
    }
   ],
   "source": [
    "# w przypadku metod randint, zeros, ones, empty, mozemy podać kształt tablicy\n",
    "np.random.randint(10, 100, (3, 2))"
   ]
  },
  {
   "cell_type": "code",
   "execution_count": 239,
   "id": "surgical-yeast",
   "metadata": {},
   "outputs": [
    {
     "data": {
      "text/plain": [
       "array([[ 1.        ,  6.57142857, 12.14285714, 17.71428571],\n",
       "       [23.28571429, 28.85714286, 34.42857143, 40.        ]])"
      ]
     },
     "execution_count": 239,
     "metadata": {},
     "output_type": "execute_result"
    }
   ],
   "source": [
    "# w przypadku metod arange, linspace, generujemy tablicę jednowymiarową i ją przekształcamy - więcej poniżej\n",
    "np.linspace(1, 40, 8).reshape((2,4))"
   ]
  },
  {
   "cell_type": "markdown",
   "id": "velvet-paraguay",
   "metadata": {},
   "source": [
    "### Podstawowe operacje na tablicach"
   ]
  },
  {
   "cell_type": "markdown",
   "id": "peaceful-trail",
   "metadata": {},
   "source": [
    "#### Dostęp do elementów\n",
    "\n",
    "Dla tablic jednowymiarowych możemy stosować wszystkie metody dostępu do elementów znane ze standardowych pythonowych list:"
   ]
  },
  {
   "cell_type": "code",
   "execution_count": 185,
   "id": "immediate-beads",
   "metadata": {},
   "outputs": [
    {
     "name": "stdout",
     "output_type": "stream",
     "text": [
      "(10,)\n"
     ]
    },
    {
     "data": {
      "text/plain": [
       "array([0, 1, 2, 3, 4, 5, 6, 7, 8, 9])"
      ]
     },
     "execution_count": 185,
     "metadata": {},
     "output_type": "execute_result"
    }
   ],
   "source": [
    "a = np.arange(10)\n",
    "print(a.shape)\n",
    "a"
   ]
  },
  {
   "cell_type": "code",
   "execution_count": 186,
   "id": "impressive-chancellor",
   "metadata": {},
   "outputs": [
    {
     "data": {
      "text/plain": [
       "4"
      ]
     },
     "execution_count": 186,
     "metadata": {},
     "output_type": "execute_result"
    }
   ],
   "source": [
    "# czwarty element\n",
    "a[4]"
   ]
  },
  {
   "cell_type": "code",
   "execution_count": 187,
   "id": "differential-lithuania",
   "metadata": {},
   "outputs": [
    {
     "data": {
      "text/plain": [
       "array([5, 6])"
      ]
     },
     "execution_count": 187,
     "metadata": {},
     "output_type": "execute_result"
    }
   ],
   "source": [
    "# elementy od 5 do 7 (rozłącznie)\n",
    "a[5:7]"
   ]
  },
  {
   "cell_type": "code",
   "execution_count": 188,
   "id": "offshore-sword",
   "metadata": {},
   "outputs": [
    {
     "data": {
      "text/plain": [
       "array([7, 8, 9])"
      ]
     },
     "execution_count": 188,
     "metadata": {},
     "output_type": "execute_result"
    }
   ],
   "source": [
    "# trzy elementy od tyłu\n",
    "a[-3:]"
   ]
  },
  {
   "cell_type": "code",
   "execution_count": 189,
   "id": "residential-faculty",
   "metadata": {},
   "outputs": [
    {
     "data": {
      "text/plain": [
       "array([2, 4, 6])"
      ]
     },
     "execution_count": 189,
     "metadata": {},
     "output_type": "execute_result"
    }
   ],
   "source": [
    "# co drugi element od 2 do 7 (rozłącznie)\n",
    "a[2:7:2]"
   ]
  },
  {
   "cell_type": "markdown",
   "id": "greater-parameter",
   "metadata": {},
   "source": [
    "Dla tablic wielowymiarowych, indeksowanie wygląda bardzo podobnie, z tym że indeksujemy każdą oś osobno"
   ]
  },
  {
   "cell_type": "code",
   "execution_count": 190,
   "id": "public-mixture",
   "metadata": {},
   "outputs": [
    {
     "name": "stdout",
     "output_type": "stream",
     "text": [
      "(4, 5)\n"
     ]
    },
    {
     "data": {
      "text/plain": [
       "array([[ 0,  1,  2,  3,  4],\n",
       "       [ 5,  6,  7,  8,  9],\n",
       "       [10, 11, 12, 13, 14],\n",
       "       [15, 16, 17, 18, 19]])"
      ]
     },
     "execution_count": 190,
     "metadata": {},
     "output_type": "execute_result"
    }
   ],
   "source": [
    "b = np.arange(20).reshape(4,5)\n",
    "print(b.shape)\n",
    "b"
   ]
  },
  {
   "cell_type": "code",
   "execution_count": 191,
   "id": "capital-bacteria",
   "metadata": {},
   "outputs": [
    {
     "data": {
      "text/plain": [
       "7"
      ]
     },
     "execution_count": 191,
     "metadata": {},
     "output_type": "execute_result"
    }
   ],
   "source": [
    "# drugi rząd, trzecia kolumna (indeksowane od zera)\n",
    "b[1, 2]"
   ]
  },
  {
   "cell_type": "code",
   "execution_count": 192,
   "id": "enclosed-amino",
   "metadata": {},
   "outputs": [
    {
     "data": {
      "text/plain": [
       "array([11, 12, 13])"
      ]
     },
     "execution_count": 192,
     "metadata": {},
     "output_type": "execute_result"
    }
   ],
   "source": [
    "# trzeci rząd, kolumny 2 do 4\n",
    "b[2, 1:4]"
   ]
  },
  {
   "cell_type": "code",
   "execution_count": 193,
   "id": "heard-chester",
   "metadata": {},
   "outputs": [
    {
     "data": {
      "text/plain": [
       "array([ 0,  5, 10, 15])"
      ]
     },
     "execution_count": 193,
     "metadata": {},
     "output_type": "execute_result"
    }
   ],
   "source": [
    "# wszystkie rzędy w pierwszej kolumnie:\n",
    "b[:, 0]"
   ]
  },
  {
   "cell_type": "markdown",
   "id": "early-prototype",
   "metadata": {},
   "source": [
    "#### Filtrowanie elementów\n",
    "Bardzo przydatną funkcjonalnością NumPy jest możliwość używania warunków w dostępie do elementów:"
   ]
  },
  {
   "cell_type": "code",
   "execution_count": 194,
   "id": "explicit-purpose",
   "metadata": {},
   "outputs": [
    {
     "data": {
      "text/plain": [
       "array([55, 28, 40, 34, 16, 66, 39,  2, 40, 26, 31, 46, 77, 73, 42, 94, 40,\n",
       "       96, 51, 56])"
      ]
     },
     "execution_count": 194,
     "metadata": {},
     "output_type": "execute_result"
    }
   ],
   "source": [
    "a = np.random.randint(0, 100, 20)\n",
    "a"
   ]
  },
  {
   "cell_type": "code",
   "execution_count": 195,
   "id": "practical-family",
   "metadata": {},
   "outputs": [
    {
     "data": {
      "text/plain": [
       "array([ True, False, False, False, False,  True, False, False, False,\n",
       "       False, False, False,  True,  True, False,  True, False,  True,\n",
       "        True,  True])"
      ]
     },
     "execution_count": 195,
     "metadata": {},
     "output_type": "execute_result"
    }
   ],
   "source": [
    "# użycie tablicy w warunku logicznym zwraca tablicę elementów spełniających dany warunek\n",
    "idx = a > 50\n",
    "idx"
   ]
  },
  {
   "cell_type": "code",
   "execution_count": 196,
   "id": "sexual-peeing",
   "metadata": {},
   "outputs": [
    {
     "data": {
      "text/plain": [
       "array([55, 66, 77, 73, 94, 96, 51, 56])"
      ]
     },
     "execution_count": 196,
     "metadata": {},
     "output_type": "execute_result"
    }
   ],
   "source": [
    "# możemy użyć tej tablicy do pobrania elementów spełniających warunek\n",
    "a[idx]"
   ]
  },
  {
   "cell_type": "markdown",
   "id": "diverse-regression",
   "metadata": {},
   "source": [
    "#### Wymiary i zmiany kształtu\n",
    "\n",
    "Tablica składa się z elementów podzielonych wobec osi o pewnych wymiarach. Można łatwo sprawdzić te wartości przy pomocy:"
   ]
  },
  {
   "cell_type": "code",
   "execution_count": 197,
   "id": "moved-boards",
   "metadata": {},
   "outputs": [
    {
     "name": "stdout",
     "output_type": "stream",
     "text": [
      "8\n",
      "2\n",
      "(2, 4)\n"
     ]
    }
   ],
   "source": [
    "a = np.random.randint(1, 10, (2,4))\n",
    "\n",
    "# ilość elementów w tablicy\n",
    "print(a.size)\n",
    "\n",
    "# ilość osi\n",
    "print(a.ndim)\n",
    "\n",
    "# kształt tablicy - wymiary osi \n",
    "print(a.shape)"
   ]
  },
  {
   "cell_type": "markdown",
   "id": "higher-leone",
   "metadata": {},
   "source": [
    "Można przekształcić tablicę jednowymiarową w wielowymiarową przy pomocy metody `reshape`:"
   ]
  },
  {
   "cell_type": "code",
   "execution_count": 198,
   "id": "beginning-inside",
   "metadata": {},
   "outputs": [
    {
     "name": "stdout",
     "output_type": "stream",
     "text": [
      "[0 1 2 3 4 5 6 7]\n",
      "(8,)\n",
      "\n",
      "[[[[0]\n",
      "   [1]]\n",
      "\n",
      "  [[2]\n",
      "   [3]]]\n",
      "\n",
      "\n",
      " [[[4]\n",
      "   [5]]\n",
      "\n",
      "  [[6]\n",
      "   [7]]]]\n",
      "(2, 2, 2, 1)\n"
     ]
    }
   ],
   "source": [
    "a = np.arange(0, 8)\n",
    "print(a)\n",
    "print(a.shape)\n",
    "print()\n",
    "\n",
    "b = a.reshape((2,2,2,1))\n",
    "print(b)\n",
    "print(b.shape)"
   ]
  },
  {
   "cell_type": "markdown",
   "id": "extreme-instrument",
   "metadata": {},
   "source": [
    "Tablicę wielowymiarową można prosto przekształcić w jednowymiarową przy pomocy metody `flatten`"
   ]
  },
  {
   "cell_type": "code",
   "execution_count": 199,
   "id": "single-holly",
   "metadata": {},
   "outputs": [
    {
     "name": "stdout",
     "output_type": "stream",
     "text": [
      "[0 1 2 3 4 5 6 7]\n",
      "(8,)\n"
     ]
    }
   ],
   "source": [
    "c = b.flatten()\n",
    "print(c)\n",
    "print(c.shape)"
   ]
  },
  {
   "cell_type": "markdown",
   "id": "colored-eight",
   "metadata": {},
   "source": [
    "#### Łączenie tablic\n",
    "\n",
    "Można łatwo łączyć ze sobą tablice wielowymiarowe, w zależności od pożądanej osi:"
   ]
  },
  {
   "cell_type": "code",
   "execution_count": 200,
   "id": "according-juvenile",
   "metadata": {},
   "outputs": [
    {
     "name": "stdout",
     "output_type": "stream",
     "text": [
      "oryginalne\n",
      " [[1 2]\n",
      " [3 4]]\n",
      "(2, 2) \n",
      "\n",
      "[[5 6]\n",
      " [7 8]]\n",
      "(2, 2) \n",
      "\n",
      "połączone pionowo \n",
      " [[1 2]\n",
      " [3 4]\n",
      " [5 6]\n",
      " [7 8]]\n",
      "(4, 2) \n",
      "\n",
      "połączone poziomo \n",
      " [[1 2 5 6]\n",
      " [3 4 7 8]]\n",
      "(2, 4) \n",
      "\n"
     ]
    }
   ],
   "source": [
    "a = np.array([[1,2], [3,4]])\n",
    "b = np.array([[5,6], [7,8]])\n",
    "\n",
    "print('oryginalne\\n', a)\n",
    "print(a.shape, '\\n')\n",
    "print(b)\n",
    "print(b.shape, '\\n')\n",
    "\n",
    "# pionowo\n",
    "c = np.vstack((a, b))\n",
    "print('połączone pionowo \\n', c)\n",
    "print(c.shape, '\\n')\n",
    "\n",
    "# poziomo\n",
    "d = np.hstack((a, b))\n",
    "print('połączone poziomo \\n', d)\n",
    "print(d.shape, '\\n')"
   ]
  },
  {
   "cell_type": "markdown",
   "id": "formed-relations",
   "metadata": {},
   "source": [
    "#### Sortowanie"
   ]
  },
  {
   "cell_type": "code",
   "execution_count": 201,
   "id": "front-telescope",
   "metadata": {},
   "outputs": [
    {
     "data": {
      "text/plain": [
       "array([[89, 59,  4],\n",
       "       [15, 91, 98],\n",
       "       [21,  6, 19]])"
      ]
     },
     "execution_count": 201,
     "metadata": {},
     "output_type": "execute_result"
    }
   ],
   "source": [
    "# weźmy losową macierz 3x3\n",
    "a = np.random.randint(1, 100, (3, 3))\n",
    "a"
   ]
  },
  {
   "cell_type": "code",
   "execution_count": 202,
   "id": "framed-coupon",
   "metadata": {},
   "outputs": [
    {
     "data": {
      "text/plain": [
       "array([[ 4, 59, 89],\n",
       "       [15, 91, 98],\n",
       "       [ 6, 19, 21]])"
      ]
     },
     "execution_count": 202,
     "metadata": {},
     "output_type": "execute_result"
    }
   ],
   "source": [
    "# możemy ją posortować przy pomocy funkcji np.sort()\n",
    "b = np.sort(a)\n",
    "b"
   ]
  },
  {
   "cell_type": "code",
   "execution_count": 203,
   "id": "ordered-underwear",
   "metadata": {
    "scrolled": true
   },
   "outputs": [
    {
     "name": "stdout",
     "output_type": "stream",
     "text": [
      "oryginalna \n",
      " [[89 59  4]\n",
      " [15 91 98]\n",
      " [21  6 19]] \n",
      "\n",
      "posortowana kolumnami\n",
      " [[15  6  4]\n",
      " [21 59 19]\n",
      " [89 91 98]] \n",
      "\n",
      "posortowana wierszami \n",
      " [[ 4 59 89]\n",
      " [15 91 98]\n",
      " [ 6 19 21]] \n",
      "\n"
     ]
    }
   ],
   "source": [
    "# defaultowe zachowanie sortuje dane w wierszach\n",
    "# możemy wskazać oś sortowania przy pomocy parametru axis\n",
    "\n",
    "print('oryginalna \\n', a, '\\n')\n",
    "\n",
    "c = np.sort(a, axis=0)\n",
    "print('posortowana kolumnami\\n', c, '\\n')\n",
    "\n",
    "c = np.sort(a, axis=1)\n",
    "print('posortowana wierszami \\n', c, '\\n')"
   ]
  },
  {
   "cell_type": "markdown",
   "id": "included-staff",
   "metadata": {},
   "source": [
    "### Podstawowe operacje matematyczne"
   ]
  },
  {
   "cell_type": "markdown",
   "id": "infectious-intermediate",
   "metadata": {},
   "source": [
    "#### Arytmetyka"
   ]
  },
  {
   "cell_type": "code",
   "execution_count": 227,
   "id": "endangered-dealing",
   "metadata": {},
   "outputs": [
    {
     "name": "stdout",
     "output_type": "stream",
     "text": [
      "[[1 2]\n",
      " [2 2]]\n",
      "[[1 0]\n",
      " [0 3]]\n"
     ]
    }
   ],
   "source": [
    "a = np.array([[1,2], [2,2]])\n",
    "b = np.array([[1,0], [0,3]])\n",
    "\n",
    "print(a)\n",
    "print(b)"
   ]
  },
  {
   "cell_type": "code",
   "execution_count": 228,
   "id": "above-bonus",
   "metadata": {},
   "outputs": [
    {
     "data": {
      "text/plain": [
       "array([[2, 2],\n",
       "       [2, 5]])"
      ]
     },
     "execution_count": 228,
     "metadata": {},
     "output_type": "execute_result"
    }
   ],
   "source": [
    "# dodawanie elementów macierzy\n",
    "a + b"
   ]
  },
  {
   "cell_type": "code",
   "execution_count": 229,
   "id": "adult-reputation",
   "metadata": {},
   "outputs": [
    {
     "data": {
      "text/plain": [
       "array([[1, 0],\n",
       "       [0, 6]])"
      ]
     },
     "execution_count": 229,
     "metadata": {},
     "output_type": "execute_result"
    }
   ],
   "source": [
    "# mnożenie elementów macierzy\n",
    "a * b"
   ]
  },
  {
   "cell_type": "code",
   "execution_count": 230,
   "id": "cheap-concord",
   "metadata": {},
   "outputs": [
    {
     "data": {
      "text/plain": [
       "array([[ 5, 10],\n",
       "       [10, 10]])"
      ]
     },
     "execution_count": 230,
     "metadata": {},
     "output_type": "execute_result"
    }
   ],
   "source": [
    "# mnożenie przez stałą\n",
    "a * 5"
   ]
  },
  {
   "cell_type": "markdown",
   "id": "maritime-sponsorship",
   "metadata": {},
   "source": [
    "#### Agregacje"
   ]
  },
  {
   "cell_type": "code",
   "execution_count": 206,
   "id": "endless-technology",
   "metadata": {},
   "outputs": [
    {
     "data": {
      "text/plain": [
       "array([0, 1, 2, 3, 4, 5, 6, 7, 8, 9])"
      ]
     },
     "execution_count": 206,
     "metadata": {},
     "output_type": "execute_result"
    }
   ],
   "source": [
    "a = np.arange(10)\n",
    "a"
   ]
  },
  {
   "cell_type": "code",
   "execution_count": 207,
   "id": "excited-cylinder",
   "metadata": {},
   "outputs": [
    {
     "data": {
      "text/plain": [
       "45"
      ]
     },
     "execution_count": 207,
     "metadata": {},
     "output_type": "execute_result"
    }
   ],
   "source": [
    "# sumowanie\n",
    "a.sum()"
   ]
  },
  {
   "cell_type": "code",
   "execution_count": 208,
   "id": "entire-bathroom",
   "metadata": {},
   "outputs": [
    {
     "data": {
      "text/plain": [
       "4.5"
      ]
     },
     "execution_count": 208,
     "metadata": {},
     "output_type": "execute_result"
    }
   ],
   "source": [
    "# średnia\n",
    "a.mean()"
   ]
  },
  {
   "cell_type": "code",
   "execution_count": 209,
   "id": "complex-experience",
   "metadata": {},
   "outputs": [
    {
     "data": {
      "text/plain": [
       "9"
      ]
     },
     "execution_count": 209,
     "metadata": {},
     "output_type": "execute_result"
    }
   ],
   "source": [
    "# maksimum (minimum analogicznie)\n",
    "a.max()"
   ]
  },
  {
   "cell_type": "markdown",
   "id": "certified-pendant",
   "metadata": {},
   "source": [
    "Powyższe funkcje przyjmują także argument `axis` określający w której osi wykonać agregację:"
   ]
  },
  {
   "cell_type": "code",
   "execution_count": 233,
   "id": "controversial-machinery",
   "metadata": {},
   "outputs": [
    {
     "data": {
      "text/plain": [
       "array([[3, 4],\n",
       "       [2, 2]])"
      ]
     },
     "execution_count": 233,
     "metadata": {},
     "output_type": "execute_result"
    }
   ],
   "source": [
    "a = np.random.randint(1,10, (2,2))\n",
    "a"
   ]
  },
  {
   "cell_type": "code",
   "execution_count": 234,
   "id": "thirty-motel",
   "metadata": {},
   "outputs": [
    {
     "data": {
      "text/plain": [
       "array([5, 6])"
      ]
     },
     "execution_count": 234,
     "metadata": {},
     "output_type": "execute_result"
    }
   ],
   "source": [
    "a.sum(axis=0)"
   ]
  },
  {
   "cell_type": "code",
   "execution_count": 235,
   "id": "dying-complex",
   "metadata": {},
   "outputs": [
    {
     "data": {
      "text/plain": [
       "array([3.5, 2. ])"
      ]
     },
     "execution_count": 235,
     "metadata": {},
     "output_type": "execute_result"
    }
   ],
   "source": [
    "a.mean(axis=1)"
   ]
  },
  {
   "cell_type": "markdown",
   "id": "split-google",
   "metadata": {},
   "source": [
    "#### Algebra liniowa"
   ]
  },
  {
   "cell_type": "code",
   "execution_count": 240,
   "id": "existing-tolerance",
   "metadata": {},
   "outputs": [
    {
     "data": {
      "text/plain": [
       "array([[ 3, 12],\n",
       "       [ 2,  6]])"
      ]
     },
     "execution_count": 240,
     "metadata": {},
     "output_type": "execute_result"
    }
   ],
   "source": [
    "# mnożenie macierzowe \n",
    "a @ b"
   ]
  },
  {
   "cell_type": "code",
   "execution_count": 241,
   "id": "established-credit",
   "metadata": {},
   "outputs": [
    {
     "data": {
      "text/plain": [
       "array([[3, 2],\n",
       "       [4, 2]])"
      ]
     },
     "execution_count": 241,
     "metadata": {},
     "output_type": "execute_result"
    }
   ],
   "source": [
    "# transpozycja macierzy\n",
    "a.transpose()"
   ]
  },
  {
   "cell_type": "code",
   "execution_count": 242,
   "id": "intense-missouri",
   "metadata": {},
   "outputs": [
    {
     "data": {
      "text/plain": [
       "array([[-1. ,  2. ],\n",
       "       [ 1. , -1.5]])"
      ]
     },
     "execution_count": 242,
     "metadata": {},
     "output_type": "execute_result"
    }
   ],
   "source": [
    "# odwrotność macierzy\n",
    "np.linalg.inv(a)"
   ]
  },
  {
   "cell_type": "code",
   "execution_count": 243,
   "id": "juvenile-company",
   "metadata": {},
   "outputs": [
    {
     "data": {
      "text/plain": [
       "(array([ 5.37228132, -0.37228132]),\n",
       " array([[ 0.86011126, -0.76454754],\n",
       "        [ 0.51010647,  0.64456735]]))"
      ]
     },
     "execution_count": 243,
     "metadata": {},
     "output_type": "execute_result"
    }
   ],
   "source": [
    "# wektor i wartości własne macierzy\n",
    "np.linalg.eig(a)"
   ]
  },
  {
   "cell_type": "markdown",
   "id": "decent-orchestra",
   "metadata": {},
   "source": [
    "``` (hint)\n",
    "Wyżej wymienione mechanizmy to jedynie podstawowe możliwości NumPy. W celu zdobycia szerszej wiedzy z tego zakresu odsyłamy do [tego poradnika](https://numpy.org/doc/stable/numpy-user.pdf).\n",
    "```"
   ]
  },
  {
   "cell_type": "markdown",
   "id": "martial-vienna",
   "metadata": {},
   "source": [
    "## Pandas\n",
    "\n"
   ]
  },
  {
   "cell_type": "code",
   "execution_count": null,
   "id": "constitutional-research",
   "metadata": {},
   "outputs": [],
   "source": []
  }
 ],
 "metadata": {
  "kernelspec": {
   "display_name": "Python 3",
   "language": "python",
   "name": "python3"
  },
  "language_info": {
   "codemirror_mode": {
    "name": "ipython",
    "version": 3
   },
   "file_extension": ".py",
   "mimetype": "text/x-python",
   "name": "python",
   "nbconvert_exporter": "python",
   "pygments_lexer": "ipython3",
   "version": "3.8.6"
  }
 },
 "nbformat": 4,
 "nbformat_minor": 5
}
