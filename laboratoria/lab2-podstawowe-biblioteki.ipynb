{
 "cells": [
  {
   "cell_type": "markdown",
   "id": "southeast-religious",
   "metadata": {},
   "source": [
    "# L2: Podstawowe biblioteki do odkrywania wiedzy"
   ]
  },
  {
   "cell_type": "markdown",
   "id": "atomic-multimedia",
   "metadata": {},
   "source": [
    "## Efekty kształcenia laboratorium\n",
    "---\n",
    "- dowiesz się, jakie są podstawowe i najczęściej używane biblioteki do pracy z danymi\n",
    "- poznasz podstawy biblioteki Numpy\n",
    "- poznasz podstawy biblioteki Pandas\n",
    "- poznasz podstawy biblioteki Matplotlib"
   ]
  },
  {
   "cell_type": "markdown",
   "id": "departmental-classic",
   "metadata": {},
   "source": [
    "## Podstawowe biblioteki w warsztacie Data Science"
   ]
  },
  {
   "cell_type": "markdown",
   "id": "sustained-fairy",
   "metadata": {},
   "source": [
    "| Biblioteka | Zastosowanie | Sensowne alternatywy |\n",
    "| :--- | :--- | :--- |\n",
    "| Numpy | szybkie operacje macierzowe | - |\n",
    "| SciPy | zaawansowana metematyka i statystyka | - |\n",
    "| Pandas | eksploracja i analiza zbiorów danych | - |\n",
    "| Matplotlib | wizualizacja danych | Seaborn, Plotly, Bokeh |\n",
    "| Scikit-learn | preprocessing danych i uczenie maszynowe | - |\n",
    "| Keras | sieci neuronowe i uczenie głębokie | TensorFlow, PyTorch |\n",
    "| Scrapy | scrapowanie stron www | BeautifulSoup |\n",
    "| HuggingFace | modele i datasety NLP | - |"
   ]
  },
  {
   "cell_type": "markdown",
   "id": "intimate-version",
   "metadata": {},
   "source": [
    "<br><br><br><br><br><br><br><br>\n",
    "## Numpy\n",
    "\n",
    "Numpy jest podstawową biblioteką do operacji na macierzach - ich przechowywania, transformacji, zastosowań w algebrze, statystyce itd. Stała się podstawą przetwarzania danych w środowisku Pythona - na niej bazują pozostałe biblioteki, jak Pandas, SciPy czy Scikit-learn.\n",
    "\n",
    "Dzięki implementacji w C oraz intensywnie używanej wektoryzacji, operacje są niezwykle szybkie. "
   ]
  },
  {
   "cell_type": "markdown",
   "id": "worldwide-evening",
   "metadata": {},
   "source": [
    "### Instalacja\n",
    "\n",
    "Numpy instalujemy przy pomocy pip:\n",
    "```\n",
    "pip install numpy\n",
    "```"
   ]
  },
  {
   "cell_type": "markdown",
   "id": "excess-adventure",
   "metadata": {},
   "source": [
    "### ndarray\n",
    "Podstawowym typem danych w Numpy jest `ndarray` - ang. `N-dimentional array` (_tablica N-wymiarowa_). \n",
    "\n",
    "``` {important}\n",
    "Tablice Numpy są jednorodne - tj. wszystkie elementy w tablicy muszą być tego samego typu.\n",
    "```\n",
    "\n",
    "``` {important}\n",
    "Tablice Numpy mają stały rozmiar. Zmiana rozmiaru tablicy usuwa stary i tworzy nowy obiekt.\n",
    "```\n"
   ]
  },
  {
   "cell_type": "markdown",
   "id": "valued-currency",
   "metadata": {},
   "source": [
    "### Tablice jednowymiarowe\n",
    "Tablice jednowymiarowe rozpatrywane być mogą jako pojedynczy rząd lub kolumna danych:\n",
    "![](../docs/lab2/numpy_row_column.png)"
   ]
  },
  {
   "cell_type": "markdown",
   "id": "religious-tennessee",
   "metadata": {},
   "source": [
    "Stworzyć jednowymiarową tablicę możemy na wiele sposobów:"
   ]
  },
  {
   "cell_type": "code",
   "execution_count": 1,
   "id": "specialized-floating",
   "metadata": {},
   "outputs": [],
   "source": [
    "import numpy as np"
   ]
  },
  {
   "cell_type": "code",
   "execution_count": 2,
   "id": "undefined-cheat",
   "metadata": {},
   "outputs": [
    {
     "data": {
      "text/plain": [
       "array([1, 2, 3])"
      ]
     },
     "execution_count": 2,
     "metadata": {},
     "output_type": "execute_result"
    }
   ],
   "source": [
    "# z pythonowej listy\n",
    "np.array([1, 2, 3])"
   ]
  },
  {
   "cell_type": "code",
   "execution_count": 3,
   "id": "concerned-elder",
   "metadata": {},
   "outputs": [
    {
     "data": {
      "text/plain": [
       "array([0., 0., 0., 0., 0.])"
      ]
     },
     "execution_count": 3,
     "metadata": {},
     "output_type": "execute_result"
    }
   ],
   "source": [
    "# z samymi zerami\n",
    "# np.zeros(ELEMENTS_COUNT)\n",
    "np.zeros(5)"
   ]
  },
  {
   "cell_type": "code",
   "execution_count": 4,
   "id": "exciting-toilet",
   "metadata": {},
   "outputs": [
    {
     "data": {
      "text/plain": [
       "array([1., 1., 1., 1.])"
      ]
     },
     "execution_count": 4,
     "metadata": {},
     "output_type": "execute_result"
    }
   ],
   "source": [
    "# z samymi jedynkami\n",
    "# np.ones(ELEMENTS_COUNT)\n",
    "np.ones(4)"
   ]
  },
  {
   "cell_type": "code",
   "execution_count": 5,
   "id": "short-august",
   "metadata": {},
   "outputs": [
    {
     "data": {
      "text/plain": [
       "array([ 5, 10, 15, 20, 25])"
      ]
     },
     "execution_count": 5,
     "metadata": {},
     "output_type": "execute_result"
    }
   ],
   "source": [
    "# z kolejnymi elementami\n",
    "# np.arange(START, STOP, STEP)\n",
    "np.arange(5, 30, 5)"
   ]
  },
  {
   "cell_type": "code",
   "execution_count": 6,
   "id": "round-surface",
   "metadata": {},
   "outputs": [
    {
     "data": {
      "text/plain": [
       "array([3.  , 2.25, 1.5 , 0.75, 0.  ])"
      ]
     },
     "execution_count": 6,
     "metadata": {},
     "output_type": "execute_result"
    }
   ],
   "source": [
    "# z elementami rozłożonymi liniowo\n",
    "# np.linspace(START, STOP, ELEMENTS_COUNT)\n",
    "np.linspace(3, 0, 5)"
   ]
  },
  {
   "cell_type": "code",
   "execution_count": 7,
   "id": "similar-technician",
   "metadata": {},
   "outputs": [
    {
     "data": {
      "text/plain": [
       "array([40, 38, 23])"
      ]
     },
     "execution_count": 7,
     "metadata": {},
     "output_type": "execute_result"
    }
   ],
   "source": [
    "# z losowymi elementami\n",
    "# np.random.randint(START, STOP, ELEMENTS_COUNT)\n",
    "np.random.randint(10, 100, 3)"
   ]
  },
  {
   "cell_type": "code",
   "execution_count": 8,
   "id": "medical-discussion",
   "metadata": {},
   "outputs": [
    {
     "data": {
      "text/plain": [
       "array([2.8956858e-316, 0.0000000e+000, 0.0000000e+000, 0.0000000e+000,\n",
       "       0.0000000e+000, 0.0000000e+000])"
      ]
     },
     "execution_count": 8,
     "metadata": {},
     "output_type": "execute_result"
    }
   ],
   "source": [
    "# pustą\n",
    "# np.empty(ELEMENTS_COUNT)\n",
    "np.empty(6)"
   ]
  },
  {
   "cell_type": "markdown",
   "id": "marked-speech",
   "metadata": {},
   "source": [
    "### Tablice wielowymiarowe\n",
    "Tablice wielowymiarowe możemy rozpatrywać jako tablic jednowymiarowych względem kilku osi:\n",
    "![](../docs/lab2/numpy_multidimentional.png)\n",
    "\n",
    "Tablicę wielowymiarową tworzymy analogicznie do tablic jednowymiarowych:"
   ]
  },
  {
   "cell_type": "code",
   "execution_count": 9,
   "id": "employed-roller",
   "metadata": {},
   "outputs": [
    {
     "data": {
      "text/plain": [
       "array([[16, 11],\n",
       "       [43, 36],\n",
       "       [42, 84]])"
      ]
     },
     "execution_count": 9,
     "metadata": {},
     "output_type": "execute_result"
    }
   ],
   "source": [
    "# w przypadku metod randint, zeros, ones, empty, mozemy podać kształt tablicy\n",
    "np.random.randint(10, 100, (3, 2))"
   ]
  },
  {
   "cell_type": "code",
   "execution_count": 10,
   "id": "dominican-webster",
   "metadata": {},
   "outputs": [
    {
     "data": {
      "text/plain": [
       "array([[ 1.        ,  6.57142857, 12.14285714, 17.71428571],\n",
       "       [23.28571429, 28.85714286, 34.42857143, 40.        ]])"
      ]
     },
     "execution_count": 10,
     "metadata": {},
     "output_type": "execute_result"
    }
   ],
   "source": [
    "# w przypadku metod arange, linspace, generujemy tablicę jednowymiarową i ją przekształcamy - więcej poniżej\n",
    "np.linspace(1, 40, 8).reshape((2, 4))"
   ]
  },
  {
   "cell_type": "markdown",
   "id": "subsequent-steel",
   "metadata": {},
   "source": [
    "### Podstawowe operacje na tablicach"
   ]
  },
  {
   "cell_type": "markdown",
   "id": "interested-sleeping",
   "metadata": {},
   "source": [
    "#### Dostęp do elementów\n",
    "\n",
    "Dla tablic jednowymiarowych możemy stosować wszystkie metody dostępu do elementów znane ze standardowych pythonowych list:"
   ]
  },
  {
   "cell_type": "code",
   "execution_count": 11,
   "id": "assigned-suite",
   "metadata": {},
   "outputs": [
    {
     "name": "stdout",
     "output_type": "stream",
     "text": [
      "(10,)\n"
     ]
    },
    {
     "data": {
      "text/plain": [
       "array([0, 1, 2, 3, 4, 5, 6, 7, 8, 9])"
      ]
     },
     "execution_count": 11,
     "metadata": {},
     "output_type": "execute_result"
    }
   ],
   "source": [
    "a = np.arange(10)\n",
    "print(a.shape)\n",
    "a"
   ]
  },
  {
   "cell_type": "code",
   "execution_count": 12,
   "id": "institutional-coverage",
   "metadata": {},
   "outputs": [
    {
     "data": {
      "text/plain": [
       "4"
      ]
     },
     "execution_count": 12,
     "metadata": {},
     "output_type": "execute_result"
    }
   ],
   "source": [
    "# czwarty element\n",
    "a[4]"
   ]
  },
  {
   "cell_type": "code",
   "execution_count": 13,
   "id": "specific-blind",
   "metadata": {},
   "outputs": [
    {
     "data": {
      "text/plain": [
       "array([5, 6])"
      ]
     },
     "execution_count": 13,
     "metadata": {},
     "output_type": "execute_result"
    }
   ],
   "source": [
    "# elementy od 5 do 7 (rozłącznie)\n",
    "a[5:7]"
   ]
  },
  {
   "cell_type": "code",
   "execution_count": 14,
   "id": "alpha-values",
   "metadata": {},
   "outputs": [
    {
     "data": {
      "text/plain": [
       "array([7, 8, 9])"
      ]
     },
     "execution_count": 14,
     "metadata": {},
     "output_type": "execute_result"
    }
   ],
   "source": [
    "# trzy elementy od tyłu\n",
    "a[-3:]"
   ]
  },
  {
   "cell_type": "code",
   "execution_count": 15,
   "id": "brazilian-nursing",
   "metadata": {},
   "outputs": [
    {
     "data": {
      "text/plain": [
       "array([2, 4, 6])"
      ]
     },
     "execution_count": 15,
     "metadata": {},
     "output_type": "execute_result"
    }
   ],
   "source": [
    "# co drugi element od 2 do 7 (rozłącznie)\n",
    "a[2:7:2]"
   ]
  },
  {
   "cell_type": "markdown",
   "id": "stunning-adams",
   "metadata": {},
   "source": [
    "Dla tablic wielowymiarowych, indeksowanie wygląda bardzo podobnie, z tym że indeksujemy każdą oś osobno"
   ]
  },
  {
   "cell_type": "code",
   "execution_count": 16,
   "id": "veterinary-cartoon",
   "metadata": {},
   "outputs": [
    {
     "name": "stdout",
     "output_type": "stream",
     "text": [
      "(4, 5)\n"
     ]
    },
    {
     "data": {
      "text/plain": [
       "array([[ 0,  1,  2,  3,  4],\n",
       "       [ 5,  6,  7,  8,  9],\n",
       "       [10, 11, 12, 13, 14],\n",
       "       [15, 16, 17, 18, 19]])"
      ]
     },
     "execution_count": 16,
     "metadata": {},
     "output_type": "execute_result"
    }
   ],
   "source": [
    "b = np.arange(20).reshape(4, 5)\n",
    "print(b.shape)\n",
    "b"
   ]
  },
  {
   "cell_type": "code",
   "execution_count": 17,
   "id": "great-cotton",
   "metadata": {},
   "outputs": [
    {
     "data": {
      "text/plain": [
       "7"
      ]
     },
     "execution_count": 17,
     "metadata": {},
     "output_type": "execute_result"
    }
   ],
   "source": [
    "# drugi rząd, trzecia kolumna (indeksowane od zera)\n",
    "b[1, 2]"
   ]
  },
  {
   "cell_type": "code",
   "execution_count": 18,
   "id": "charged-learning",
   "metadata": {},
   "outputs": [
    {
     "data": {
      "text/plain": [
       "array([11, 12, 13])"
      ]
     },
     "execution_count": 18,
     "metadata": {},
     "output_type": "execute_result"
    }
   ],
   "source": [
    "# trzeci rząd, kolumny 2 do 4\n",
    "b[2, 1:4]"
   ]
  },
  {
   "cell_type": "code",
   "execution_count": 19,
   "id": "patient-wrapping",
   "metadata": {},
   "outputs": [
    {
     "data": {
      "text/plain": [
       "array([ 0,  5, 10, 15])"
      ]
     },
     "execution_count": 19,
     "metadata": {},
     "output_type": "execute_result"
    }
   ],
   "source": [
    "# wszystkie rzędy w pierwszej kolumnie:\n",
    "b[:, 0]"
   ]
  },
  {
   "cell_type": "markdown",
   "id": "supposed-kitchen",
   "metadata": {},
   "source": [
    "#### Filtrowanie elementów\n",
    "Bardzo przydatną funkcjonalnością NumPy jest możliwość używania warunków w dostępie do elementów:"
   ]
  },
  {
   "cell_type": "code",
   "execution_count": 20,
   "id": "catholic-convention",
   "metadata": {},
   "outputs": [
    {
     "data": {
      "text/plain": [
       "array([93, 70, 43, 82, 32, 10, 96,  5, 88, 43, 40, 79, 62, 15, 69, 46, 16,\n",
       "       33, 36, 68])"
      ]
     },
     "execution_count": 20,
     "metadata": {},
     "output_type": "execute_result"
    }
   ],
   "source": [
    "a = np.random.randint(0, 100, 20)\n",
    "a"
   ]
  },
  {
   "cell_type": "code",
   "execution_count": 21,
   "id": "worth-liechtenstein",
   "metadata": {},
   "outputs": [
    {
     "data": {
      "text/plain": [
       "array([ True,  True, False,  True, False, False,  True, False,  True,\n",
       "       False, False,  True,  True, False,  True, False, False, False,\n",
       "       False,  True])"
      ]
     },
     "execution_count": 21,
     "metadata": {},
     "output_type": "execute_result"
    }
   ],
   "source": [
    "# użycie tablicy w warunku logicznym zwraca tablicę elementów spełniających dany warunek\n",
    "idx = a > 50\n",
    "idx"
   ]
  },
  {
   "cell_type": "code",
   "execution_count": 22,
   "id": "asian-animation",
   "metadata": {},
   "outputs": [
    {
     "data": {
      "text/plain": [
       "array([93, 70, 82, 96, 88, 79, 62, 69, 68])"
      ]
     },
     "execution_count": 22,
     "metadata": {},
     "output_type": "execute_result"
    }
   ],
   "source": [
    "# możemy użyć tej tablicy do pobrania elementów spełniających warunek\n",
    "a[idx]"
   ]
  },
  {
   "cell_type": "markdown",
   "id": "alone-estate",
   "metadata": {},
   "source": [
    "#### Wymiary i zmiany kształtu\n",
    "\n",
    "Tablica składa się z elementów podzielonych wobec osi o pewnych wymiarach. Można łatwo sprawdzić te wartości przy pomocy:"
   ]
  },
  {
   "cell_type": "code",
   "execution_count": 23,
   "id": "worldwide-specialist",
   "metadata": {},
   "outputs": [
    {
     "name": "stdout",
     "output_type": "stream",
     "text": [
      "8\n",
      "2\n",
      "(2, 4)\n"
     ]
    }
   ],
   "source": [
    "a = np.random.randint(1, 10, (2, 4))\n",
    "\n",
    "# ilość elementów w tablicy\n",
    "print(a.size)\n",
    "\n",
    "# ilość osi\n",
    "print(a.ndim)\n",
    "\n",
    "# kształt tablicy - wymiary osi\n",
    "print(a.shape)"
   ]
  },
  {
   "cell_type": "markdown",
   "id": "laden-smoke",
   "metadata": {},
   "source": [
    "Można przekształcić tablicę jednowymiarową w wielowymiarową przy pomocy metody `reshape`:"
   ]
  },
  {
   "cell_type": "code",
   "execution_count": 24,
   "id": "graphic-butterfly",
   "metadata": {},
   "outputs": [
    {
     "name": "stdout",
     "output_type": "stream",
     "text": [
      "[0 1 2 3 4 5 6 7]\n",
      "(8,)\n",
      "\n",
      "[[[[0]\n",
      "   [1]]\n",
      "\n",
      "  [[2]\n",
      "   [3]]]\n",
      "\n",
      "\n",
      " [[[4]\n",
      "   [5]]\n",
      "\n",
      "  [[6]\n",
      "   [7]]]]\n",
      "(2, 2, 2, 1)\n"
     ]
    }
   ],
   "source": [
    "a = np.arange(0, 8)\n",
    "print(a)\n",
    "print(a.shape)\n",
    "print()\n",
    "\n",
    "b = a.reshape((2, 2, 2, 1))\n",
    "print(b)\n",
    "print(b.shape)"
   ]
  },
  {
   "cell_type": "markdown",
   "id": "postal-notion",
   "metadata": {},
   "source": [
    "Tablicę wielowymiarową można prosto przekształcić w jednowymiarową przy pomocy metody `flatten`"
   ]
  },
  {
   "cell_type": "code",
   "execution_count": 25,
   "id": "cosmetic-receipt",
   "metadata": {},
   "outputs": [
    {
     "name": "stdout",
     "output_type": "stream",
     "text": [
      "[0 1 2 3 4 5 6 7]\n",
      "(8,)\n"
     ]
    }
   ],
   "source": [
    "c = b.flatten()\n",
    "print(c)\n",
    "print(c.shape)"
   ]
  },
  {
   "cell_type": "markdown",
   "id": "nonprofit-yorkshire",
   "metadata": {},
   "source": [
    "#### Łączenie tablic\n",
    "\n",
    "Można łatwo łączyć ze sobą tablice wielowymiarowe, w zależności od pożądanej osi:"
   ]
  },
  {
   "cell_type": "code",
   "execution_count": 26,
   "id": "several-venezuela",
   "metadata": {},
   "outputs": [
    {
     "name": "stdout",
     "output_type": "stream",
     "text": [
      "oryginalne\n",
      " [[1 2]\n",
      " [3 4]]\n",
      "(2, 2) \n",
      "\n",
      "[[5 6]\n",
      " [7 8]]\n",
      "(2, 2) \n",
      "\n",
      "połączone pionowo \n",
      " [[1 2]\n",
      " [3 4]\n",
      " [5 6]\n",
      " [7 8]]\n",
      "(4, 2) \n",
      "\n",
      "połączone poziomo \n",
      " [[1 2 5 6]\n",
      " [3 4 7 8]]\n",
      "(2, 4) \n",
      "\n"
     ]
    }
   ],
   "source": [
    "a = np.array([[1, 2], [3, 4]])\n",
    "b = np.array([[5, 6], [7, 8]])\n",
    "\n",
    "print(\"oryginalne\\n\", a)\n",
    "print(a.shape, \"\\n\")\n",
    "print(b)\n",
    "print(b.shape, \"\\n\")\n",
    "\n",
    "# pionowo\n",
    "c = np.vstack((a, b))\n",
    "print(\"połączone pionowo \\n\", c)\n",
    "print(c.shape, \"\\n\")\n",
    "\n",
    "# poziomo\n",
    "d = np.hstack((a, b))\n",
    "print(\"połączone poziomo \\n\", d)\n",
    "print(d.shape, \"\\n\")"
   ]
  },
  {
   "cell_type": "markdown",
   "id": "fifteen-postage",
   "metadata": {},
   "source": [
    "#### Sortowanie"
   ]
  },
  {
   "cell_type": "code",
   "execution_count": 27,
   "id": "iraqi-organ",
   "metadata": {},
   "outputs": [
    {
     "data": {
      "text/plain": [
       "array([[52, 93, 61],\n",
       "       [77, 37, 39],\n",
       "       [79, 39, 24]])"
      ]
     },
     "execution_count": 27,
     "metadata": {},
     "output_type": "execute_result"
    }
   ],
   "source": [
    "# weźmy losową macierz 3x3\n",
    "a = np.random.randint(1, 100, (3, 3))\n",
    "a"
   ]
  },
  {
   "cell_type": "code",
   "execution_count": 28,
   "id": "conservative-wilson",
   "metadata": {},
   "outputs": [
    {
     "data": {
      "text/plain": [
       "array([[52, 61, 93],\n",
       "       [37, 39, 77],\n",
       "       [24, 39, 79]])"
      ]
     },
     "execution_count": 28,
     "metadata": {},
     "output_type": "execute_result"
    }
   ],
   "source": [
    "# możemy ją posortować przy pomocy funkcji np.sort()\n",
    "b = np.sort(a)\n",
    "b"
   ]
  },
  {
   "cell_type": "code",
   "execution_count": 29,
   "id": "embedded-mills",
   "metadata": {
    "scrolled": true
   },
   "outputs": [
    {
     "name": "stdout",
     "output_type": "stream",
     "text": [
      "oryginalna \n",
      " [[52 93 61]\n",
      " [77 37 39]\n",
      " [79 39 24]] \n",
      "\n",
      "posortowana kolumnami\n",
      " [[52 37 24]\n",
      " [77 39 39]\n",
      " [79 93 61]] \n",
      "\n",
      "posortowana wierszami \n",
      " [[52 61 93]\n",
      " [37 39 77]\n",
      " [24 39 79]] \n",
      "\n"
     ]
    }
   ],
   "source": [
    "# defaultowe zachowanie sortuje dane w wierszach\n",
    "# możemy wskazać oś sortowania przy pomocy parametru axis\n",
    "\n",
    "print(\"oryginalna \\n\", a, \"\\n\")\n",
    "\n",
    "c = np.sort(a, axis=0)\n",
    "print(\"posortowana kolumnami\\n\", c, \"\\n\")\n",
    "\n",
    "c = np.sort(a, axis=1)\n",
    "print(\"posortowana wierszami \\n\", c, \"\\n\")"
   ]
  },
  {
   "cell_type": "markdown",
   "id": "trying-circular",
   "metadata": {},
   "source": [
    "### Podstawowe operacje matematyczne"
   ]
  },
  {
   "cell_type": "markdown",
   "id": "interested-little",
   "metadata": {},
   "source": [
    "#### Arytmetyka"
   ]
  },
  {
   "cell_type": "code",
   "execution_count": 30,
   "id": "coated-conditions",
   "metadata": {},
   "outputs": [
    {
     "name": "stdout",
     "output_type": "stream",
     "text": [
      "[[1 2]\n",
      " [2 2]]\n",
      "[[1 0]\n",
      " [0 3]]\n"
     ]
    }
   ],
   "source": [
    "a = np.array([[1, 2], [2, 2]])\n",
    "b = np.array([[1, 0], [0, 3]])\n",
    "\n",
    "print(a)\n",
    "print(b)"
   ]
  },
  {
   "cell_type": "code",
   "execution_count": 31,
   "id": "reflected-hindu",
   "metadata": {},
   "outputs": [
    {
     "data": {
      "text/plain": [
       "array([[2, 2],\n",
       "       [2, 5]])"
      ]
     },
     "execution_count": 31,
     "metadata": {},
     "output_type": "execute_result"
    }
   ],
   "source": [
    "# dodawanie elementów macierzy\n",
    "a + b"
   ]
  },
  {
   "cell_type": "code",
   "execution_count": 32,
   "id": "wireless-doctor",
   "metadata": {},
   "outputs": [
    {
     "data": {
      "text/plain": [
       "array([[1, 0],\n",
       "       [0, 6]])"
      ]
     },
     "execution_count": 32,
     "metadata": {},
     "output_type": "execute_result"
    }
   ],
   "source": [
    "# mnożenie elementów macierzy\n",
    "a * b"
   ]
  },
  {
   "cell_type": "code",
   "execution_count": 33,
   "id": "artificial-occasion",
   "metadata": {},
   "outputs": [
    {
     "data": {
      "text/plain": [
       "array([[ 5, 10],\n",
       "       [10, 10]])"
      ]
     },
     "execution_count": 33,
     "metadata": {},
     "output_type": "execute_result"
    }
   ],
   "source": [
    "# mnożenie przez stałą\n",
    "a * 5"
   ]
  },
  {
   "cell_type": "markdown",
   "id": "excited-writer",
   "metadata": {},
   "source": [
    "#### Agregacje"
   ]
  },
  {
   "cell_type": "code",
   "execution_count": 34,
   "id": "stone-topic",
   "metadata": {},
   "outputs": [
    {
     "data": {
      "text/plain": [
       "array([0, 1, 2, 3, 4, 5, 6, 7, 8, 9])"
      ]
     },
     "execution_count": 34,
     "metadata": {},
     "output_type": "execute_result"
    }
   ],
   "source": [
    "a = np.arange(10)\n",
    "a"
   ]
  },
  {
   "cell_type": "code",
   "execution_count": 35,
   "id": "reliable-emerald",
   "metadata": {},
   "outputs": [
    {
     "data": {
      "text/plain": [
       "45"
      ]
     },
     "execution_count": 35,
     "metadata": {},
     "output_type": "execute_result"
    }
   ],
   "source": [
    "# sumowanie\n",
    "a.sum()"
   ]
  },
  {
   "cell_type": "code",
   "execution_count": 36,
   "id": "usual-february",
   "metadata": {},
   "outputs": [
    {
     "data": {
      "text/plain": [
       "4.5"
      ]
     },
     "execution_count": 36,
     "metadata": {},
     "output_type": "execute_result"
    }
   ],
   "source": [
    "# średnia\n",
    "a.mean()"
   ]
  },
  {
   "cell_type": "code",
   "execution_count": 37,
   "id": "potential-westminster",
   "metadata": {},
   "outputs": [
    {
     "data": {
      "text/plain": [
       "9"
      ]
     },
     "execution_count": 37,
     "metadata": {},
     "output_type": "execute_result"
    }
   ],
   "source": [
    "# maksimum (minimum analogicznie)\n",
    "a.max()"
   ]
  },
  {
   "cell_type": "markdown",
   "id": "systematic-protest",
   "metadata": {},
   "source": [
    "Powyższe funkcje przyjmują także argument `axis` określający w której osi wykonać agregację:"
   ]
  },
  {
   "cell_type": "code",
   "execution_count": 38,
   "id": "complimentary-glance",
   "metadata": {},
   "outputs": [
    {
     "data": {
      "text/plain": [
       "array([[2, 8],\n",
       "       [7, 9]])"
      ]
     },
     "execution_count": 38,
     "metadata": {},
     "output_type": "execute_result"
    }
   ],
   "source": [
    "a = np.random.randint(1, 10, (2, 2))\n",
    "a"
   ]
  },
  {
   "cell_type": "code",
   "execution_count": 39,
   "id": "sealed-infection",
   "metadata": {},
   "outputs": [
    {
     "data": {
      "text/plain": [
       "array([ 9, 17])"
      ]
     },
     "execution_count": 39,
     "metadata": {},
     "output_type": "execute_result"
    }
   ],
   "source": [
    "a.sum(axis=0)"
   ]
  },
  {
   "cell_type": "code",
   "execution_count": 40,
   "id": "exceptional-integral",
   "metadata": {},
   "outputs": [
    {
     "data": {
      "text/plain": [
       "array([5., 8.])"
      ]
     },
     "execution_count": 40,
     "metadata": {},
     "output_type": "execute_result"
    }
   ],
   "source": [
    "a.mean(axis=1)"
   ]
  },
  {
   "cell_type": "markdown",
   "id": "joined-calvin",
   "metadata": {},
   "source": [
    "#### Algebra liniowa"
   ]
  },
  {
   "cell_type": "code",
   "execution_count": 41,
   "id": "consolidated-execution",
   "metadata": {},
   "outputs": [
    {
     "data": {
      "text/plain": [
       "array([[ 2, 24],\n",
       "       [ 7, 27]])"
      ]
     },
     "execution_count": 41,
     "metadata": {},
     "output_type": "execute_result"
    }
   ],
   "source": [
    "# mnożenie macierzowe\n",
    "a @ b"
   ]
  },
  {
   "cell_type": "code",
   "execution_count": 42,
   "id": "active-document",
   "metadata": {},
   "outputs": [
    {
     "data": {
      "text/plain": [
       "array([[2, 7],\n",
       "       [8, 9]])"
      ]
     },
     "execution_count": 42,
     "metadata": {},
     "output_type": "execute_result"
    }
   ],
   "source": [
    "# transpozycja macierzy\n",
    "a.transpose()"
   ]
  },
  {
   "cell_type": "code",
   "execution_count": 43,
   "id": "bored-planning",
   "metadata": {},
   "outputs": [
    {
     "data": {
      "text/plain": [
       "array([[-0.23684211,  0.21052632],\n",
       "       [ 0.18421053, -0.05263158]])"
      ]
     },
     "execution_count": 43,
     "metadata": {},
     "output_type": "execute_result"
    }
   ],
   "source": [
    "# odwrotność macierzy\n",
    "np.linalg.inv(a)"
   ]
  },
  {
   "cell_type": "code",
   "execution_count": 44,
   "id": "minimal-communication",
   "metadata": {},
   "outputs": [
    {
     "data": {
      "text/plain": [
       "EigResult(eigenvalues=array([-2.76135582, 13.76135582]), eigenvectors=array([[-0.8593188 , -0.56241953],\n",
       "       [ 0.51144032, -0.82685203]]))"
      ]
     },
     "execution_count": 44,
     "metadata": {},
     "output_type": "execute_result"
    }
   ],
   "source": [
    "# wektor i wartości własne macierzy\n",
    "np.linalg.eig(a)"
   ]
  },
  {
   "cell_type": "markdown",
   "id": "official-flexibility",
   "metadata": {},
   "source": [
    "### Broadcasting"
   ]
  },
  {
   "cell_type": "markdown",
   "id": "complete-density",
   "metadata": {},
   "source": [
    "Numpy również potrafi pod pewnymi warunkami wykonywać operacje na tablicach o różnych wymiarach. Mniejsza z tablic jest \"powielana\" wzdłuż większej tablicy, aby sprowidzić ją do tych samych wymiarów. Operacja nie powoduje kopiowania, a jest oparte o odpowiednie indeksowane.\n",
    "\n"
   ]
  },
  {
   "cell_type": "markdown",
   "id": "matched-supply",
   "metadata": {},
   "source": [
    "#### Przykłady"
   ]
  },
  {
   "cell_type": "code",
   "execution_count": 45,
   "id": "subsequent-terrace",
   "metadata": {},
   "outputs": [
    {
     "data": {
      "text/plain": [
       "(array([[ 2,  0],\n",
       "        [ 0, 24]]),\n",
       " (2, 2))"
      ]
     },
     "execution_count": 45,
     "metadata": {},
     "output_type": "execute_result"
    }
   ],
   "source": [
    "c = a[0] * b\n",
    "c, c.shape"
   ]
  },
  {
   "cell_type": "code",
   "execution_count": 46,
   "id": "subjective-while",
   "metadata": {},
   "outputs": [
    {
     "data": {
      "text/plain": [
       "array([[1., 1.],\n",
       "       [2., 2.]])"
      ]
     },
     "execution_count": 46,
     "metadata": {},
     "output_type": "execute_result"
    }
   ],
   "source": [
    "a = np.arange(2).reshape(2, 1)\n",
    "b = np.ones(2)\n",
    "\n",
    "a + b"
   ]
  },
  {
   "cell_type": "markdown",
   "id": "proper-professional",
   "metadata": {},
   "source": [
    "#### Przykłady niepoprawne"
   ]
  },
  {
   "cell_type": "code",
   "execution_count": 47,
   "id": "understood-sharp",
   "metadata": {},
   "outputs": [],
   "source": [
    "# a = np.arange(2)\n",
    "# b = np.ones(3)\n",
    "\n",
    "# a * b"
   ]
  },
  {
   "cell_type": "code",
   "execution_count": 48,
   "id": "secure-australia",
   "metadata": {},
   "outputs": [],
   "source": [
    "# a = np.arange(4).reshape(2, 2)\n",
    "# b = np.ones(shape=(3,3))\n",
    "\n",
    "# a / b"
   ]
  },
  {
   "cell_type": "markdown",
   "id": "prospective-degree",
   "metadata": {},
   "source": [
    "```{seealso} \n",
    "Więcej szczegółów dotyczących broadcastingu znajdziecie w dokumentacji pod adresem https://numpy.org/doc/stable/user/basics.broadcasting.html\n",
    "```"
   ]
  },
  {
   "cell_type": "markdown",
   "id": "coral-sweet",
   "metadata": {},
   "source": [
    "```{seealso}\n",
    "Wyżej wymienione mechanizmy to jedynie podstawowe możliwości NumPy. W celu zdobycia szerszej wiedzy z tego zakresu odsyłamy do [tego poradnika](https://numpy.org/doc/stable/numpy-user.pdf).\n",
    "```"
   ]
  },
  {
   "cell_type": "markdown",
   "id": "signed-fishing",
   "metadata": {},
   "source": [
    "<br><br><br><br><br><br><br><br>\n",
    "\n",
    "## Pandas\n",
    "\n",
    "Pandas oferuje wygodny interfejs, struktury danych i metody do obsługi poetykietowanych zbiorów danych. Jest to podstawowa biblioteka do manipulacji danymi w większości projektów Data Science.\n",
    "\n",
    "### Instalacja\n",
    "\n",
    "Pandas standardowo instalujemy przy pomocy pip:\n",
    "```\n",
    "pip install pandas\n",
    "```\n",
    "\n",
    "### Struktury danych\n",
    "\n",
    "#### Series\n",
    "\n",
    "Podstawową strukturą danych Pandasa jest `Series`. Można ją traktować jako jednowymiarową kolumnę danych, z indeksami. "
   ]
  },
  {
   "cell_type": "code",
   "execution_count": 49,
   "id": "honest-villa",
   "metadata": {},
   "outputs": [],
   "source": [
    "import pandas as pd"
   ]
  },
  {
   "cell_type": "code",
   "execution_count": 50,
   "id": "civic-experiment",
   "metadata": {},
   "outputs": [
    {
     "data": {
      "text/plain": [
       "0     1\n",
       "1    31\n",
       "2     5\n",
       "3    12\n",
       "4     6\n",
       "5    18\n",
       "dtype: int64"
      ]
     },
     "execution_count": 50,
     "metadata": {},
     "output_type": "execute_result"
    }
   ],
   "source": [
    "s = pd.Series([1, 31, 5, 12, 6, 18])\n",
    "s"
   ]
  },
  {
   "cell_type": "markdown",
   "id": "demonstrated-payroll",
   "metadata": {},
   "source": [
    "Alternatywnie, możemy podać też indeksy:"
   ]
  },
  {
   "cell_type": "code",
   "execution_count": 51,
   "id": "secondary-poverty",
   "metadata": {},
   "outputs": [
    {
     "data": {
      "text/plain": [
       "a    5\n",
       "b    7\n",
       "c    1\n",
       "d    5\n",
       "e    9\n",
       "dtype: int64"
      ]
     },
     "execution_count": 51,
     "metadata": {},
     "output_type": "execute_result"
    }
   ],
   "source": [
    "s = pd.Series(np.random.randint(1, 10, 5), index=[\"a\", \"b\", \"c\", \"d\", \"e\"])\n",
    "s"
   ]
  },
  {
   "cell_type": "markdown",
   "id": "convenient-miller",
   "metadata": {},
   "source": [
    "#### DataFrame\n",
    "DataFrame jest dwuwymiarową strukturą, rozumianą jako złożenie serii (kolumn) danych. "
   ]
  },
  {
   "cell_type": "code",
   "execution_count": 52,
   "id": "norman-potential",
   "metadata": {},
   "outputs": [
    {
     "data": {
      "text/html": [
       "<div>\n",
       "<style scoped>\n",
       "    .dataframe tbody tr th:only-of-type {\n",
       "        vertical-align: middle;\n",
       "    }\n",
       "\n",
       "    .dataframe tbody tr th {\n",
       "        vertical-align: top;\n",
       "    }\n",
       "\n",
       "    .dataframe thead th {\n",
       "        text-align: right;\n",
       "    }\n",
       "</style>\n",
       "<table border=\"1\" class=\"dataframe\">\n",
       "  <thead>\n",
       "    <tr style=\"text-align: right;\">\n",
       "      <th></th>\n",
       "      <th>one</th>\n",
       "      <th>two</th>\n",
       "    </tr>\n",
       "  </thead>\n",
       "  <tbody>\n",
       "    <tr>\n",
       "      <th>a</th>\n",
       "      <td>1.0</td>\n",
       "      <td>7.0</td>\n",
       "    </tr>\n",
       "    <tr>\n",
       "      <th>b</th>\n",
       "      <td>2.0</td>\n",
       "      <td>6.0</td>\n",
       "    </tr>\n",
       "    <tr>\n",
       "      <th>c</th>\n",
       "      <td>3.0</td>\n",
       "      <td>5.0</td>\n",
       "    </tr>\n",
       "    <tr>\n",
       "      <th>d</th>\n",
       "      <td>NaN</td>\n",
       "      <td>4.0</td>\n",
       "    </tr>\n",
       "  </tbody>\n",
       "</table>\n",
       "</div>"
      ],
      "text/plain": [
       "   one  two\n",
       "a  1.0  7.0\n",
       "b  2.0  6.0\n",
       "c  3.0  5.0\n",
       "d  NaN  4.0"
      ]
     },
     "execution_count": 52,
     "metadata": {},
     "output_type": "execute_result"
    }
   ],
   "source": [
    "df = pd.DataFrame(\n",
    "    {\n",
    "        \"one\": pd.Series([1.0, 2.0, 3.0], index=[\"a\", \"b\", \"c\"]),\n",
    "        \"two\": pd.Series([7.0, 6.0, 5.0, 4.0], index=[\"a\", \"b\", \"c\", \"d\"]),\n",
    "    }\n",
    ")\n",
    "df"
   ]
  },
  {
   "cell_type": "markdown",
   "id": "neutral-shanghai",
   "metadata": {},
   "source": [
    "```{seealso}\n",
    "DataFrame może być stworzony na wiele różnych sposóbów - przy pomocy list, dictów, tupli itd. Po więcej informacji i przykładów tworzenia DataFrame odsyłamy (do dokumentacji)[https://pandas.pydata.org/docs/user_guide/dsintro.html#dataframe]\n",
    "```"
   ]
  },
  {
   "cell_type": "markdown",
   "id": "international-solomon",
   "metadata": {},
   "source": [
    "### Wczytywanie CSV\n",
    "\n",
    "Pandas udostępnia prosty interfejs do wczytania zbioru danych z pliku. Wczytajmy zbiór danych Iris Flowers:"
   ]
  },
  {
   "cell_type": "code",
   "execution_count": 53,
   "id": "alike-twenty",
   "metadata": {},
   "outputs": [
    {
     "data": {
      "text/html": [
       "<div>\n",
       "<style scoped>\n",
       "    .dataframe tbody tr th:only-of-type {\n",
       "        vertical-align: middle;\n",
       "    }\n",
       "\n",
       "    .dataframe tbody tr th {\n",
       "        vertical-align: top;\n",
       "    }\n",
       "\n",
       "    .dataframe thead th {\n",
       "        text-align: right;\n",
       "    }\n",
       "</style>\n",
       "<table border=\"1\" class=\"dataframe\">\n",
       "  <thead>\n",
       "    <tr style=\"text-align: right;\">\n",
       "      <th></th>\n",
       "      <th>sepal length</th>\n",
       "      <th>sepal width</th>\n",
       "      <th>petal length</th>\n",
       "      <th>petal width</th>\n",
       "      <th>class</th>\n",
       "    </tr>\n",
       "  </thead>\n",
       "  <tbody>\n",
       "    <tr>\n",
       "      <th>0</th>\n",
       "      <td>5.1</td>\n",
       "      <td>3.5</td>\n",
       "      <td>1.4</td>\n",
       "      <td>0.2</td>\n",
       "      <td>Iris-setosa</td>\n",
       "    </tr>\n",
       "    <tr>\n",
       "      <th>1</th>\n",
       "      <td>4.9</td>\n",
       "      <td>3.0</td>\n",
       "      <td>1.4</td>\n",
       "      <td>0.2</td>\n",
       "      <td>Iris-setosa</td>\n",
       "    </tr>\n",
       "    <tr>\n",
       "      <th>2</th>\n",
       "      <td>4.7</td>\n",
       "      <td>3.2</td>\n",
       "      <td>1.3</td>\n",
       "      <td>0.2</td>\n",
       "      <td>Iris-setosa</td>\n",
       "    </tr>\n",
       "    <tr>\n",
       "      <th>3</th>\n",
       "      <td>4.6</td>\n",
       "      <td>3.1</td>\n",
       "      <td>1.5</td>\n",
       "      <td>0.2</td>\n",
       "      <td>Iris-setosa</td>\n",
       "    </tr>\n",
       "    <tr>\n",
       "      <th>4</th>\n",
       "      <td>5.0</td>\n",
       "      <td>3.6</td>\n",
       "      <td>1.4</td>\n",
       "      <td>0.2</td>\n",
       "      <td>Iris-setosa</td>\n",
       "    </tr>\n",
       "  </tbody>\n",
       "</table>\n",
       "</div>"
      ],
      "text/plain": [
       "   sepal length  sepal width  petal length  petal width        class\n",
       "0           5.1          3.5           1.4          0.2  Iris-setosa\n",
       "1           4.9          3.0           1.4          0.2  Iris-setosa\n",
       "2           4.7          3.2           1.3          0.2  Iris-setosa\n",
       "3           4.6          3.1           1.5          0.2  Iris-setosa\n",
       "4           5.0          3.6           1.4          0.2  Iris-setosa"
      ]
     },
     "execution_count": 53,
     "metadata": {},
     "output_type": "execute_result"
    }
   ],
   "source": [
    "df = pd.read_csv(\"../docs/lab2/iris.data\")\n",
    "df.head()"
   ]
  },
  {
   "cell_type": "markdown",
   "id": "allied-chess",
   "metadata": {},
   "source": [
    "```{hint}\n",
    "Zapis DataFrame do formatu CSV jest równie prosty - `df.to_csv(PATH)`\n",
    "```\n",
    "\n",
    "```{hint}\n",
    "Analogicznie można wczytać i zapisać inne formaty danych - JSON, Excel, SQL, HDF i inne\n",
    "```"
   ]
  },
  {
   "cell_type": "markdown",
   "id": "mighty-termination",
   "metadata": {},
   "source": [
    "### Dostęp do elementów"
   ]
  },
  {
   "cell_type": "code",
   "execution_count": 54,
   "id": "divided-tourism",
   "metadata": {},
   "outputs": [
    {
     "data": {
      "text/plain": [
       "0      0.2\n",
       "1      0.2\n",
       "2      0.2\n",
       "3      0.2\n",
       "4      0.2\n",
       "      ... \n",
       "145    2.3\n",
       "146    1.9\n",
       "147    2.0\n",
       "148    2.3\n",
       "149    1.8\n",
       "Name: petal width, Length: 150, dtype: float64"
      ]
     },
     "execution_count": 54,
     "metadata": {},
     "output_type": "execute_result"
    }
   ],
   "source": [
    "# przy pomocy nazwy kolumny, pobieramy całą serię\n",
    "\n",
    "df[\"petal width\"]"
   ]
  },
  {
   "cell_type": "code",
   "execution_count": 55,
   "id": "suited-valuation",
   "metadata": {},
   "outputs": [
    {
     "data": {
      "text/plain": [
       "sepal length            4.3\n",
       "sepal width             3.0\n",
       "petal length            1.1\n",
       "petal width             0.1\n",
       "class           Iris-setosa\n",
       "Name: 13, dtype: object"
      ]
     },
     "execution_count": 55,
     "metadata": {},
     "output_type": "execute_result"
    }
   ],
   "source": [
    "# by pobrać dany wiersz, posługujemy się metodami:\n",
    "#  - df.loc[LABEL] - by pobrać wg etykiety indeksu\n",
    "# . - df.iloc[NUMBER] - by pobrac wg. numeru wiersza\n",
    "df.iloc[13]"
   ]
  },
  {
   "cell_type": "code",
   "execution_count": 56,
   "id": "former-backup",
   "metadata": {},
   "outputs": [
    {
     "data": {
      "text/html": [
       "<div>\n",
       "<style scoped>\n",
       "    .dataframe tbody tr th:only-of-type {\n",
       "        vertical-align: middle;\n",
       "    }\n",
       "\n",
       "    .dataframe tbody tr th {\n",
       "        vertical-align: top;\n",
       "    }\n",
       "\n",
       "    .dataframe thead th {\n",
       "        text-align: right;\n",
       "    }\n",
       "</style>\n",
       "<table border=\"1\" class=\"dataframe\">\n",
       "  <thead>\n",
       "    <tr style=\"text-align: right;\">\n",
       "      <th></th>\n",
       "      <th>sepal length</th>\n",
       "      <th>sepal width</th>\n",
       "      <th>petal length</th>\n",
       "      <th>petal width</th>\n",
       "      <th>class</th>\n",
       "    </tr>\n",
       "  </thead>\n",
       "  <tbody>\n",
       "    <tr>\n",
       "      <th>12</th>\n",
       "      <td>4.8</td>\n",
       "      <td>3.0</td>\n",
       "      <td>1.4</td>\n",
       "      <td>0.1</td>\n",
       "      <td>Iris-setosa</td>\n",
       "    </tr>\n",
       "    <tr>\n",
       "      <th>13</th>\n",
       "      <td>4.3</td>\n",
       "      <td>3.0</td>\n",
       "      <td>1.1</td>\n",
       "      <td>0.1</td>\n",
       "      <td>Iris-setosa</td>\n",
       "    </tr>\n",
       "    <tr>\n",
       "      <th>14</th>\n",
       "      <td>5.8</td>\n",
       "      <td>4.0</td>\n",
       "      <td>1.2</td>\n",
       "      <td>0.2</td>\n",
       "      <td>Iris-setosa</td>\n",
       "    </tr>\n",
       "  </tbody>\n",
       "</table>\n",
       "</div>"
      ],
      "text/plain": [
       "    sepal length  sepal width  petal length  petal width        class\n",
       "12           4.8          3.0           1.4          0.1  Iris-setosa\n",
       "13           4.3          3.0           1.1          0.1  Iris-setosa\n",
       "14           5.8          4.0           1.2          0.2  Iris-setosa"
      ]
     },
     "execution_count": 56,
     "metadata": {},
     "output_type": "execute_result"
    }
   ],
   "source": [
    "# możemy także używac zakresów wierszy w stylu NumPy\n",
    "df[12:15]"
   ]
  },
  {
   "cell_type": "code",
   "execution_count": 57,
   "id": "welsh-water",
   "metadata": {},
   "outputs": [
    {
     "data": {
      "text/html": [
       "<div>\n",
       "<style scoped>\n",
       "    .dataframe tbody tr th:only-of-type {\n",
       "        vertical-align: middle;\n",
       "    }\n",
       "\n",
       "    .dataframe tbody tr th {\n",
       "        vertical-align: top;\n",
       "    }\n",
       "\n",
       "    .dataframe thead th {\n",
       "        text-align: right;\n",
       "    }\n",
       "</style>\n",
       "<table border=\"1\" class=\"dataframe\">\n",
       "  <thead>\n",
       "    <tr style=\"text-align: right;\">\n",
       "      <th></th>\n",
       "      <th>sepal length</th>\n",
       "      <th>sepal width</th>\n",
       "      <th>petal length</th>\n",
       "      <th>petal width</th>\n",
       "      <th>class</th>\n",
       "    </tr>\n",
       "  </thead>\n",
       "  <tbody>\n",
       "    <tr>\n",
       "      <th>0</th>\n",
       "      <td>5.1</td>\n",
       "      <td>3.5</td>\n",
       "      <td>1.4</td>\n",
       "      <td>0.2</td>\n",
       "      <td>Iris-setosa</td>\n",
       "    </tr>\n",
       "    <tr>\n",
       "      <th>1</th>\n",
       "      <td>4.9</td>\n",
       "      <td>3.0</td>\n",
       "      <td>1.4</td>\n",
       "      <td>0.2</td>\n",
       "      <td>Iris-setosa</td>\n",
       "    </tr>\n",
       "    <tr>\n",
       "      <th>2</th>\n",
       "      <td>4.7</td>\n",
       "      <td>3.2</td>\n",
       "      <td>1.3</td>\n",
       "      <td>0.2</td>\n",
       "      <td>Iris-setosa</td>\n",
       "    </tr>\n",
       "    <tr>\n",
       "      <th>3</th>\n",
       "      <td>4.6</td>\n",
       "      <td>3.1</td>\n",
       "      <td>1.5</td>\n",
       "      <td>0.2</td>\n",
       "      <td>Iris-setosa</td>\n",
       "    </tr>\n",
       "    <tr>\n",
       "      <th>4</th>\n",
       "      <td>5.0</td>\n",
       "      <td>3.6</td>\n",
       "      <td>1.4</td>\n",
       "      <td>0.2</td>\n",
       "      <td>Iris-setosa</td>\n",
       "    </tr>\n",
       "    <tr>\n",
       "      <th>5</th>\n",
       "      <td>5.4</td>\n",
       "      <td>3.9</td>\n",
       "      <td>1.7</td>\n",
       "      <td>0.4</td>\n",
       "      <td>Iris-setosa</td>\n",
       "    </tr>\n",
       "    <tr>\n",
       "      <th>6</th>\n",
       "      <td>4.6</td>\n",
       "      <td>3.4</td>\n",
       "      <td>1.4</td>\n",
       "      <td>0.3</td>\n",
       "      <td>Iris-setosa</td>\n",
       "    </tr>\n",
       "    <tr>\n",
       "      <th>7</th>\n",
       "      <td>5.0</td>\n",
       "      <td>3.4</td>\n",
       "      <td>1.5</td>\n",
       "      <td>0.2</td>\n",
       "      <td>Iris-setosa</td>\n",
       "    </tr>\n",
       "    <tr>\n",
       "      <th>8</th>\n",
       "      <td>4.4</td>\n",
       "      <td>2.9</td>\n",
       "      <td>1.4</td>\n",
       "      <td>0.2</td>\n",
       "      <td>Iris-setosa</td>\n",
       "    </tr>\n",
       "    <tr>\n",
       "      <th>9</th>\n",
       "      <td>4.9</td>\n",
       "      <td>3.1</td>\n",
       "      <td>1.5</td>\n",
       "      <td>0.1</td>\n",
       "      <td>Iris-setosa</td>\n",
       "    </tr>\n",
       "    <tr>\n",
       "      <th>10</th>\n",
       "      <td>5.4</td>\n",
       "      <td>3.7</td>\n",
       "      <td>1.5</td>\n",
       "      <td>0.2</td>\n",
       "      <td>Iris-setosa</td>\n",
       "    </tr>\n",
       "    <tr>\n",
       "      <th>11</th>\n",
       "      <td>4.8</td>\n",
       "      <td>3.4</td>\n",
       "      <td>1.6</td>\n",
       "      <td>0.2</td>\n",
       "      <td>Iris-setosa</td>\n",
       "    </tr>\n",
       "    <tr>\n",
       "      <th>12</th>\n",
       "      <td>4.8</td>\n",
       "      <td>3.0</td>\n",
       "      <td>1.4</td>\n",
       "      <td>0.1</td>\n",
       "      <td>Iris-setosa</td>\n",
       "    </tr>\n",
       "    <tr>\n",
       "      <th>13</th>\n",
       "      <td>4.3</td>\n",
       "      <td>3.0</td>\n",
       "      <td>1.1</td>\n",
       "      <td>0.1</td>\n",
       "      <td>Iris-setosa</td>\n",
       "    </tr>\n",
       "    <tr>\n",
       "      <th>14</th>\n",
       "      <td>5.8</td>\n",
       "      <td>4.0</td>\n",
       "      <td>1.2</td>\n",
       "      <td>0.2</td>\n",
       "      <td>Iris-setosa</td>\n",
       "    </tr>\n",
       "    <tr>\n",
       "      <th>15</th>\n",
       "      <td>5.7</td>\n",
       "      <td>4.4</td>\n",
       "      <td>1.5</td>\n",
       "      <td>0.4</td>\n",
       "      <td>Iris-setosa</td>\n",
       "    </tr>\n",
       "    <tr>\n",
       "      <th>16</th>\n",
       "      <td>5.4</td>\n",
       "      <td>3.9</td>\n",
       "      <td>1.3</td>\n",
       "      <td>0.4</td>\n",
       "      <td>Iris-setosa</td>\n",
       "    </tr>\n",
       "    <tr>\n",
       "      <th>17</th>\n",
       "      <td>5.1</td>\n",
       "      <td>3.5</td>\n",
       "      <td>1.4</td>\n",
       "      <td>0.3</td>\n",
       "      <td>Iris-setosa</td>\n",
       "    </tr>\n",
       "    <tr>\n",
       "      <th>18</th>\n",
       "      <td>5.7</td>\n",
       "      <td>3.8</td>\n",
       "      <td>1.7</td>\n",
       "      <td>0.3</td>\n",
       "      <td>Iris-setosa</td>\n",
       "    </tr>\n",
       "    <tr>\n",
       "      <th>19</th>\n",
       "      <td>5.1</td>\n",
       "      <td>3.8</td>\n",
       "      <td>1.5</td>\n",
       "      <td>0.3</td>\n",
       "      <td>Iris-setosa</td>\n",
       "    </tr>\n",
       "    <tr>\n",
       "      <th>20</th>\n",
       "      <td>5.4</td>\n",
       "      <td>3.4</td>\n",
       "      <td>1.7</td>\n",
       "      <td>0.2</td>\n",
       "      <td>Iris-setosa</td>\n",
       "    </tr>\n",
       "    <tr>\n",
       "      <th>21</th>\n",
       "      <td>5.1</td>\n",
       "      <td>3.7</td>\n",
       "      <td>1.5</td>\n",
       "      <td>0.4</td>\n",
       "      <td>Iris-setosa</td>\n",
       "    </tr>\n",
       "    <tr>\n",
       "      <th>22</th>\n",
       "      <td>4.6</td>\n",
       "      <td>3.6</td>\n",
       "      <td>1.0</td>\n",
       "      <td>0.2</td>\n",
       "      <td>Iris-setosa</td>\n",
       "    </tr>\n",
       "    <tr>\n",
       "      <th>23</th>\n",
       "      <td>5.1</td>\n",
       "      <td>3.3</td>\n",
       "      <td>1.7</td>\n",
       "      <td>0.5</td>\n",
       "      <td>Iris-setosa</td>\n",
       "    </tr>\n",
       "    <tr>\n",
       "      <th>24</th>\n",
       "      <td>4.8</td>\n",
       "      <td>3.4</td>\n",
       "      <td>1.9</td>\n",
       "      <td>0.2</td>\n",
       "      <td>Iris-setosa</td>\n",
       "    </tr>\n",
       "    <tr>\n",
       "      <th>25</th>\n",
       "      <td>5.0</td>\n",
       "      <td>3.0</td>\n",
       "      <td>1.6</td>\n",
       "      <td>0.2</td>\n",
       "      <td>Iris-setosa</td>\n",
       "    </tr>\n",
       "    <tr>\n",
       "      <th>26</th>\n",
       "      <td>5.0</td>\n",
       "      <td>3.4</td>\n",
       "      <td>1.6</td>\n",
       "      <td>0.4</td>\n",
       "      <td>Iris-setosa</td>\n",
       "    </tr>\n",
       "    <tr>\n",
       "      <th>27</th>\n",
       "      <td>5.2</td>\n",
       "      <td>3.5</td>\n",
       "      <td>1.5</td>\n",
       "      <td>0.2</td>\n",
       "      <td>Iris-setosa</td>\n",
       "    </tr>\n",
       "    <tr>\n",
       "      <th>28</th>\n",
       "      <td>5.2</td>\n",
       "      <td>3.4</td>\n",
       "      <td>1.4</td>\n",
       "      <td>0.2</td>\n",
       "      <td>Iris-setosa</td>\n",
       "    </tr>\n",
       "    <tr>\n",
       "      <th>29</th>\n",
       "      <td>4.7</td>\n",
       "      <td>3.2</td>\n",
       "      <td>1.6</td>\n",
       "      <td>0.2</td>\n",
       "      <td>Iris-setosa</td>\n",
       "    </tr>\n",
       "    <tr>\n",
       "      <th>30</th>\n",
       "      <td>4.8</td>\n",
       "      <td>3.1</td>\n",
       "      <td>1.6</td>\n",
       "      <td>0.2</td>\n",
       "      <td>Iris-setosa</td>\n",
       "    </tr>\n",
       "    <tr>\n",
       "      <th>31</th>\n",
       "      <td>5.4</td>\n",
       "      <td>3.4</td>\n",
       "      <td>1.5</td>\n",
       "      <td>0.4</td>\n",
       "      <td>Iris-setosa</td>\n",
       "    </tr>\n",
       "    <tr>\n",
       "      <th>32</th>\n",
       "      <td>5.2</td>\n",
       "      <td>4.1</td>\n",
       "      <td>1.5</td>\n",
       "      <td>0.1</td>\n",
       "      <td>Iris-setosa</td>\n",
       "    </tr>\n",
       "    <tr>\n",
       "      <th>33</th>\n",
       "      <td>5.5</td>\n",
       "      <td>4.2</td>\n",
       "      <td>1.4</td>\n",
       "      <td>0.2</td>\n",
       "      <td>Iris-setosa</td>\n",
       "    </tr>\n",
       "    <tr>\n",
       "      <th>34</th>\n",
       "      <td>4.9</td>\n",
       "      <td>3.1</td>\n",
       "      <td>1.5</td>\n",
       "      <td>0.1</td>\n",
       "      <td>Iris-setosa</td>\n",
       "    </tr>\n",
       "    <tr>\n",
       "      <th>35</th>\n",
       "      <td>5.0</td>\n",
       "      <td>3.2</td>\n",
       "      <td>1.2</td>\n",
       "      <td>0.2</td>\n",
       "      <td>Iris-setosa</td>\n",
       "    </tr>\n",
       "    <tr>\n",
       "      <th>36</th>\n",
       "      <td>5.5</td>\n",
       "      <td>3.5</td>\n",
       "      <td>1.3</td>\n",
       "      <td>0.2</td>\n",
       "      <td>Iris-setosa</td>\n",
       "    </tr>\n",
       "    <tr>\n",
       "      <th>37</th>\n",
       "      <td>4.9</td>\n",
       "      <td>3.1</td>\n",
       "      <td>1.5</td>\n",
       "      <td>0.1</td>\n",
       "      <td>Iris-setosa</td>\n",
       "    </tr>\n",
       "    <tr>\n",
       "      <th>38</th>\n",
       "      <td>4.4</td>\n",
       "      <td>3.0</td>\n",
       "      <td>1.3</td>\n",
       "      <td>0.2</td>\n",
       "      <td>Iris-setosa</td>\n",
       "    </tr>\n",
       "    <tr>\n",
       "      <th>39</th>\n",
       "      <td>5.1</td>\n",
       "      <td>3.4</td>\n",
       "      <td>1.5</td>\n",
       "      <td>0.2</td>\n",
       "      <td>Iris-setosa</td>\n",
       "    </tr>\n",
       "    <tr>\n",
       "      <th>40</th>\n",
       "      <td>5.0</td>\n",
       "      <td>3.5</td>\n",
       "      <td>1.3</td>\n",
       "      <td>0.3</td>\n",
       "      <td>Iris-setosa</td>\n",
       "    </tr>\n",
       "    <tr>\n",
       "      <th>41</th>\n",
       "      <td>4.5</td>\n",
       "      <td>2.3</td>\n",
       "      <td>1.3</td>\n",
       "      <td>0.3</td>\n",
       "      <td>Iris-setosa</td>\n",
       "    </tr>\n",
       "    <tr>\n",
       "      <th>42</th>\n",
       "      <td>4.4</td>\n",
       "      <td>3.2</td>\n",
       "      <td>1.3</td>\n",
       "      <td>0.2</td>\n",
       "      <td>Iris-setosa</td>\n",
       "    </tr>\n",
       "    <tr>\n",
       "      <th>43</th>\n",
       "      <td>5.0</td>\n",
       "      <td>3.5</td>\n",
       "      <td>1.6</td>\n",
       "      <td>0.6</td>\n",
       "      <td>Iris-setosa</td>\n",
       "    </tr>\n",
       "    <tr>\n",
       "      <th>44</th>\n",
       "      <td>5.1</td>\n",
       "      <td>3.8</td>\n",
       "      <td>1.9</td>\n",
       "      <td>0.4</td>\n",
       "      <td>Iris-setosa</td>\n",
       "    </tr>\n",
       "    <tr>\n",
       "      <th>45</th>\n",
       "      <td>4.8</td>\n",
       "      <td>3.0</td>\n",
       "      <td>1.4</td>\n",
       "      <td>0.3</td>\n",
       "      <td>Iris-setosa</td>\n",
       "    </tr>\n",
       "    <tr>\n",
       "      <th>46</th>\n",
       "      <td>5.1</td>\n",
       "      <td>3.8</td>\n",
       "      <td>1.6</td>\n",
       "      <td>0.2</td>\n",
       "      <td>Iris-setosa</td>\n",
       "    </tr>\n",
       "    <tr>\n",
       "      <th>47</th>\n",
       "      <td>4.6</td>\n",
       "      <td>3.2</td>\n",
       "      <td>1.4</td>\n",
       "      <td>0.2</td>\n",
       "      <td>Iris-setosa</td>\n",
       "    </tr>\n",
       "    <tr>\n",
       "      <th>48</th>\n",
       "      <td>5.3</td>\n",
       "      <td>3.7</td>\n",
       "      <td>1.5</td>\n",
       "      <td>0.2</td>\n",
       "      <td>Iris-setosa</td>\n",
       "    </tr>\n",
       "    <tr>\n",
       "      <th>49</th>\n",
       "      <td>5.0</td>\n",
       "      <td>3.3</td>\n",
       "      <td>1.4</td>\n",
       "      <td>0.2</td>\n",
       "      <td>Iris-setosa</td>\n",
       "    </tr>\n",
       "  </tbody>\n",
       "</table>\n",
       "</div>"
      ],
      "text/plain": [
       "    sepal length  sepal width  petal length  petal width        class\n",
       "0            5.1          3.5           1.4          0.2  Iris-setosa\n",
       "1            4.9          3.0           1.4          0.2  Iris-setosa\n",
       "2            4.7          3.2           1.3          0.2  Iris-setosa\n",
       "3            4.6          3.1           1.5          0.2  Iris-setosa\n",
       "4            5.0          3.6           1.4          0.2  Iris-setosa\n",
       "5            5.4          3.9           1.7          0.4  Iris-setosa\n",
       "6            4.6          3.4           1.4          0.3  Iris-setosa\n",
       "7            5.0          3.4           1.5          0.2  Iris-setosa\n",
       "8            4.4          2.9           1.4          0.2  Iris-setosa\n",
       "9            4.9          3.1           1.5          0.1  Iris-setosa\n",
       "10           5.4          3.7           1.5          0.2  Iris-setosa\n",
       "11           4.8          3.4           1.6          0.2  Iris-setosa\n",
       "12           4.8          3.0           1.4          0.1  Iris-setosa\n",
       "13           4.3          3.0           1.1          0.1  Iris-setosa\n",
       "14           5.8          4.0           1.2          0.2  Iris-setosa\n",
       "15           5.7          4.4           1.5          0.4  Iris-setosa\n",
       "16           5.4          3.9           1.3          0.4  Iris-setosa\n",
       "17           5.1          3.5           1.4          0.3  Iris-setosa\n",
       "18           5.7          3.8           1.7          0.3  Iris-setosa\n",
       "19           5.1          3.8           1.5          0.3  Iris-setosa\n",
       "20           5.4          3.4           1.7          0.2  Iris-setosa\n",
       "21           5.1          3.7           1.5          0.4  Iris-setosa\n",
       "22           4.6          3.6           1.0          0.2  Iris-setosa\n",
       "23           5.1          3.3           1.7          0.5  Iris-setosa\n",
       "24           4.8          3.4           1.9          0.2  Iris-setosa\n",
       "25           5.0          3.0           1.6          0.2  Iris-setosa\n",
       "26           5.0          3.4           1.6          0.4  Iris-setosa\n",
       "27           5.2          3.5           1.5          0.2  Iris-setosa\n",
       "28           5.2          3.4           1.4          0.2  Iris-setosa\n",
       "29           4.7          3.2           1.6          0.2  Iris-setosa\n",
       "30           4.8          3.1           1.6          0.2  Iris-setosa\n",
       "31           5.4          3.4           1.5          0.4  Iris-setosa\n",
       "32           5.2          4.1           1.5          0.1  Iris-setosa\n",
       "33           5.5          4.2           1.4          0.2  Iris-setosa\n",
       "34           4.9          3.1           1.5          0.1  Iris-setosa\n",
       "35           5.0          3.2           1.2          0.2  Iris-setosa\n",
       "36           5.5          3.5           1.3          0.2  Iris-setosa\n",
       "37           4.9          3.1           1.5          0.1  Iris-setosa\n",
       "38           4.4          3.0           1.3          0.2  Iris-setosa\n",
       "39           5.1          3.4           1.5          0.2  Iris-setosa\n",
       "40           5.0          3.5           1.3          0.3  Iris-setosa\n",
       "41           4.5          2.3           1.3          0.3  Iris-setosa\n",
       "42           4.4          3.2           1.3          0.2  Iris-setosa\n",
       "43           5.0          3.5           1.6          0.6  Iris-setosa\n",
       "44           5.1          3.8           1.9          0.4  Iris-setosa\n",
       "45           4.8          3.0           1.4          0.3  Iris-setosa\n",
       "46           5.1          3.8           1.6          0.2  Iris-setosa\n",
       "47           4.6          3.2           1.4          0.2  Iris-setosa\n",
       "48           5.3          3.7           1.5          0.2  Iris-setosa\n",
       "49           5.0          3.3           1.4          0.2  Iris-setosa"
      ]
     },
     "execution_count": 57,
     "metadata": {},
     "output_type": "execute_result"
    }
   ],
   "source": [
    "# Pandas implementuje także filtrowanie boolowskie znane z NumPy\n",
    "df[df[\"class\"] == \"Iris-setosa\"]"
   ]
  },
  {
   "cell_type": "markdown",
   "id": "married-ivory",
   "metadata": {},
   "source": [
    "### Sortowanie"
   ]
  },
  {
   "cell_type": "code",
   "execution_count": 58,
   "id": "useful-rebound",
   "metadata": {},
   "outputs": [
    {
     "data": {
      "text/html": [
       "<div>\n",
       "<style scoped>\n",
       "    .dataframe tbody tr th:only-of-type {\n",
       "        vertical-align: middle;\n",
       "    }\n",
       "\n",
       "    .dataframe tbody tr th {\n",
       "        vertical-align: top;\n",
       "    }\n",
       "\n",
       "    .dataframe thead th {\n",
       "        text-align: right;\n",
       "    }\n",
       "</style>\n",
       "<table border=\"1\" class=\"dataframe\">\n",
       "  <thead>\n",
       "    <tr style=\"text-align: right;\">\n",
       "      <th></th>\n",
       "      <th>sepal length</th>\n",
       "      <th>sepal width</th>\n",
       "      <th>petal length</th>\n",
       "      <th>petal width</th>\n",
       "      <th>class</th>\n",
       "    </tr>\n",
       "  </thead>\n",
       "  <tbody>\n",
       "    <tr>\n",
       "      <th>149</th>\n",
       "      <td>5.9</td>\n",
       "      <td>3.0</td>\n",
       "      <td>5.1</td>\n",
       "      <td>1.8</td>\n",
       "      <td>Iris-virginica</td>\n",
       "    </tr>\n",
       "    <tr>\n",
       "      <th>148</th>\n",
       "      <td>6.2</td>\n",
       "      <td>3.4</td>\n",
       "      <td>5.4</td>\n",
       "      <td>2.3</td>\n",
       "      <td>Iris-virginica</td>\n",
       "    </tr>\n",
       "    <tr>\n",
       "      <th>147</th>\n",
       "      <td>6.5</td>\n",
       "      <td>3.0</td>\n",
       "      <td>5.2</td>\n",
       "      <td>2.0</td>\n",
       "      <td>Iris-virginica</td>\n",
       "    </tr>\n",
       "    <tr>\n",
       "      <th>146</th>\n",
       "      <td>6.3</td>\n",
       "      <td>2.5</td>\n",
       "      <td>5.0</td>\n",
       "      <td>1.9</td>\n",
       "      <td>Iris-virginica</td>\n",
       "    </tr>\n",
       "    <tr>\n",
       "      <th>145</th>\n",
       "      <td>6.7</td>\n",
       "      <td>3.0</td>\n",
       "      <td>5.2</td>\n",
       "      <td>2.3</td>\n",
       "      <td>Iris-virginica</td>\n",
       "    </tr>\n",
       "    <tr>\n",
       "      <th>...</th>\n",
       "      <td>...</td>\n",
       "      <td>...</td>\n",
       "      <td>...</td>\n",
       "      <td>...</td>\n",
       "      <td>...</td>\n",
       "    </tr>\n",
       "    <tr>\n",
       "      <th>4</th>\n",
       "      <td>5.0</td>\n",
       "      <td>3.6</td>\n",
       "      <td>1.4</td>\n",
       "      <td>0.2</td>\n",
       "      <td>Iris-setosa</td>\n",
       "    </tr>\n",
       "    <tr>\n",
       "      <th>3</th>\n",
       "      <td>4.6</td>\n",
       "      <td>3.1</td>\n",
       "      <td>1.5</td>\n",
       "      <td>0.2</td>\n",
       "      <td>Iris-setosa</td>\n",
       "    </tr>\n",
       "    <tr>\n",
       "      <th>2</th>\n",
       "      <td>4.7</td>\n",
       "      <td>3.2</td>\n",
       "      <td>1.3</td>\n",
       "      <td>0.2</td>\n",
       "      <td>Iris-setosa</td>\n",
       "    </tr>\n",
       "    <tr>\n",
       "      <th>1</th>\n",
       "      <td>4.9</td>\n",
       "      <td>3.0</td>\n",
       "      <td>1.4</td>\n",
       "      <td>0.2</td>\n",
       "      <td>Iris-setosa</td>\n",
       "    </tr>\n",
       "    <tr>\n",
       "      <th>0</th>\n",
       "      <td>5.1</td>\n",
       "      <td>3.5</td>\n",
       "      <td>1.4</td>\n",
       "      <td>0.2</td>\n",
       "      <td>Iris-setosa</td>\n",
       "    </tr>\n",
       "  </tbody>\n",
       "</table>\n",
       "<p>150 rows × 5 columns</p>\n",
       "</div>"
      ],
      "text/plain": [
       "     sepal length  sepal width  petal length  petal width           class\n",
       "149           5.9          3.0           5.1          1.8  Iris-virginica\n",
       "148           6.2          3.4           5.4          2.3  Iris-virginica\n",
       "147           6.5          3.0           5.2          2.0  Iris-virginica\n",
       "146           6.3          2.5           5.0          1.9  Iris-virginica\n",
       "145           6.7          3.0           5.2          2.3  Iris-virginica\n",
       "..            ...          ...           ...          ...             ...\n",
       "4             5.0          3.6           1.4          0.2     Iris-setosa\n",
       "3             4.6          3.1           1.5          0.2     Iris-setosa\n",
       "2             4.7          3.2           1.3          0.2     Iris-setosa\n",
       "1             4.9          3.0           1.4          0.2     Iris-setosa\n",
       "0             5.1          3.5           1.4          0.2     Iris-setosa\n",
       "\n",
       "[150 rows x 5 columns]"
      ]
     },
     "execution_count": 58,
     "metadata": {},
     "output_type": "execute_result"
    }
   ],
   "source": [
    "# DataFrame możemy posortować wg indeksów\n",
    "df.sort_index(axis=0, ascending=False)"
   ]
  },
  {
   "cell_type": "code",
   "execution_count": 59,
   "id": "handy-external",
   "metadata": {},
   "outputs": [
    {
     "data": {
      "text/html": [
       "<div>\n",
       "<style scoped>\n",
       "    .dataframe tbody tr th:only-of-type {\n",
       "        vertical-align: middle;\n",
       "    }\n",
       "\n",
       "    .dataframe tbody tr th {\n",
       "        vertical-align: top;\n",
       "    }\n",
       "\n",
       "    .dataframe thead th {\n",
       "        text-align: right;\n",
       "    }\n",
       "</style>\n",
       "<table border=\"1\" class=\"dataframe\">\n",
       "  <thead>\n",
       "    <tr style=\"text-align: right;\">\n",
       "      <th></th>\n",
       "      <th>class</th>\n",
       "      <th>petal length</th>\n",
       "      <th>petal width</th>\n",
       "      <th>sepal length</th>\n",
       "      <th>sepal width</th>\n",
       "    </tr>\n",
       "  </thead>\n",
       "  <tbody>\n",
       "    <tr>\n",
       "      <th>0</th>\n",
       "      <td>Iris-setosa</td>\n",
       "      <td>1.4</td>\n",
       "      <td>0.2</td>\n",
       "      <td>5.1</td>\n",
       "      <td>3.5</td>\n",
       "    </tr>\n",
       "    <tr>\n",
       "      <th>1</th>\n",
       "      <td>Iris-setosa</td>\n",
       "      <td>1.4</td>\n",
       "      <td>0.2</td>\n",
       "      <td>4.9</td>\n",
       "      <td>3.0</td>\n",
       "    </tr>\n",
       "    <tr>\n",
       "      <th>2</th>\n",
       "      <td>Iris-setosa</td>\n",
       "      <td>1.3</td>\n",
       "      <td>0.2</td>\n",
       "      <td>4.7</td>\n",
       "      <td>3.2</td>\n",
       "    </tr>\n",
       "    <tr>\n",
       "      <th>3</th>\n",
       "      <td>Iris-setosa</td>\n",
       "      <td>1.5</td>\n",
       "      <td>0.2</td>\n",
       "      <td>4.6</td>\n",
       "      <td>3.1</td>\n",
       "    </tr>\n",
       "    <tr>\n",
       "      <th>4</th>\n",
       "      <td>Iris-setosa</td>\n",
       "      <td>1.4</td>\n",
       "      <td>0.2</td>\n",
       "      <td>5.0</td>\n",
       "      <td>3.6</td>\n",
       "    </tr>\n",
       "    <tr>\n",
       "      <th>...</th>\n",
       "      <td>...</td>\n",
       "      <td>...</td>\n",
       "      <td>...</td>\n",
       "      <td>...</td>\n",
       "      <td>...</td>\n",
       "    </tr>\n",
       "    <tr>\n",
       "      <th>145</th>\n",
       "      <td>Iris-virginica</td>\n",
       "      <td>5.2</td>\n",
       "      <td>2.3</td>\n",
       "      <td>6.7</td>\n",
       "      <td>3.0</td>\n",
       "    </tr>\n",
       "    <tr>\n",
       "      <th>146</th>\n",
       "      <td>Iris-virginica</td>\n",
       "      <td>5.0</td>\n",
       "      <td>1.9</td>\n",
       "      <td>6.3</td>\n",
       "      <td>2.5</td>\n",
       "    </tr>\n",
       "    <tr>\n",
       "      <th>147</th>\n",
       "      <td>Iris-virginica</td>\n",
       "      <td>5.2</td>\n",
       "      <td>2.0</td>\n",
       "      <td>6.5</td>\n",
       "      <td>3.0</td>\n",
       "    </tr>\n",
       "    <tr>\n",
       "      <th>148</th>\n",
       "      <td>Iris-virginica</td>\n",
       "      <td>5.4</td>\n",
       "      <td>2.3</td>\n",
       "      <td>6.2</td>\n",
       "      <td>3.4</td>\n",
       "    </tr>\n",
       "    <tr>\n",
       "      <th>149</th>\n",
       "      <td>Iris-virginica</td>\n",
       "      <td>5.1</td>\n",
       "      <td>1.8</td>\n",
       "      <td>5.9</td>\n",
       "      <td>3.0</td>\n",
       "    </tr>\n",
       "  </tbody>\n",
       "</table>\n",
       "<p>150 rows × 5 columns</p>\n",
       "</div>"
      ],
      "text/plain": [
       "              class  petal length  petal width  sepal length  sepal width\n",
       "0       Iris-setosa           1.4          0.2           5.1          3.5\n",
       "1       Iris-setosa           1.4          0.2           4.9          3.0\n",
       "2       Iris-setosa           1.3          0.2           4.7          3.2\n",
       "3       Iris-setosa           1.5          0.2           4.6          3.1\n",
       "4       Iris-setosa           1.4          0.2           5.0          3.6\n",
       "..              ...           ...          ...           ...          ...\n",
       "145  Iris-virginica           5.2          2.3           6.7          3.0\n",
       "146  Iris-virginica           5.0          1.9           6.3          2.5\n",
       "147  Iris-virginica           5.2          2.0           6.5          3.0\n",
       "148  Iris-virginica           5.4          2.3           6.2          3.4\n",
       "149  Iris-virginica           5.1          1.8           5.9          3.0\n",
       "\n",
       "[150 rows x 5 columns]"
      ]
     },
     "execution_count": 59,
     "metadata": {},
     "output_type": "execute_result"
    }
   ],
   "source": [
    "# lub według kolumn\n",
    "df.sort_index(axis=1)"
   ]
  },
  {
   "cell_type": "code",
   "execution_count": 60,
   "id": "mighty-hammer",
   "metadata": {},
   "outputs": [
    {
     "data": {
      "text/html": [
       "<div>\n",
       "<style scoped>\n",
       "    .dataframe tbody tr th:only-of-type {\n",
       "        vertical-align: middle;\n",
       "    }\n",
       "\n",
       "    .dataframe tbody tr th {\n",
       "        vertical-align: top;\n",
       "    }\n",
       "\n",
       "    .dataframe thead th {\n",
       "        text-align: right;\n",
       "    }\n",
       "</style>\n",
       "<table border=\"1\" class=\"dataframe\">\n",
       "  <thead>\n",
       "    <tr style=\"text-align: right;\">\n",
       "      <th></th>\n",
       "      <th>sepal length</th>\n",
       "      <th>sepal width</th>\n",
       "      <th>petal length</th>\n",
       "      <th>petal width</th>\n",
       "      <th>class</th>\n",
       "    </tr>\n",
       "  </thead>\n",
       "  <tbody>\n",
       "    <tr>\n",
       "      <th>32</th>\n",
       "      <td>5.2</td>\n",
       "      <td>4.1</td>\n",
       "      <td>1.5</td>\n",
       "      <td>0.1</td>\n",
       "      <td>Iris-setosa</td>\n",
       "    </tr>\n",
       "    <tr>\n",
       "      <th>13</th>\n",
       "      <td>4.3</td>\n",
       "      <td>3.0</td>\n",
       "      <td>1.1</td>\n",
       "      <td>0.1</td>\n",
       "      <td>Iris-setosa</td>\n",
       "    </tr>\n",
       "    <tr>\n",
       "      <th>37</th>\n",
       "      <td>4.9</td>\n",
       "      <td>3.1</td>\n",
       "      <td>1.5</td>\n",
       "      <td>0.1</td>\n",
       "      <td>Iris-setosa</td>\n",
       "    </tr>\n",
       "    <tr>\n",
       "      <th>9</th>\n",
       "      <td>4.9</td>\n",
       "      <td>3.1</td>\n",
       "      <td>1.5</td>\n",
       "      <td>0.1</td>\n",
       "      <td>Iris-setosa</td>\n",
       "    </tr>\n",
       "    <tr>\n",
       "      <th>12</th>\n",
       "      <td>4.8</td>\n",
       "      <td>3.0</td>\n",
       "      <td>1.4</td>\n",
       "      <td>0.1</td>\n",
       "      <td>Iris-setosa</td>\n",
       "    </tr>\n",
       "    <tr>\n",
       "      <th>...</th>\n",
       "      <td>...</td>\n",
       "      <td>...</td>\n",
       "      <td>...</td>\n",
       "      <td>...</td>\n",
       "      <td>...</td>\n",
       "    </tr>\n",
       "    <tr>\n",
       "      <th>140</th>\n",
       "      <td>6.7</td>\n",
       "      <td>3.1</td>\n",
       "      <td>5.6</td>\n",
       "      <td>2.4</td>\n",
       "      <td>Iris-virginica</td>\n",
       "    </tr>\n",
       "    <tr>\n",
       "      <th>114</th>\n",
       "      <td>5.8</td>\n",
       "      <td>2.8</td>\n",
       "      <td>5.1</td>\n",
       "      <td>2.4</td>\n",
       "      <td>Iris-virginica</td>\n",
       "    </tr>\n",
       "    <tr>\n",
       "      <th>100</th>\n",
       "      <td>6.3</td>\n",
       "      <td>3.3</td>\n",
       "      <td>6.0</td>\n",
       "      <td>2.5</td>\n",
       "      <td>Iris-virginica</td>\n",
       "    </tr>\n",
       "    <tr>\n",
       "      <th>144</th>\n",
       "      <td>6.7</td>\n",
       "      <td>3.3</td>\n",
       "      <td>5.7</td>\n",
       "      <td>2.5</td>\n",
       "      <td>Iris-virginica</td>\n",
       "    </tr>\n",
       "    <tr>\n",
       "      <th>109</th>\n",
       "      <td>7.2</td>\n",
       "      <td>3.6</td>\n",
       "      <td>6.1</td>\n",
       "      <td>2.5</td>\n",
       "      <td>Iris-virginica</td>\n",
       "    </tr>\n",
       "  </tbody>\n",
       "</table>\n",
       "<p>150 rows × 5 columns</p>\n",
       "</div>"
      ],
      "text/plain": [
       "     sepal length  sepal width  petal length  petal width           class\n",
       "32            5.2          4.1           1.5          0.1     Iris-setosa\n",
       "13            4.3          3.0           1.1          0.1     Iris-setosa\n",
       "37            4.9          3.1           1.5          0.1     Iris-setosa\n",
       "9             4.9          3.1           1.5          0.1     Iris-setosa\n",
       "12            4.8          3.0           1.4          0.1     Iris-setosa\n",
       "..            ...          ...           ...          ...             ...\n",
       "140           6.7          3.1           5.6          2.4  Iris-virginica\n",
       "114           5.8          2.8           5.1          2.4  Iris-virginica\n",
       "100           6.3          3.3           6.0          2.5  Iris-virginica\n",
       "144           6.7          3.3           5.7          2.5  Iris-virginica\n",
       "109           7.2          3.6           6.1          2.5  Iris-virginica\n",
       "\n",
       "[150 rows x 5 columns]"
      ]
     },
     "execution_count": 60,
     "metadata": {},
     "output_type": "execute_result"
    }
   ],
   "source": [
    "# a także wg wartości\n",
    "df.sort_values(by=\"petal width\")"
   ]
  },
  {
   "cell_type": "markdown",
   "id": "documentary-projection",
   "metadata": {},
   "source": [
    "### Apply\n",
    "\n",
    "Niezwykle przydatną funkcjonalnością jest możliwość aplikowania funkcji do danych. Przydaje się to np. do tworzenia nowych kolumn:"
   ]
  },
  {
   "cell_type": "code",
   "execution_count": 61,
   "id": "painful-office",
   "metadata": {},
   "outputs": [
    {
     "data": {
      "text/html": [
       "<div>\n",
       "<style scoped>\n",
       "    .dataframe tbody tr th:only-of-type {\n",
       "        vertical-align: middle;\n",
       "    }\n",
       "\n",
       "    .dataframe tbody tr th {\n",
       "        vertical-align: top;\n",
       "    }\n",
       "\n",
       "    .dataframe thead th {\n",
       "        text-align: right;\n",
       "    }\n",
       "</style>\n",
       "<table border=\"1\" class=\"dataframe\">\n",
       "  <thead>\n",
       "    <tr style=\"text-align: right;\">\n",
       "      <th></th>\n",
       "      <th>sepal length</th>\n",
       "      <th>sepal width</th>\n",
       "      <th>petal length</th>\n",
       "      <th>petal width</th>\n",
       "      <th>class</th>\n",
       "      <th>high sepal ratio</th>\n",
       "    </tr>\n",
       "  </thead>\n",
       "  <tbody>\n",
       "    <tr>\n",
       "      <th>0</th>\n",
       "      <td>5.1</td>\n",
       "      <td>3.5</td>\n",
       "      <td>1.4</td>\n",
       "      <td>0.2</td>\n",
       "      <td>Iris-setosa</td>\n",
       "      <td>False</td>\n",
       "    </tr>\n",
       "    <tr>\n",
       "      <th>1</th>\n",
       "      <td>4.9</td>\n",
       "      <td>3.0</td>\n",
       "      <td>1.4</td>\n",
       "      <td>0.2</td>\n",
       "      <td>Iris-setosa</td>\n",
       "      <td>False</td>\n",
       "    </tr>\n",
       "    <tr>\n",
       "      <th>2</th>\n",
       "      <td>4.7</td>\n",
       "      <td>3.2</td>\n",
       "      <td>1.3</td>\n",
       "      <td>0.2</td>\n",
       "      <td>Iris-setosa</td>\n",
       "      <td>False</td>\n",
       "    </tr>\n",
       "    <tr>\n",
       "      <th>3</th>\n",
       "      <td>4.6</td>\n",
       "      <td>3.1</td>\n",
       "      <td>1.5</td>\n",
       "      <td>0.2</td>\n",
       "      <td>Iris-setosa</td>\n",
       "      <td>False</td>\n",
       "    </tr>\n",
       "    <tr>\n",
       "      <th>4</th>\n",
       "      <td>5.0</td>\n",
       "      <td>3.6</td>\n",
       "      <td>1.4</td>\n",
       "      <td>0.2</td>\n",
       "      <td>Iris-setosa</td>\n",
       "      <td>False</td>\n",
       "    </tr>\n",
       "    <tr>\n",
       "      <th>...</th>\n",
       "      <td>...</td>\n",
       "      <td>...</td>\n",
       "      <td>...</td>\n",
       "      <td>...</td>\n",
       "      <td>...</td>\n",
       "      <td>...</td>\n",
       "    </tr>\n",
       "    <tr>\n",
       "      <th>145</th>\n",
       "      <td>6.7</td>\n",
       "      <td>3.0</td>\n",
       "      <td>5.2</td>\n",
       "      <td>2.3</td>\n",
       "      <td>Iris-virginica</td>\n",
       "      <td>True</td>\n",
       "    </tr>\n",
       "    <tr>\n",
       "      <th>146</th>\n",
       "      <td>6.3</td>\n",
       "      <td>2.5</td>\n",
       "      <td>5.0</td>\n",
       "      <td>1.9</td>\n",
       "      <td>Iris-virginica</td>\n",
       "      <td>True</td>\n",
       "    </tr>\n",
       "    <tr>\n",
       "      <th>147</th>\n",
       "      <td>6.5</td>\n",
       "      <td>3.0</td>\n",
       "      <td>5.2</td>\n",
       "      <td>2.0</td>\n",
       "      <td>Iris-virginica</td>\n",
       "      <td>True</td>\n",
       "    </tr>\n",
       "    <tr>\n",
       "      <th>148</th>\n",
       "      <td>6.2</td>\n",
       "      <td>3.4</td>\n",
       "      <td>5.4</td>\n",
       "      <td>2.3</td>\n",
       "      <td>Iris-virginica</td>\n",
       "      <td>False</td>\n",
       "    </tr>\n",
       "    <tr>\n",
       "      <th>149</th>\n",
       "      <td>5.9</td>\n",
       "      <td>3.0</td>\n",
       "      <td>5.1</td>\n",
       "      <td>1.8</td>\n",
       "      <td>Iris-virginica</td>\n",
       "      <td>False</td>\n",
       "    </tr>\n",
       "  </tbody>\n",
       "</table>\n",
       "<p>150 rows × 6 columns</p>\n",
       "</div>"
      ],
      "text/plain": [
       "     sepal length  sepal width  petal length  petal width           class  \\\n",
       "0             5.1          3.5           1.4          0.2     Iris-setosa   \n",
       "1             4.9          3.0           1.4          0.2     Iris-setosa   \n",
       "2             4.7          3.2           1.3          0.2     Iris-setosa   \n",
       "3             4.6          3.1           1.5          0.2     Iris-setosa   \n",
       "4             5.0          3.6           1.4          0.2     Iris-setosa   \n",
       "..            ...          ...           ...          ...             ...   \n",
       "145           6.7          3.0           5.2          2.3  Iris-virginica   \n",
       "146           6.3          2.5           5.0          1.9  Iris-virginica   \n",
       "147           6.5          3.0           5.2          2.0  Iris-virginica   \n",
       "148           6.2          3.4           5.4          2.3  Iris-virginica   \n",
       "149           5.9          3.0           5.1          1.8  Iris-virginica   \n",
       "\n",
       "     high sepal ratio  \n",
       "0               False  \n",
       "1               False  \n",
       "2               False  \n",
       "3               False  \n",
       "4               False  \n",
       "..                ...  \n",
       "145              True  \n",
       "146              True  \n",
       "147              True  \n",
       "148             False  \n",
       "149             False  \n",
       "\n",
       "[150 rows x 6 columns]"
      ]
     },
     "execution_count": 61,
     "metadata": {},
     "output_type": "execute_result"
    }
   ],
   "source": [
    "df[\"high sepal ratio\"] = df.apply(\n",
    "    lambda x: (x[\"sepal length\"] / x[\"sepal width\"]) > 2, axis=1\n",
    ")\n",
    "df"
   ]
  },
  {
   "cell_type": "markdown",
   "id": "swiss-investment",
   "metadata": {},
   "source": [
    "### Grupowanie"
   ]
  },
  {
   "cell_type": "code",
   "execution_count": 62,
   "id": "million-small",
   "metadata": {},
   "outputs": [
    {
     "data": {
      "text/html": [
       "<div>\n",
       "<style scoped>\n",
       "    .dataframe tbody tr th:only-of-type {\n",
       "        vertical-align: middle;\n",
       "    }\n",
       "\n",
       "    .dataframe tbody tr th {\n",
       "        vertical-align: top;\n",
       "    }\n",
       "\n",
       "    .dataframe thead th {\n",
       "        text-align: right;\n",
       "    }\n",
       "</style>\n",
       "<table border=\"1\" class=\"dataframe\">\n",
       "  <thead>\n",
       "    <tr style=\"text-align: right;\">\n",
       "      <th></th>\n",
       "      <th>sepal length</th>\n",
       "      <th>sepal width</th>\n",
       "      <th>petal length</th>\n",
       "      <th>petal width</th>\n",
       "      <th>high sepal ratio</th>\n",
       "    </tr>\n",
       "    <tr>\n",
       "      <th>class</th>\n",
       "      <th></th>\n",
       "      <th></th>\n",
       "      <th></th>\n",
       "      <th></th>\n",
       "      <th></th>\n",
       "    </tr>\n",
       "  </thead>\n",
       "  <tbody>\n",
       "    <tr>\n",
       "      <th>Iris-setosa</th>\n",
       "      <td>5.006</td>\n",
       "      <td>3.418</td>\n",
       "      <td>1.464</td>\n",
       "      <td>0.244</td>\n",
       "      <td>0.00</td>\n",
       "    </tr>\n",
       "    <tr>\n",
       "      <th>Iris-versicolor</th>\n",
       "      <td>5.936</td>\n",
       "      <td>2.770</td>\n",
       "      <td>4.260</td>\n",
       "      <td>1.326</td>\n",
       "      <td>0.76</td>\n",
       "    </tr>\n",
       "    <tr>\n",
       "      <th>Iris-virginica</th>\n",
       "      <td>6.588</td>\n",
       "      <td>2.974</td>\n",
       "      <td>5.552</td>\n",
       "      <td>2.026</td>\n",
       "      <td>0.82</td>\n",
       "    </tr>\n",
       "  </tbody>\n",
       "</table>\n",
       "</div>"
      ],
      "text/plain": [
       "                 sepal length  sepal width  petal length  petal width  \\\n",
       "class                                                                   \n",
       "Iris-setosa             5.006        3.418         1.464        0.244   \n",
       "Iris-versicolor         5.936        2.770         4.260        1.326   \n",
       "Iris-virginica          6.588        2.974         5.552        2.026   \n",
       "\n",
       "                 high sepal ratio  \n",
       "class                              \n",
       "Iris-setosa                  0.00  \n",
       "Iris-versicolor              0.76  \n",
       "Iris-virginica               0.82  "
      ]
     },
     "execution_count": 62,
     "metadata": {},
     "output_type": "execute_result"
    }
   ],
   "source": [
    "# grupowanie ma na celu agregacje danych wobec pewnej funkcji\n",
    "df.groupby(\"class\").mean()"
   ]
  },
  {
   "cell_type": "code",
   "execution_count": 63,
   "id": "ecological-albuquerque",
   "metadata": {},
   "outputs": [
    {
     "data": {
      "text/html": [
       "<div>\n",
       "<style scoped>\n",
       "    .dataframe tbody tr th:only-of-type {\n",
       "        vertical-align: middle;\n",
       "    }\n",
       "\n",
       "    .dataframe tbody tr th {\n",
       "        vertical-align: top;\n",
       "    }\n",
       "\n",
       "    .dataframe thead th {\n",
       "        text-align: right;\n",
       "    }\n",
       "</style>\n",
       "<table border=\"1\" class=\"dataframe\">\n",
       "  <thead>\n",
       "    <tr style=\"text-align: right;\">\n",
       "      <th></th>\n",
       "      <th></th>\n",
       "      <th>sepal length</th>\n",
       "      <th>sepal width</th>\n",
       "      <th>petal length</th>\n",
       "      <th>petal width</th>\n",
       "    </tr>\n",
       "    <tr>\n",
       "      <th>class</th>\n",
       "      <th>high sepal ratio</th>\n",
       "      <th></th>\n",
       "      <th></th>\n",
       "      <th></th>\n",
       "      <th></th>\n",
       "    </tr>\n",
       "  </thead>\n",
       "  <tbody>\n",
       "    <tr>\n",
       "      <th>Iris-setosa</th>\n",
       "      <th>False</th>\n",
       "      <td>5.006000</td>\n",
       "      <td>3.418000</td>\n",
       "      <td>1.464000</td>\n",
       "      <td>0.244000</td>\n",
       "    </tr>\n",
       "    <tr>\n",
       "      <th rowspan=\"2\" valign=\"top\">Iris-versicolor</th>\n",
       "      <th>False</th>\n",
       "      <td>5.775000</td>\n",
       "      <td>3.050000</td>\n",
       "      <td>4.308333</td>\n",
       "      <td>1.458333</td>\n",
       "    </tr>\n",
       "    <tr>\n",
       "      <th>True</th>\n",
       "      <td>5.986842</td>\n",
       "      <td>2.681579</td>\n",
       "      <td>4.244737</td>\n",
       "      <td>1.284211</td>\n",
       "    </tr>\n",
       "    <tr>\n",
       "      <th rowspan=\"2\" valign=\"top\">Iris-virginica</th>\n",
       "      <th>False</th>\n",
       "      <td>6.088889</td>\n",
       "      <td>3.133333</td>\n",
       "      <td>5.300000</td>\n",
       "      <td>2.144444</td>\n",
       "    </tr>\n",
       "    <tr>\n",
       "      <th>True</th>\n",
       "      <td>6.697561</td>\n",
       "      <td>2.939024</td>\n",
       "      <td>5.607317</td>\n",
       "      <td>2.000000</td>\n",
       "    </tr>\n",
       "  </tbody>\n",
       "</table>\n",
       "</div>"
      ],
      "text/plain": [
       "                                  sepal length  sepal width  petal length  \\\n",
       "class           high sepal ratio                                            \n",
       "Iris-setosa     False                 5.006000     3.418000      1.464000   \n",
       "Iris-versicolor False                 5.775000     3.050000      4.308333   \n",
       "                True                  5.986842     2.681579      4.244737   \n",
       "Iris-virginica  False                 6.088889     3.133333      5.300000   \n",
       "                True                  6.697561     2.939024      5.607317   \n",
       "\n",
       "                                  petal width  \n",
       "class           high sepal ratio               \n",
       "Iris-setosa     False                0.244000  \n",
       "Iris-versicolor False                1.458333  \n",
       "                True                 1.284211  \n",
       "Iris-virginica  False                2.144444  \n",
       "                True                 2.000000  "
      ]
     },
     "execution_count": 63,
     "metadata": {},
     "output_type": "execute_result"
    }
   ],
   "source": [
    "# można także grupować wg wielu wartości\n",
    "df.groupby([\"class\", \"high sepal ratio\"]).mean()"
   ]
  },
  {
   "cell_type": "markdown",
   "id": "bacterial-complex",
   "metadata": {},
   "source": [
    "```{seealso}\n",
    "Wyżej wymienione mechanizmy to jedynie podstawowe możliwości Pandas. W celu zdobycia szerszej wiedzy z tego zakresu odsyłamy do [tego poradnika](https://pandas.pydata.org/docs/user_guide/10min.html).\n",
    "```"
   ]
  },
  {
   "cell_type": "markdown",
   "id": "unlike-banana",
   "metadata": {},
   "source": [
    "<br><br><br><br><br><br><br><br>\n",
    "## Matplotlib\n",
    "\n",
    "Jest to podstawowa biblioteka do rysowania wykresów i wizualizacji danych. Matplotlib jest stale rozwijaną biblioteką, która ideowo dziedziczy z Matlaba, stąd część zastosowanych rozwiązań może nie być do końca intuicyjna dla programisty Pythona\n",
    "\n",
    "Instalujemy standardowo z pip:\n",
    "```\n",
    "pip install matplotlib\n",
    "```"
   ]
  },
  {
   "cell_type": "markdown",
   "id": "documentary-reconstruction",
   "metadata": {},
   "source": [
    "### Ogólna idea rozwiązania\n",
    "\n",
    "Wyróżniamy następujące elementy:\n",
    "* `Figure` - można o nim myśleć jak o przestrzeni na której rysowane będą konkretne wykresy\n",
    "* `Axes` - konkretny wykres zawierający osie, legendę, tytuł itd.\n",
    "* `Axis` - konkretna oś wykresu"
   ]
  },
  {
   "cell_type": "markdown",
   "id": "trained-morocco",
   "metadata": {},
   "source": [
    "### Tworzenie wykresu\n",
    "\n",
    "Tworzenie wykresu obsługuje moduł `PyPlot`:"
   ]
  },
  {
   "cell_type": "code",
   "execution_count": 64,
   "id": "settled-diameter",
   "metadata": {},
   "outputs": [
    {
     "data": {
      "image/png": "[encoded data removed]",
      "text/plain": [
       "<Figure size 640x480 with 1 Axes>"
      ]
     },
     "metadata": {},
     "output_type": "display_data"
    }
   ],
   "source": [
    "import matplotlib.pyplot as plt\n",
    "\n",
    "plt.plot([1, 2, 3, 4], [13, 16, 18, 23])\n",
    "plt.show()"
   ]
  },
  {
   "cell_type": "markdown",
   "id": "existing-holly",
   "metadata": {},
   "source": [
    "Wykres możemy prosto opisać i dostosować do własnych potrzeb:"
   ]
  },
  {
   "cell_type": "code",
   "execution_count": 65,
   "id": "buried-drain",
   "metadata": {},
   "outputs": [
    {
     "data": {
      "image/png": "[encoded data removed]",
      "text/plain": [
       "<Figure size 1600x400 with 1 Axes>"
      ]
     },
     "metadata": {},
     "output_type": "display_data"
    }
   ],
   "source": [
    "plt.figure(figsize=(16, 4))\n",
    "plt.plot(np.arange(30), np.geomspace(1, 100, 30))\n",
    "plt.title(\"Przyrost wiedzy o przetwarzaniu danych\")\n",
    "plt.xlabel(\"Czas zajęć [h]\")\n",
    "plt.ylabel(\"Wiedza [%]\")\n",
    "plt.show()"
   ]
  },
  {
   "cell_type": "markdown",
   "id": "gorgeous-british",
   "metadata": {},
   "source": [
    "Podstawowa konfiguracja wykresu pozwala też umieszczac na nim kilka serii danych. Przydaje się wtedy umieścić legendę"
   ]
  },
  {
   "cell_type": "code",
   "execution_count": 66,
   "id": "resident-proposition",
   "metadata": {},
   "outputs": [
    {
     "data": {
      "image/png": "[encoded data removed]",
      "text/plain": [
       "<Figure size 1600x400 with 1 Axes>"
      ]
     },
     "metadata": {},
     "output_type": "display_data"
    }
   ],
   "source": [
    "plt.figure(figsize=(16, 4))\n",
    "plt.plot(np.arange(30), np.geomspace(20, 100, 30), label=\"studenci\")\n",
    "plt.plot(np.arange(30), np.linspace(60, 90, 30), label=\"prowadzący\")\n",
    "plt.title(\"Przyrost wiedzy o przetwarzaniu danych\")\n",
    "plt.xlabel(\"Czas zajęć [h]\")\n",
    "plt.ylabel(\"Wiedza [%]\")\n",
    "plt.legend()\n",
    "plt.show()"
   ]
  },
  {
   "cell_type": "markdown",
   "id": "computational-wichita",
   "metadata": {},
   "source": [
    "### Podstawowa konfiguracja wyglądu wykresu\n",
    "\n",
    "\n",
    "Wygląd serii danych określamy podając trzyliterowy string w formacie `[marker][kolor][linia]` po serii, w którym określamy kształt punktów danych, rodzaj linii i kolor. Przykładowo:\n",
    "* `og-` - zielone kółka połączone linią ciągłą\n",
    "* `^r:` - czerwone trójkąty połączone linią kropkowaną"
   ]
  },
  {
   "cell_type": "code",
   "execution_count": 67,
   "id": "technical-belly",
   "metadata": {},
   "outputs": [
    {
     "data": {
      "image/png": "[encoded data removed]",
      "text/plain": [
       "<Figure size 1600x400 with 1 Axes>"
      ]
     },
     "metadata": {},
     "output_type": "display_data"
    }
   ],
   "source": [
    "plt.figure(figsize=(16, 4))\n",
    "plt.plot(np.arange(30), np.geomspace(20, 100, 30), \"og-\", label=\"studenci\")\n",
    "plt.plot(np.arange(30), np.linspace(60, 90, 30), \"^r:\", label=\"prowadzący\")\n",
    "plt.title(\"Przyrost wiedzy o przetwarzaniu danych\")\n",
    "plt.xlabel(\"Czas zajęć [h]\")\n",
    "plt.ylabel(\"Wiedza [%]\")\n",
    "plt.legend()\n",
    "plt.show()"
   ]
  },
  {
   "cell_type": "markdown",
   "id": "remarkable-reaction",
   "metadata": {},
   "source": [
    "```{seealso}\n",
    "Więcej stylów i kombinacji w sekcji `Notes` [dokumentacji](https://matplotlib.org/stable/api/_as_gen/matplotlib.pyplot.plot.html)\n",
    "```"
   ]
  },
  {
   "cell_type": "markdown",
   "id": "coupled-generic",
   "metadata": {},
   "source": [
    "### Typy wykresów"
   ]
  },
  {
   "cell_type": "code",
   "execution_count": 68,
   "id": "alternate-stock",
   "metadata": {},
   "outputs": [
    {
     "data": {
      "image/png": "[encoded data removed]",
      "text/plain": [
       "<Figure size 640x480 with 1 Axes>"
      ]
     },
     "metadata": {},
     "output_type": "display_data"
    }
   ],
   "source": [
    "# wykres słupkowy\n",
    "\n",
    "plt.bar([\"A\", \"B\", \"C\", \"D\", \"E\"], np.random.randint(1, 35, 5))\n",
    "plt.show()"
   ]
  },
  {
   "cell_type": "code",
   "execution_count": 69,
   "id": "active-partition",
   "metadata": {},
   "outputs": [
    {
     "data": {
      "image/png": "[encoded data removed]",
      "text/plain": [
       "<Figure size 640x480 with 1 Axes>"
      ]
     },
     "metadata": {},
     "output_type": "display_data"
    }
   ],
   "source": [
    "# wykres kołowy\n",
    "\n",
    "plt.pie([30, 70], labels=[\"niebieska część\", \"pomarańczowa część\"])\n",
    "plt.show()"
   ]
  },
  {
   "cell_type": "code",
   "execution_count": 70,
   "id": "hourly-dryer",
   "metadata": {},
   "outputs": [
    {
     "data": {
      "image/png": "[encoded data removed]",
      "text/plain": [
       "<Figure size 640x480 with 1 Axes>"
      ]
     },
     "metadata": {},
     "output_type": "display_data"
    }
   ],
   "source": [
    "# histogram\n",
    "\n",
    "plt.hist(np.random.randn(1000))\n",
    "plt.show()"
   ]
  },
  {
   "cell_type": "code",
   "execution_count": 71,
   "id": "southern-compatibility",
   "metadata": {},
   "outputs": [
    {
     "data": {
      "image/png": "[encoded data removed]",
      "text/plain": [
       "<Figure size 640x480 with 1 Axes>"
      ]
     },
     "metadata": {},
     "output_type": "display_data"
    }
   ],
   "source": [
    "# wykres punktowy\n",
    "\n",
    "plt.scatter(np.random.rand(30), np.random.randn(30))\n",
    "plt.show()"
   ]
  },
  {
   "cell_type": "markdown",
   "id": "strong-moore",
   "metadata": {},
   "source": [
    "### Wiele wykresów w jednej przestrzeni \n",
    "\n",
    "Częstym przypadkiem jest chęć umiejscowienia kilku różych wykresów na jednym `Figure`. Można to uczynić przy pomocy mechanizmu `subplot`"
   ]
  },
  {
   "cell_type": "code",
   "execution_count": 72,
   "id": "nervous-rabbit",
   "metadata": {},
   "outputs": [
    {
     "data": {
      "text/html": [
       "<div>\n",
       "<style scoped>\n",
       "    .dataframe tbody tr th:only-of-type {\n",
       "        vertical-align: middle;\n",
       "    }\n",
       "\n",
       "    .dataframe tbody tr th {\n",
       "        vertical-align: top;\n",
       "    }\n",
       "\n",
       "    .dataframe thead th {\n",
       "        text-align: right;\n",
       "    }\n",
       "</style>\n",
       "<table border=\"1\" class=\"dataframe\">\n",
       "  <thead>\n",
       "    <tr style=\"text-align: right;\">\n",
       "      <th></th>\n",
       "      <th>sepal length</th>\n",
       "      <th>sepal width</th>\n",
       "      <th>petal length</th>\n",
       "      <th>petal width</th>\n",
       "      <th>class</th>\n",
       "      <th>high sepal ratio</th>\n",
       "    </tr>\n",
       "  </thead>\n",
       "  <tbody>\n",
       "    <tr>\n",
       "      <th>0</th>\n",
       "      <td>5.1</td>\n",
       "      <td>3.5</td>\n",
       "      <td>1.4</td>\n",
       "      <td>0.2</td>\n",
       "      <td>Iris-setosa</td>\n",
       "      <td>False</td>\n",
       "    </tr>\n",
       "  </tbody>\n",
       "</table>\n",
       "</div>"
      ],
      "text/plain": [
       "   sepal length  sepal width  petal length  petal width        class  \\\n",
       "0           5.1          3.5           1.4          0.2  Iris-setosa   \n",
       "\n",
       "   high sepal ratio  \n",
       "0             False  "
      ]
     },
     "execution_count": 72,
     "metadata": {},
     "output_type": "execute_result"
    }
   ],
   "source": [
    "# użyjemy wczytanego na potrzeby przykladów z Pandasem zbioru Iris\n",
    "\n",
    "df.head(1)"
   ]
  },
  {
   "cell_type": "code",
   "execution_count": 73,
   "id": "running-footage",
   "metadata": {},
   "outputs": [
    {
     "data": {
      "image/png": "[encoded data removed]",
      "text/plain": [
       "<Figure size 1600x500 with 4 Axes>"
      ]
     },
     "metadata": {},
     "output_type": "display_data"
    }
   ],
   "source": [
    "# tworzymy subplot składający się z jednego rzędu i trzech kolumn\n",
    "fig, (ax1, ax2, ax3) = plt.subplots(nrows=1, ncols=3, figsize=(16, 5))\n",
    "\n",
    "# tworzymy wykres punktowy pokazujący zależność długości do szerokości \"działki kielicha\" (sepal)\n",
    "# z kolorami oznaczającymi szerokość płatka\n",
    "scatter = ax1.scatter(\n",
    "    df[\"sepal length\"], df[\"sepal width\"], c=df[\"petal width\"], cmap=\"RdYlGn\"\n",
    ")\n",
    "plt.colorbar(scatter, ax=ax1, format=\"%d\")\n",
    "\n",
    "# tworzymy histogramy długości płatka i działki\n",
    "ax2.hist(df[\"petal length\"], label=\"petal\")\n",
    "ax2.hist(df[\"sepal length\"], label=\"sepal\")\n",
    "ax2.legend()\n",
    "\n",
    "# tworzymy wykres kołowy ilości klas\n",
    "ax3.pie(\n",
    "    df.groupby(\"class\").count().to_numpy()[:, 0],\n",
    "    labels=df.groupby(\"class\").count().index,\n",
    ")\n",
    "plt.show()"
   ]
  }
 ],
 "metadata": {
  "kernelspec": {
   "display_name": "Python 3 (ipykernel)",
   "language": "python",
   "name": "python3"
  },
  "language_info": {
   "codemirror_mode": {
    "name": "ipython",
    "version": 3
   },
   "file_extension": ".py",
   "mimetype": "text/x-python",
   "name": "python",
   "nbconvert_exporter": "python",
   "pygments_lexer": "ipython3",
   "version": "3.11.0"
  }
 },
 "nbformat": 4,
 "nbformat_minor": 5
}
