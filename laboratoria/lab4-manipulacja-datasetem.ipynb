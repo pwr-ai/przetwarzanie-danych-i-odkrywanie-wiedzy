{
 "cells": [
  {
   "cell_type": "markdown",
   "id": "graphic-mounting",
   "metadata": {},
   "source": [
    "![](../docs/banner.png)"
   ]
  },
  {
   "cell_type": "markdown",
   "id": "medium-cologne",
   "metadata": {},
   "source": [
    "# Laboratorium 4: Manipulacje zbiorami danych"
   ]
  },
  {
   "cell_type": "markdown",
   "id": "smooth-jenny",
   "metadata": {},
   "source": [
    "## Plan laboratorium\n",
    "---\n",
    "\n",
    "1. [Wprowadzenie](#Wprowadzenie)\n",
    "1. [Zadania](#Zadania)"
   ]
  },
  {
   "cell_type": "markdown",
   "id": "solar-satellite",
   "metadata": {},
   "source": [
    "## Efekty kształcenia laboratorium\n",
    "<hr>"
   ]
  },
  {
   "cell_type": "markdown",
   "id": "aboriginal-landing",
   "metadata": {},
   "source": [
    "- zapoznasz się z zasadami BHP\n",
    "- dowiesz się, co będziemy ćwiczyć w trakcie tego semestru\n",
    "- poznasz zasady oceniania \n",
    "- poznasz możliwości tworzenia środowiska wirtualnego Python\n",
    "- poznasz środowisko Jupyter\n",
    "- poznasz podstawowe mechanizmy systemu kontroli wersji Git i ekosystemu GitHub"
   ]
  },
  {
   "cell_type": "code",
   "execution_count": null,
   "id": "deluxe-plain",
   "metadata": {},
   "outputs": [],
   "source": []
  }
 ],
 "metadata": {
  "kernelspec": {
   "display_name": "Python 3",
   "language": "python",
   "name": "python3"
  },
  "language_info": {
   "codemirror_mode": {
    "name": "ipython",
    "version": 3
   },
   "file_extension": ".py",
   "mimetype": "text/x-python",
   "name": "python",
   "nbconvert_exporter": "python",
   "pygments_lexer": "ipython3",
   "version": "3.8.6"
  }
 },
 "nbformat": 4,
 "nbformat_minor": 5
}
