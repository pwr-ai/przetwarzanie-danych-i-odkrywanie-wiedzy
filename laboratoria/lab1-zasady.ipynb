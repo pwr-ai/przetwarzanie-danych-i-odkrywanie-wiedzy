{
 "cells": [
  {
   "cell_type": "markdown",
   "id": "invisible-trinity",
   "metadata": {},
   "source": [
    "![](../docs/banner.png)<figcaption style=\"text-align: right; font-size:9px\"><a href=\"https://pixabay.com/service/license/\">Na licencji Pixabay</a></figcaption>"
   ]
  },
  {
   "cell_type": "markdown",
   "id": "perfect-speaking",
   "metadata": {},
   "source": [
    "# L1: Zasady laboratorium"
   ]
  },
  {
   "cell_type": "markdown",
   "id": "ordered-application",
   "metadata": {},
   "source": [
    "## Efekty kształcenia laboratorium\n",
    "---\n",
    "- zapoznasz się z zasadami BHP\n",
    "- dowiesz się, co będziemy ćwiczyć w trakcie tego semestru\n",
    "- poznasz zasady oceniania "
   ]
  },
  {
   "cell_type": "markdown",
   "id": "precise-bonus",
   "metadata": {},
   "source": [
    "## BHP\n",
    "---\n",
    "W celu zaliczenia tego kursu konieczna będzie praca na uczelni oraz w domu. W związku z tym, należy dołożyć wszelkich starań by:\n",
    "1. zadbać o ergonomię pracy przy komputerze (więcej informacji np. [tutaj](http://pracujkomfortowo.pl/o-ergonomii/ergonomia-pracy-przy-komputerze/))\n",
    "2. zadbać o podstawowe BHP przebywania w domu (więcej informacji np. [tutaj](https://www.skanska.pl/o-skanska/media/informacje-prasowe/166133/Domowe-BHP-jak-zadbac-o-bezpieczenstwo-w-mieszkaniu-))\n",
    "3. zadbać o bezpieczeństwo korzystania z sieci (więcej informacji np. [tutaj](http://nbzp.cz/10-porad-bezpieczenstwa))"
   ]
  },
  {
   "cell_type": "markdown",
   "id": "attractive-restoration",
   "metadata": {},
   "source": [
    "## Plan kursu\n",
    "\n",
    "# todo: change it\n",
    "\n",
    "---\n",
    "| Nr lab. | Temat laboratorium | Data grup TP | Termin oddania TP | Data grup TN | Termin oddania TN | \n",
    "| --- | :--- | :---: | :---: | :---: | :---: |\n",
    "| 1 | Wprowadzenie i przygotowanie środowiska | 2022.03.04 | - | 2022.03.04  | - | \n",
    "| 2 | Podstawowe biblioteki do odkrywania wiedzy | 2022.03.11 | 2022.03.18 | 2022.03.18 | 2022.03.25 |\n",
    "| 3 | Analiza zbioru danych | 2022.03.25 | 2022.04.01 | 2022.04.01 | 2022.04.08 | \n",
    "| 4 | Preprocessing danych | 2022.04.08 | 2022.04.15 | 2022.04.20 | 2022.04.27 |\n",
    "| 5 | Zastosowanie metod uczenia maszynowego | 2022.04.22 | 2022.04.29| 2022.04.29 | 2022.05.06 |\n",
    "| 6 | Narzędzia zarządzania eksperymentami | 2022.05.06 | 2022.05.13 | 2022.05.13 | 2022.05.20 |\n",
    "| 7 | Produktyzacja procesów odkrywania wiedzy | 2022.05.20 | 2022.05.27 | 2022.05.27 | 2022.06.03 |\n",
    "| 8 | Rozwiązywanie realnego problemu PDiOW | 2022.06.10 | - | 2022.06.10 | - |\n"
   ]
  },
  {
   "cell_type": "markdown",
   "id": "logical-sleep",
   "metadata": {},
   "source": [
    "## Zasady laboratorium\n",
    "---\n",
    "\n",
    "#### Zajęcia\n",
    "1. Kurs składa się z 8 zajęć.\n",
    "1. Pierwsze zajęcia (niniejsze) służą wprowadzeniu i zrównaniu podstawowego poziomu wiedzy.\n",
    "1. Kolejne 6 zajęć składać się będzie ze wstępu teoretycznego okraszonego przykładami i zestawu zadań do wykonania.\n",
    "1. Po 5 zajęciach zostanie ogłoszony zadanie konkursowe do wykonania\n",
    "1. Ostatnie zajęcia będą prezentacją najlepszych prac konkursowych\n",
    "\n",
    "#### Wykonywanie zadań\n",
    "1. Zadania wykonujemy przy pomocy środowiska Github Classroom lub standardowego repozytorium (założonego przez prowadzącego). Przy każdej liście będzie to jednoznacznie wskazane.\n",
    "1. Każdy rozwiązuje zadania indywidualnie.\n",
    "1. Wykryte plagiaty skutkują niezaliczeniem laboratorium.\n",
    "1. Materiały do laboratorium będą dostarczone w postaci Jupyter Book, a zadania w formie repozytorium na platformie Github Classroom lub standardowego repozytorium. \n",
    "1. Jako oddanie zadania do oceny rozumiemy commit kodu rozwiązującego zadanie do odpowiedniego repozytorium lub utworzenie Pull Request'a.\n",
    "\n",
    "#### Punktacja \n",
    "1. **Warunkiem koniecznym zaliczenia laboratorium jest uzyskanie ze wszystkich laboratoriów co najmniej połowy punktów możliwych do uzyskania**.\n",
    "1. Rozwiązując zadania z laboratoriów 1-8 można zdobyć max 10pkt za każde.\n",
    "1. Sumaryczna ilość punktów do zdobycia podczas całego kursu to 80pkt. \n",
    "<!-- 1. Wykonując zadanie konkursowe można zdobyć max 22pkt. -->\n",
    "1. Termin oddania zadań mija o północy następnego tygodnia - tj. mając zajęcia we wtorek, termin oddania to następny poniedziałek godzina 23:59.\n",
    "1. Oddając w następnym tygodniu, zdobyte punkty przemnażamy przez 50%.\n",
    "1. Możliwe jest zdobycie dodatkowych punktów za wyróżniające się rozwiązania, działania i zachowania.\n",
    "\n",
    "#### Skala oceniania:\n",
    "\n",
    "| % pkt | ocena |\n",
    "| --- | :--- |\n",
    "| <50% | brak zaliczenia (2.0)|\n",
    "| \\[50%, 60%\\) | dostateczny (3.0) |\n",
    "| \\[60%, 70%) | dostateczny+ (3.5) |\n",
    "| \\[70%, 80%) | dobry (4.0) |\n",
    "| \\[80%, 90%) | dobry plus (4.5) |\n",
    "| \\[90%, 100%) | bardzo dobry (5.0) |\n",
    "| \\>=100% | celujący (5.5) |\n",
    "\n",
    "\n",
    "#### Bezpośredni kontakt do prowadzących:\n",
    "* tomasz.kajdanowicz@pwr.edu.pl\n",
    "* albert.sawczyn@pwr.edu.pl"
   ]
  }
 ],
 "metadata": {
  "kernelspec": {
   "display_name": "Python 3 (ipykernel)",
   "language": "python",
   "name": "python3"
  },
  "language_info": {
   "codemirror_mode": {
    "name": "ipython",
    "version": 3
   },
   "file_extension": ".py",
   "mimetype": "text/x-python",
   "name": "python",
   "nbconvert_exporter": "python",
   "pygments_lexer": "ipython3",
   "version": "3.10.9"
  }
 },
 "nbformat": 4,
 "nbformat_minor": 5
}
