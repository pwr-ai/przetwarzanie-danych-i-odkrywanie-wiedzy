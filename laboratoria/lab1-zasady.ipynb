{
 "cells": [
  {
   "cell_type": "markdown",
   "id": "perfect-speaking",
   "metadata": {},
   "source": [
    "# L1: Zasady laboratorium"
   ]
  },
  {
   "cell_type": "markdown",
   "id": "ordered-application",
   "metadata": {},
   "source": [
    "## Efekty kształcenia laboratorium\n",
    "---\n",
    "- zapoznasz się z zasadami BHP\n",
    "- dowiesz się, co będziemy ćwiczyć w trakcie tego semestru\n",
    "- poznasz zasady oceniania "
   ]
  },
  {
   "cell_type": "markdown",
   "id": "precise-bonus",
   "metadata": {},
   "source": [
    "\n",
    "## BHP\n",
    "---\n",
    "W celu zaliczenia tego kursu konieczna będzie praca na uczelni oraz w domu. W związku z tym, należy dołożyć wszelkich starań by:\n",
    "1. zadbać o ergonomię pracy przy komputerze (więcej informacji np. [tutaj](http://pracujkomfortowo.pl/o-ergonomii/ergonomia-pracy-przy-komputerze/))\n",
    "2. zadbać o podstawowe BHP przebywania w domu (więcej informacji np. [tutaj](https://www.skanska.pl/o-skanska/media/informacje-prasowe/166133/Domowe-BHP-jak-zadbac-o-bezpieczenstwo-w-mieszkaniu-))\n",
    "3. zadbać o bezpieczeństwo korzystania z sieci (więcej informacji np. [tutaj](http://nbzp.cz/10-porad-bezpieczenstwa))"
   ]
  },
  {
   "cell_type": "markdown",
   "id": "attractive-restoration",
   "metadata": {},
   "source": [
    "## Plan kursu\n",
    "\n",
    "---\n",
    "| Nr lab. | Temat laboratorium                         | Data grup czw. | Termin oddania czw. | Data grup pt. | Termin oddania pt. |\n",
    "|---------|--------------------------------------------|----------------|---------------------|---------------|--------------------|\n",
    "| 1       | Wprowadzenie i przygotowanie środowiska    | 2024-02-29     | 2024-03-06 20:00    | 2024-03-01    | 2024-03-07 20:00   |\n",
    "| 2       | Podstawowe biblioteki do odkrywania wiedzy | 2024-03-07     | 2024-03-13 20:00    | 2024-03-08    | 2024-03-14 20:00   |\n",
    "| 3       | Narzędzia zarządzania eksperymentami       | 2024-03-14     | 2024-03-20 20:00    | 2024-03-15    | 2024-03-21 20:00   |\n",
    "| 4       | Analiza zbioru danych                      | 2024-03-21     | 2024-04-03 20:00    | 2024-03-22    | 2024-04-04 20:00   |\n",
    "| 5       | Preprocessing danych                       | 2024-04-04     | 2024-04-10 20:00    | 2024-04-05    | 2024-04-11 20:00   |\n",
    "| 6       | Zastosowanie metod uczenia maszynowego     | 2024-04-11     | 2024-04-17 20:00    | 2024-04-12    | 2024-04-18 20:00   |\n",
    "| 7       | Produktyzacja procesów odkrywania wiedzy   | 2024-04-18     | 2024-04-24 20:00    | 2024-04-19    | 2024-04-25 20:00   |\n",
    "| 8       | Zakończenie                                | 2024-04-25     | -                   | 2024-04-26    | -                  |"
   ]
  },
  {
   "cell_type": "markdown",
   "id": "logical-sleep",
   "metadata": {},
   "source": [
    "## Zasady laboratorium\n",
    "---\n",
    "\n",
    "#### Zajęcia\n",
    "1. Kurs składa się z 8 zajęć.\n",
    "1. Pierwsze zajęcia (niniejsze) wraz z zestawem zadań służą wprowadzeniu i zrównaniu podstawowego poziomu wiedzy.\n",
    "1. Kolejne 6 zajęć składać się będzie ze wstępu teoretycznego okraszonego przykładami i zestawu zadań do wykonania.\n",
    "1. W pierwszej połowie kursu zostanie ogłoszona lista, której celem będzie rozwiązywanie realnego problemu PDiOW (dalej nazywana `6.2`).\n",
    "\n",
    "#### Wykonywanie zadań\n",
    "1. Materiały do laboratorium będą dostarczone w postaci Jupyter Book, a zadania w formie repozytorium na platformie Github Classroom lub standardowego repozytorium. \n",
    "1. Zadania wykonujemy przy pomocy środowiska Github Classroom lub standardowego repozytorium (założonego przez prowadzącego). Przy każdej liście będzie to jednoznacznie wskazane.\n",
    "1. W każdym repozytorium w pliku `README.md` należy umieścić tabele z formularzem, które zadania zostały wykonane. Tabele będą dołączane do list zadań. Próba oszustwa skutkuje niezaliczeniem laboratorium.\n",
    "1. Każdy rozwiązuje zadania indywidualnie. Wykryte plagiaty skutkują niezaliczeniem laboratorium.\n",
    "1. Oddawany kod musi być zrozumiały dla studenta. Kopiowanie/generowanie kodu bez zrozumienia go nie jest akceptowalne i skutkuje ujemnymi punktami.\n",
    "1. Jako oddanie zadania do oceny rozumiemy commit kodu rozwiązującego zadanie do odpowiedniego repozytorium (Github Classroom) lub utworzenie Pull Request'a (standardowe repozytorium).\n",
    "1. Commitujemy wszystkie pliki, w tym m.in.: `.gitignore`, `Dockerfile`, `docker-compose.yml`, `requirements.txt`, itp.\n",
    "\n",
    "#### Punktacja \n",
    "1. **Warunkiem koniecznym zaliczenia kursu jest uzyskanie z każdego laboratorium co najmniej połowy punktów możliwych do uzyskania.**.\n",
    "1. Rozwiązując zadania z laboratoriów 1-7 można zdobyć maksymalną ilość punktów określoną poniższą tabelą.\n",
    "1. Lista 6.2 Rozwiązywanie realnego problemu PDiOW, należy oddać na 7 zajęciach wraz z listą 6.1 (tj. 2024-04-17 lub 2024-04-18). **Praca nad listą 6.2 jest przewidziana na więcej niż jeden tydzień.** Więcej szczegółów o formie jej zaliczenia znajdzie się w treści listy.\n",
    "1. Sumaryczna ilość punktów do zdobycia podczas całego kursu to 80 pkt.\n",
    "1. Termin oddania zadań mija o godzinie 20 następnego tygodnia - tj. mając zajęcia w czwartek, termin oddania to następna środa godzina 20:00.\n",
    "1. Oddając z opóźnieniem zdobyte punkty przemnażamy przez `(100/2^s)%`, gdzie `s` to liczba tygodni spóźnienia. Czyli oddając tydzień po terminie mnożymy przez 50%, po dwóch tygodniach mnożymy przez 25% i tak dalej. Uwaga: warunek uzyskania połowy puntów (patrz punkt 1.) sprawdzany będzie przed odjęciem punktów.\n",
    "1. Możliwe jest zdobycie dodatkowych punktów za wyróżniające się rozwiązania, działania i zachowania.\n",
    "\n",
    "\n",
    "---\n",
    "| Nr listy                                  | maks. punktów |\n",
    "|-------------------------------------------|---------------|\n",
    "| 1                                         | 10            |\n",
    "| 2                                         | 10            |\n",
    "| 3                                         | 12            |\n",
    "| 4                                         | 8             |\n",
    "| 5                                         | 10            |\n",
    "| 6.1                                       | 10            |\n",
    "| 6.2 Rozwiązywanie realnego problemu PDiOW | 10            |\n",
    "| 7                                         | 10            |\n",
    "\n",
    "\n",
    "#### Skala oceniania:\n",
    "\n",
    "| % pkt        | ocena                 |\n",
    "|--------------|:----------------------|\n",
    "| <50%         | brak zaliczenia (2.0) |\n",
    "| \\[50%, 60%\\) | dostateczny (3.0)     |\n",
    "| \\[60%, 70%)  | dostateczny+ (3.5)    |\n",
    "| \\[70%, 80%)  | dobry (4.0)           |\n",
    "| \\[80%, 90%)  | dobry plus (4.5)      |\n",
    "| \\[90%, 100%) | bardzo dobry (5.0)    |\n",
    "| \\>=100%      | celujący (5.5)        |\n",
    "\n",
    "\n",
    "#### Bezpośredni kontakt do prowadzących:\n",
    "* albert.sawczyn@pwr.edu.pl (laboratoria)\n",
    "* stanislaw.saganowski@pwr.edu.pl (wykład)"
   ]
  }
 ],
 "metadata": {
  "kernelspec": {
   "display_name": "Python 3 (ipykernel)",
   "language": "python",
   "name": "python3"
  },
  "language_info": {
   "codemirror_mode": {
    "name": "ipython",
    "version": 3
   },
   "file_extension": ".py",
   "mimetype": "text/x-python",
   "name": "python",
   "nbconvert_exporter": "python",
   "pygments_lexer": "ipython3",
   "version": "3.10.9"
  }
 },
 "nbformat": 4,
 "nbformat_minor": 5
}
