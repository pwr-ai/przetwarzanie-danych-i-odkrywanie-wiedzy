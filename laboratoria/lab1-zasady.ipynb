{
 "cells": [
  {
   "cell_type": "markdown",
   "metadata": {},
   "source": [
    "![](../docs/banner.png)"
   ]
  },
  {
   "cell_type": "markdown",
   "metadata": {},
   "source": [
    "# L1: Zasady laboratorium"
   ]
  },
  {
   "cell_type": "markdown",
   "metadata": {},
   "source": [
    "## Efekty kształcenia laboratorium\n",
    "---\n",
    "- zapoznasz się z zasadami BHP\n",
    "- dowiesz się, co będziemy ćwiczyć w trakcie tego semestru\n",
    "- poznasz zasady oceniania "
   ]
  },
  {
   "cell_type": "markdown",
   "metadata": {},
   "source": [
    "## BHP\n",
    "---\n",
    "W tym semestrze zajęcia odbywają się wyłącznie zdalnie. W związku z tym, należy dołożyć wszelkich starań by:\n",
    "1. zadbać o ergonomię pracy przy komputerze (więcej informacji np. [tutaj](http://pracujkomfortowo.pl/o-ergonomii/ergonomia-pracy-przy-komputerze/))\n",
    "2. zadbać o podstawowe BHP przebywania w domu (więcej informacji np. [tutaj](https://www.skanska.pl/o-skanska/media/informacje-prasowe/166133/Domowe-BHP-jak-zadbac-o-bezpieczenstwo-w-mieszkaniu-))\n",
    "3. zadbać o bezpieczeństwo korzystania z sieci (więcej informacji np. [tutaj](http://nbzp.cz/10-porad-bezpieczenstwa))"
   ]
  },
  {
   "cell_type": "markdown",
   "metadata": {},
   "source": [
    "## Plan kursu\n",
    "---\n",
    "| Nr lab. | Temat laboratorium | Data grup TP | Termin oddania TP | Data grup TN | Termin oddania TN | \n",
    "| --- | :--- | :---: | :---: | :---: | :---: |\n",
    "| 1 | Wprowadzenie i przygotowanie środowiska | 2021.03.02 | - | 2021.03.02  | - | \n",
    "| 2 | Podstawowe biblioteki do odkrywania wiedzy | 2021.03.16 | 2021.03.22 | 2021.03.09 | 2021.03.15 |\n",
    "| 3 | Zastosowanie prostych metod uczenia maszynowego | 2021.04.13 | 2021.04.19 | 2021.03.23 | 2021.03.29 | \n",
    "| 4 | Preprocessing danych | 2021.04.27 | 2021.05.03 | 2021.04.20 | 2021.04.26 |\n",
    "| 5 | Narzędzia zarządzania eksperymentami | 2021.05.11 | 2021.05.17 | 2021.05.04 | 2021.05.10 | \n",
    "| 6 | Produktyzacja procesów odkrywania wiedzy | 2021.05.25 | 2021.06.01 | 2021.05.18 | 2021.05.24 |\n",
    "| 7 | Rozwiązywanie realnego problemu cz. 1 | 2021.06.08 | 2021.06.14 | 2021.06.01 | 2021.06.07 |\n",
    "| 8 | Rozwiązywanie realnego problemu cz. 2 | 2021.06.22 | 2021.06.22 | 2021.06.15 | 2021.06.22 |\n"
   ]
  },
  {
   "cell_type": "markdown",
   "metadata": {},
   "source": [
    "## Zasady laboratorium\n",
    "---\n",
    "\n",
    "#### Zajęcia\n",
    "1. Kurs składa się z 8 zajęć \n",
    "1. Pierwsze zajęcia (niniejsze) służą wprowadzeniu i zrównaniu podstawowego poziomu wiedzy\n",
    "1. Kolejne 5 zajęć składać się będzie ze wstępu teoretycznego okraszonego przykładami i zestawu zadań do wykonania.\n",
    "1. Ostatnie 2 zajęcia będą mini-projektem polegającym na rozwiązaniu realnego problemu odkrywania wiedzy, bazując na wiedzy z poprzednich zajęć.\n",
    "\n",
    "#### Wykonywanie zadań\n",
    "1. Zadania wykonujemy przy pomocy środowiska Github Classroom\n",
    "1. Każdy rozwiązuje zadania indywidualnie\n",
    "1. Treść każdego laborarium wraz z poleceniami zadań zostanie dostarczona w postaci Jupyter Notebooków\n",
    "1. Jako oddanie zadania do oceny rozumiemy commit kodu rozwiązującego zadanie do odpowiedniego repozytorium \n",
    "\n",
    "#### Punktacja \n",
    "1. Rozwiązując zadania z laboratoriów 2-6 można zdobyć max 15pkt za każde\n",
    "1. Wykonując mini-projekt z laboratoriów można zdobyć max 25pkt\n",
    "1. Termin oddania zadań mija o północy następnego tygodnia - tj. mając zajęcia we wtorek, termin oddania to następny poniedziałek godzina 23:59\n",
    "1. Oddając w następnym tygodniu, zdobyte punkty przemnażamy przez 50%\n",
    "1. Oddając później, nie ma możliwości zdobycia punktów\n",
    "1. Sumaryczna ilość punktów do zdobycia podczas całego kursu to 100pkt. \n",
    "1. Możliwe jest zdobycie dodatkowych punktów za wyróżniające się rozwiązania, działania i zachowania \n",
    "\n",
    "\n",
    "\n",
    "#### Skala oceniania:\n",
    "\n",
    "| % pkt | ocena |\n",
    "| --- | :--- |\n",
    "| <50% | brak zaliczenia (2.0)|\n",
    "| \\[50%, 60%\\) | dostateczny (3.0) |\n",
    "| \\[60%, 70%) | dostateczny+ (3.5) |\n",
    "| \\[70%, 80%) | dobry (4.0) |\n",
    "| \\[80%, 90%) | dobry plus (4.5) |\n",
    "| \\[90%, 100%) | bardzo dobry (5.0) |\n",
    "| \\>100% | celujący (5.5) |\n",
    "\n",
    "\n",
    "#### Bezpośredni kontakt do prowadzących:\n",
    "* tomasz.kajdanowicz@pwr.edu.pl\n",
    "* kamil.tagowski@pwr.edu.pl\n",
    "* krzysztof.rajda@pwr.edu.pl"
   ]
  }
 ],
 "metadata": {
  "kernelspec": {
   "display_name": "Python 3",
   "language": "python",
   "name": "python3"
  },
  "language_info": {
   "codemirror_mode": {
    "name": "ipython",
    "version": 3
   },
   "file_extension": ".py",
   "mimetype": "text/x-python",
   "name": "python",
   "nbconvert_exporter": "python",
   "pygments_lexer": "ipython3",
   "version": "3.7.4"
  }
 },
 "nbformat": 4,
 "nbformat_minor": 5
}
