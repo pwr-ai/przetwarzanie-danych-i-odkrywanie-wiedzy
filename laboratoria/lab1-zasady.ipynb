{
 "cells": [
  {
   "cell_type": "markdown",
   "id": "invisible-trinity",
   "metadata": {},
   "source": [
    "![](../docs/banner.png)<figcaption style=\"text-align: right; font-size:9px\"><a href=\"https://pixabay.com/service/license/\">Na licencji Pixabay</a></figcaption>"
   ]
  },
  {
   "cell_type": "markdown",
   "id": "perfect-speaking",
   "metadata": {},
   "source": [
    "# L1: Zasady laboratorium"
   ]
  },
  {
   "cell_type": "markdown",
   "id": "ordered-application",
   "metadata": {},
   "source": [
    "## Efekty kształcenia laboratorium\n",
    "---\n",
    "- zapoznasz się z zasadami BHP\n",
    "- dowiesz się, co będziemy ćwiczyć w trakcie tego semestru\n",
    "- poznasz zasady oceniania "
   ]
  },
  {
   "cell_type": "markdown",
   "id": "precise-bonus",
   "metadata": {},
   "source": [
    "## BHP\n",
    "---\n",
    "W celu zaliczenia tego kursu konieczna będzie praca na uczelni oraz w domu. W związku z tym, należy dołożyć wszelkich starań by:\n",
    "1. zadbać o ergonomię pracy przy komputerze (więcej informacji np. [tutaj](http://pracujkomfortowo.pl/o-ergonomii/ergonomia-pracy-przy-komputerze/))\n",
    "2. zadbać o podstawowe BHP przebywania w domu (więcej informacji np. [tutaj](https://www.skanska.pl/o-skanska/media/informacje-prasowe/166133/Domowe-BHP-jak-zadbac-o-bezpieczenstwo-w-mieszkaniu-))\n",
    "3. zadbać o bezpieczeństwo korzystania z sieci (więcej informacji np. [tutaj](http://nbzp.cz/10-porad-bezpieczenstwa))"
   ]
  },
  {
   "cell_type": "markdown",
   "id": "attractive-restoration",
   "metadata": {},
   "source": [
    "## Plan kursu\n",
    "\n",
    "---\n",
    "| Nr lab. | Temat laboratorium                         | Data grup czw. | Termin oddania czw. | Data grup pt. | Termin oddania pt. |\n",
    "|---------|--------------------------------------------|----------------|---------------------|---------------|--------------------|\n",
    "| 1       | Wprowadzenie i przygotowanie środowiska    | 2023-03-02     | 2023-03-08          | 2023-03-03    | 2023-03-09         |\n",
    "| 2       | Podstawowe biblioteki do odkrywania wiedzy | 2023-03-09     | 2023-03-15          | 2023-03-10    | 2023-03-16         |\n",
    "| 3       | Narzędzia zarządzania eksperymentami       | 2023-03-16     | 2023-03-22          | 2023-03-17    | 2023-03-23         |\n",
    "| 4       | Analiza zbioru danych                      | 2023-03-23     | 2023-03-29          | 2023-03-24    | 2023-03-30         |\n",
    "| 5       | Preprocessing danych                       | 2023-03-30     | 2023-04-12          | 2023-03-31    | 2023-04-13         |\n",
    "| 6       | Zastosowanie metod uczenia maszynowego     | 2023-04-13     | 2023-04-19          | 2023-04-14    | 2023-04-20         |\n",
    "| 7       | Produktyzacja procesów odkrywania wiedzy   | 2023-04-20     | 2023-04-26          | 2023-04-21    | 2023-04-27         |\n",
    "| 8       | Zakończenie                                | 2023-04-27     | -                   | 2023-04-28    | -                  |\n"
   ]
  },
  {
   "cell_type": "markdown",
   "id": "logical-sleep",
   "metadata": {},
   "source": [
    "## Zasady laboratorium\n",
    "---\n",
    "\n",
    "#### Zajęcia\n",
    "1. Kurs składa się z 8 zajęć.\n",
    "1. Pierwsze zajęcia (niniejsze) wraz z zestawem zadań służą wprowadzeniu i zrównaniu podstawowego poziomu wiedzy.\n",
    "1. Kolejne 6 zajęć składać się będzie ze wstępu teoretycznego okraszonego przykładami i zestawu zadań do wykonania.\n",
    "<!-- 1. Po 5 zajęciach zostanie ogłoszony zadanie konkursowe do wykonania -->\n",
    "<!-- 1. Ostatnie zajęcia będą prezentacją najlepszych prac konkursowych -->\n",
    "\n",
    "#### Wykonywanie zadań\n",
    "1. Zadania wykonujemy przy pomocy środowiska Github Classroom lub standardowego repozytorium (założonego przez prowadzącego). Przy każdej liście będzie to jednoznacznie wskazane.\n",
    "1. Każdy rozwiązuje zadania indywidualnie.\n",
    "1. Wykryte plagiaty skutkują niezaliczeniem laboratorium. \n",
    "1. Materiały do laboratorium będą dostarczone w postaci Jupyter Book, a zadania w formie repozytorium na platformie Github Classroom lub standardowego repozytorium. \n",
    "1. Jako oddanie zadania do oceny rozumiemy commit kodu rozwiązującego zadanie do odpowiedniego repozytorium (Github Classroom) lub utworzenie Pull Request'a (standardowe repozytorium).\n",
    "\n",
    "#### Punktacja \n",
    "1. **Warunkiem koniecznym zaliczenia kursu jest uzyskanie z każdego laboratorium co najmniej połowy punktów możliwych do uzyskania.**.\n",
    "1. Rozwiązując zadania z laboratoriów 1-7 można zdobyć maksymalną ilość punktów określoną poniższą tabelą.\n",
    "1. Zostanie ogłoszona dodatkowa lista zadań w ramach rozwiązywania realnego problemu PDiOW z terminem oddania takim jak lista 6 (tj. 2023-04-19 lub 2023-04-20). Więcej szczegółów o formie jej zaliczenia znajdzie się w treści listy.\n",
    "1. Sumaryczna ilość punktów do zdobycia podczas całego kursu to 80 pkt.\n",
    "1. Termin oddania zadań mija o północy następnego tygodnia - tj. mając zajęcia w czwartek, termin oddania to następny środa godzina 23:59.\n",
    "1. Oddając w następnym tygodniu, zdobyte punkty przemnażamy przez 50%. Oddając z dwutygodniowym opóźnieniem mnożymy przez 25% i tak dalej. Uwaga: warunek uzyskania połowy puntów (patrz punkt 1.) sprawdzany będzie przed odjęciem punktów.\n",
    "1. Możliwe jest zdobycie dodatkowych punktów za wyróżniające się rozwiązania, działania i zachowania.\n",
    "\n",
    "\n",
    "---\n",
    "| Nr listy                              | maks. punktów |\n",
    "|---------------------------------------|---------------|\n",
    "| 1                                     | 10            |\n",
    "| 2                                     | 10            |\n",
    "| 3                                     | 12            |\n",
    "| 4                                     | 8             |\n",
    "| 5                                     | 10            |\n",
    "| 6                                     | 10            |\n",
    "| Rozwiązywanie realnego problemu PDiOW | 10            |\n",
    "| 7                                     | 10            |\n",
    "\n",
    "\n",
    "#### Skala oceniania:\n",
    "\n",
    "| % pkt        | ocena                 |\n",
    "|--------------|:----------------------|\n",
    "| <50%         | brak zaliczenia (2.0) |\n",
    "| \\[50%, 60%\\) | dostateczny (3.0)     |\n",
    "| \\[60%, 70%)  | dostateczny+ (3.5)    |\n",
    "| \\[70%, 80%)  | dobry (4.0)           |\n",
    "| \\[80%, 90%)  | dobry plus (4.5)      |\n",
    "| \\[90%, 100%) | bardzo dobry (5.0)    |\n",
    "| \\>=100%      | celujący (5.5)        |\n",
    "\n",
    "\n",
    "#### Bezpośredni kontakt do prowadzących:\n",
    "* tomasz.kajdanowicz@pwr.edu.pl\n",
    "* albert.sawczyn@pwr.edu.pl"
   ]
  }
 ],
 "metadata": {
  "kernelspec": {
   "display_name": "Python 3 (ipykernel)",
   "language": "python",
   "name": "python3"
  },
  "language_info": {
   "codemirror_mode": {
    "name": "ipython",
    "version": 3
   },
   "file_extension": ".py",
   "mimetype": "text/x-python",
   "name": "python",
   "nbconvert_exporter": "python",
   "pygments_lexer": "ipython3",
   "version": "3.10.9"
  }
 },
 "nbformat": 4,
 "nbformat_minor": 5
}
