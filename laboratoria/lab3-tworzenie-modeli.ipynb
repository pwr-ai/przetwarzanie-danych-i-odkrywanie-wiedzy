{
 "cells": [
  {
   "cell_type": "markdown",
   "id": "dynamic-investigator",
   "metadata": {},
   "source": [
    "![](../docs/banner.png)"
   ]
  },
  {
   "cell_type": "markdown",
   "id": "complete-circulation",
   "metadata": {},
   "source": [
    "# Laboratorium 3: Tworzenie modeli uczenia maszynowego"
   ]
  },
  {
   "cell_type": "markdown",
   "id": "stone-blowing",
   "metadata": {},
   "source": [
    "<h2>Plan laboratorium<span class=\"tocSkip\"></span></h2>\n",
    "<hr>\n",
    "<div class=\"toc\">\n",
    "    <ul class=\"toc-item\">\n",
    "        <li><span><a href=\"#BHP\">1. BHP</a></span></li>\n",
    "        <li><span><a href=\"#Zasady-oceniania\" data-toc-modified-id=\"2.-Zasady-oceniania-2\">2. Zasady oceniania</a></span></li>\n",
    "        <li><span><a href=\"#Środowiska-wirtualne\" data-toc-modified-id=\"3.-Środowiska-wirtualne-3\">3. Środowiska wirtualne</a></span></li>\n",
    "        <li><span><a href=\"#Jupyter\" data-toc-modified-id=\"4.-Jupyter-4\">4. Środowisko Jupyter</a></span></li>\n",
    "        <li><span><a href=\"#Git\" data-toc-modified-id=\"5.-Git-5\">5. Git i GitHub</a></span></li>\n",
    "    </ul>\n",
    "</div>"
   ]
  },
  {
   "cell_type": "markdown",
   "id": "amber-check",
   "metadata": {},
   "source": [
    "## Efekty kształcenia laboratorium\n",
    "<hr>"
   ]
  },
  {
   "cell_type": "markdown",
   "id": "identical-privacy",
   "metadata": {},
   "source": [
    "- zapoznasz się z zasadami BHP\n",
    "- dowiesz się, co będziemy ćwiczyć w trakcie tego semestru\n",
    "- poznasz zasady oceniania \n",
    "- poznasz możliwości tworzenia środowiska wirtualnego Python\n",
    "- poznasz środowisko Jupyter\n",
    "- poznasz podstawowe mechanizmy systemu kontroli wersji Git i ekosystemu GitHub"
   ]
  },
  {
   "cell_type": "code",
   "execution_count": null,
   "id": "paperback-superintendent",
   "metadata": {},
   "outputs": [],
   "source": []
  }
 ],
 "metadata": {
  "kernelspec": {
   "display_name": "Python 3",
   "language": "python",
   "name": "python3"
  },
  "language_info": {
   "codemirror_mode": {
    "name": "ipython",
    "version": 3
   },
   "file_extension": ".py",
   "mimetype": "text/x-python",
   "name": "python",
   "nbconvert_exporter": "python",
   "pygments_lexer": "ipython3",
   "version": "3.8.6"
  }
 },
 "nbformat": 4,
 "nbformat_minor": 5
}
