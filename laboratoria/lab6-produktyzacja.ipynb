{
 "cells": [
  {
   "cell_type": "markdown",
   "id": "published-accounting",
   "metadata": {},
   "source": [
    "![](../docs/banner.png)"
   ]
  },
  {
   "cell_type": "markdown",
   "id": "hundred-dallas",
   "metadata": {},
   "source": [
    "# L6: Produktyzacja odkrywania wiedzy"
   ]
  },
  {
   "cell_type": "markdown",
   "id": "dried-cooling",
   "metadata": {},
   "source": [
    "## Efekty kształcenia laboratorium\n",
    "<hr>"
   ]
  },
  {
   "cell_type": "markdown",
   "id": "fiscal-colonial",
   "metadata": {},
   "source": [
    "- zapoznasz się z zasadami BHP\n",
    "- dowiesz się, co będziemy ćwiczyć w trakcie tego semestru\n",
    "- poznasz zasady oceniania \n",
    "- poznasz możliwości tworzenia środowiska wirtualnego Python\n",
    "- poznasz środowisko Jupyter\n",
    "- poznasz podstawowe mechanizmy systemu kontroli wersji Git i ekosystemu GitHub"
   ]
  },
  {
   "cell_type": "code",
   "execution_count": null,
   "id": "opened-bryan",
   "metadata": {},
   "outputs": [],
   "source": []
  },
  {
   "cell_type": "code",
   "execution_count": null,
   "id": "acting-fishing",
   "metadata": {},
   "outputs": [],
   "source": []
  }
 ],
 "metadata": {
  "kernelspec": {
   "display_name": "Python 3",
   "language": "python",
   "name": "python3"
  },
  "language_info": {
   "codemirror_mode": {
    "name": "ipython",
    "version": 3
   },
   "file_extension": ".py",
   "mimetype": "text/x-python",
   "name": "python",
   "nbconvert_exporter": "python",
   "pygments_lexer": "ipython3",
   "version": "3.8.6"
  }
 },
 "nbformat": 4,
 "nbformat_minor": 5
}
