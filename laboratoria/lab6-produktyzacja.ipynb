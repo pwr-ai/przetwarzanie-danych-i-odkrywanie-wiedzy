{
 "cells": [
  {
   "cell_type": "markdown",
   "id": "published-accounting",
   "metadata": {},
   "source": [
    "![](../docs/banner.png)"
   ]
  },
  {
   "cell_type": "markdown",
   "id": "hundred-dallas",
   "metadata": {},
   "source": [
    "# Laboratorium 6: Produktyzacja procesów odkrywania wiedzy"
   ]
  },
  {
   "cell_type": "markdown",
   "id": "pleased-municipality",
   "metadata": {},
   "source": [
    "<h2>Plan laboratorium<span class=\"tocSkip\"></span></h2>\n",
    "<hr>\n",
    "<div class=\"toc\">\n",
    "    <ul class=\"toc-item\">\n",
    "        <li><span><a href=\"#BHP\">1. BHP</a></span></li>\n",
    "        <li><span><a href=\"#Zasady-oceniania\" data-toc-modified-id=\"2.-Zasady-oceniania-2\">2. Zasady oceniania</a></span></li>\n",
    "        <li><span><a href=\"#Środowiska-wirtualne\" data-toc-modified-id=\"3.-Środowiska-wirtualne-3\">3. Środowiska wirtualne</a></span></li>\n",
    "        <li><span><a href=\"#Jupyter\" data-toc-modified-id=\"4.-Jupyter-4\">4. Środowisko Jupyter</a></span></li>\n",
    "        <li><span><a href=\"#Git\" data-toc-modified-id=\"5.-Git-5\">5. Git i GitHub</a></span></li>\n",
    "    </ul>\n",
    "</div>"
   ]
  },
  {
   "cell_type": "markdown",
   "id": "dried-cooling",
   "metadata": {},
   "source": [
    "## Efekty kształcenia laboratorium\n",
    "<hr>"
   ]
  },
  {
   "cell_type": "markdown",
   "id": "fiscal-colonial",
   "metadata": {},
   "source": [
    "- zapoznasz się z zasadami BHP\n",
    "- dowiesz się, co będziemy ćwiczyć w trakcie tego semestru\n",
    "- poznasz zasady oceniania \n",
    "- poznasz możliwości tworzenia środowiska wirtualnego Python\n",
    "- poznasz środowisko Jupyter\n",
    "- poznasz podstawowe mechanizmy systemu kontroli wersji Git i ekosystemu GitHub"
   ]
  },
  {
   "cell_type": "code",
   "execution_count": null,
   "id": "opened-bryan",
   "metadata": {},
   "outputs": [],
   "source": []
  },
  {
   "cell_type": "code",
   "execution_count": null,
   "id": "acting-fishing",
   "metadata": {},
   "outputs": [],
   "source": []
  }
 ],
 "metadata": {
  "kernelspec": {
   "display_name": "Python 3",
   "language": "python",
   "name": "python3"
  },
  "language_info": {
   "codemirror_mode": {
    "name": "ipython",
    "version": 3
   },
   "file_extension": ".py",
   "mimetype": "text/x-python",
   "name": "python",
   "nbconvert_exporter": "python",
   "pygments_lexer": "ipython3",
   "version": "3.8.6"
  }
 },
 "nbformat": 4,
 "nbformat_minor": 5
}
