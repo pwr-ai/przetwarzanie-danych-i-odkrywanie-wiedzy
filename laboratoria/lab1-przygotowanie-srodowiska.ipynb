{
 "cells": [
  {
   "cell_type": "markdown",
   "metadata": {},
   "source": [
    "![](../docs/banner.png)"
   ]
  },
  {
   "cell_type": "markdown",
   "metadata": {},
   "source": [
    "# L1: Przygotowanie środowiska"
   ]
  },
  {
   "cell_type": "markdown",
   "metadata": {},
   "source": [
    "## Efekty kształcenia laboratorium\n",
    "---\n",
    "- poznasz możliwości tworzenia środowiska wirtualnego Python\n",
    "- poznasz środowisko Jupyter\n",
    "- poznasz podstawowe mechanizmy systemu kontroli wersji Git i ekosystemu GitHub"
   ]
  },
  {
   "cell_type": "markdown",
   "metadata": {},
   "source": [
    "## Wymagania wstępne\n",
    "---\n",
    "\n",
    "### Python\n",
    "Podczas zajęć pracować będziemy używając języka Python. Na zajęciach nie będziemy wprowadzać podstaw tego języka.\n",
    "\n",
    "```{seealso}\n",
    "W razie potrzeby instalacji Pythona, odsyłamy do [dokumentacji](https://docs.python.org/3/using/index.html), gdzie znajdują się instrukcje krok po kroku odnośnie instalacji w różnych systemach.\n",
    "```\n",
    "\n",
    "```{seealso}\n",
    "W celu odświeżenia podstaw języka (składnia, zmienne, pętle itd) odsyłamy np. do [tego kursu](https://www.tomasbeuzen.com/python-programming-for-data-science).\n",
    "```"
   ]
  },
  {
   "cell_type": "markdown",
   "metadata": {},
   "source": [
    "### Git\n",
    "Laboratoria prowadzić będziemy przy pomocy GitHub Classroom, bazującym na repozytoriach Git. Potrzebne będą jedynie podstawowe funkcjonalności - klonowanie repozytorium, commitowanie i pushowanie do niego.\n",
    "\n",
    "```{seealso}\n",
    "W razie potrzeby instalacji Gita, odsyłamy do [dokumentacji](https://git-scm.com/downloads), gdzie znajdują się instrukcje krok po kroku odnośnie instalacji w różnych systemach.\n",
    "```\n",
    "\n",
    "```{seealso}\n",
    "W celu pozyskania lub doskonalenia umiejętności obsługi Gita, odsyłamy np. do [tego](https://areknawo.com/git-basics-the-only-introduction-you-will-ever-need/) lub [tego](https://guides.github.com/activities/hello-world/) kursu.\n",
    "```"
   ]
  },
  {
   "cell_type": "markdown",
   "metadata": {},
   "source": [
    "### GitHub Classroom\n",
    "\n",
    "Zajęcia przeprowadzone zostaną przy pomocy narzędzia GitHub Classroom, które pozwala na łatwe zarządzanie zadaniami grupy studentów. \n",
    "\n",
    "Każde laboratorium zostanie opublikowane w formie Assignmentu, do którego każdorazowo zostaniecie zaproszeni poprzez rozesłanie linka przez prowadzącego.\n",
    "\n",
    "Po zaakceptowaniu Assignmentu, sklonowane zostanie repozytorium zawierajace pliki przygotowane przez prowadzącego. Zadaniem studenta jest rozwiązanie zamieszczonych zadań i commit zmienionych plików z powrotem do repozytorium.\n",
    "\n",
    "Po upływie terminu oddawania zadań (tydzień od zajęć na których zostały one opublikowane) prowadzący sprawdza repozytoria, przegląda kod i weryfikuje umieszczone rozwiązania.\n",
    "\n",
    "```{seealso}\n",
    "Więcej informacji wraz z dokładnymi instrukcjami korzystania z Classroom - [tutaj](https://github.com/jfiksel/github-classroom-for-students) (należy jednakże pominąć część dotyczącą instalacji i użytkowania RStudio)\n",
    "```"
   ]
  },
  {
   "cell_type": "markdown",
   "metadata": {},
   "source": [
    "### Środowiska wirtualne\n",
    "\n",
    "W celu izolacji środowiska Pythona na potrzeby konkretnego projektu stosuje się _środowiska wirtualne_. Umożliwiają one instalację bibliotek w izolacji od głównego systemu - dzięki czemu można stosować np. różne wersje jednej biblioteki w różnych projektach.\n",
    "\n",
    "Najpopularniejsze z nich to `venv`, `pipenv` i `conda`. Wymagamy używania środowisk wirtualnych jako dobrej praktyki programistycznej. Jednocześnie nie narzucamy wyboru konkretnego rozwiązania - choć różnią się między sobą, wszystkie spełniają założenia wirtualizacji. \n",
    "\n",
    "#### Venv\n",
    "Najprostsze z rozwiązań. Tworzy wirtualne środowisko - i to jedyne co robi. \n",
    "\n",
    "W celu stworzenia nowego środowiska należy wykonać w terminalu następujące komendy:\n",
    "```\n",
    "cd DIRECTORY\n",
    "python3 -m venv .\n",
    "```\n",
    "\n",
    "Tak stworzone środowisko należy każdorazowo aktywować po zmianie sesji terminala:\n",
    "```\n",
    "# na Linuxie\n",
    "source bin/activate\n",
    "\n",
    "# na Windowsie\n",
    "\\Scripts\\activate.bat\n",
    "```\n",
    "\n",
    "Środowisko wyłączamy przy pomocy:\n",
    "```\n",
    "deactivate\n",
    "```\n",
    "\n",
    "#### Pipenv\n",
    "Działa analogicznie do venva, jednak jest bardziej zaawansowane w kwestii zarządzania zależnościami instalowanych paczek. Automatycznie zapisuje instalowane biblioteki do pliku `Pipfile`, który może służyc łatwej reprodukcji całego środowiska\n",
    "\n",
    "Po zainstalowaniu przy pomocy\n",
    "```\n",
    "pip install pipenv\n",
    "```\n",
    "\n",
    "stworzenie środowiska jest równie proste co przy venvie:\n",
    "```\n",
    "cd DIRECTORY\n",
    "pipenv install\n",
    "```\n",
    "\n",
    "Środowisko aktywujemy przy pomocy:\n",
    "```\n",
    "pipenv shell\n",
    "```\n",
    "\n",
    "Środowisko wyłączamy przy pomocy:\n",
    "```\n",
    "deactivate\n",
    "```\n",
    "\n",
    "#### Conda\n",
    "Jest to środowisko wirtualne korzystające z Anacondy, zawierającej dystrybucję Pythona sprofilowaną pod zastosowania naukowe. Anaconda zawiera preinstalowaną i zoptymalizowaną gamę paczek, osobny menager paczek i GUI \n",
    "\n",
    "Anaconda bywa częstym wyborem w przypadku używania Windowsa - standardowa instalacja części paczek często jest problematyczna, podczas gdy te wbudowane w Anacondę zazwyczaj nie sprawiają problemów.\n",
    "\n",
    "W celu instalacji odsyłamy do [dokumentacji](https://docs.anaconda.com/anaconda/install/)\n",
    "\n",
    "Stworzenie środowiska jest równie proste:\n",
    "```\n",
    "conda create --name ENVIRONMENT_NAME\n",
    "```\n",
    "\n",
    "Możemy też podczas tworzenia środowiska wybrać konkretną wersję Pythona:\n",
    "```\n",
    "conda create --name ENVIRONMENT_NAME python=3.9\n",
    "```\n",
    "\n",
    "Aktywacja natomast polega na wywołaniu:\n",
    "```\n",
    "conda activate ENVIRONMENT_NAME\n",
    "```\n",
    "\n",
    "Instalacja paczek (choć możliwa także przy użyciu `pip`) przebiega przy pomocy:\n",
    "```\n",
    "conda install --name ENVIRONMENT_NAME paczka==wersja\n",
    "```\n",
    "\n",
    "Środowisko wyłączamy przy pomocy:\n",
    "```\n",
    "deactivate\n",
    "```\n",
    "\n",
    "```{hint}\n",
    "Conda nie jest mechanizmem stricte Pythonowym - tak samo można używać środowisk wirtualnych dla innych jezyków \n",
    "```"
   ]
  },
  {
   "cell_type": "markdown",
   "metadata": {},
   "source": [
    "### Jupyter\n",
    "Wszystkie laboratoria przygotowane zostały w formie notebooków Jupytera. Jest to proste przeglądarkowe IDE Pythona, które w prosty sposób umożliwia eksperymentowanie i ewaluację kodu. \n",
    "\n",
    "W celu instalacji wykonujemy (uprzednio oczywiście aktywowawszy środowisko wirtualne):\n",
    "```\n",
    "pip install jupyter\n",
    "```\n",
    "\n",
    "Teraz uruchamiamy notebook przy pomocy:\n",
    "```\n",
    "jupyter notebook\n",
    "```\n",
    "\n",
    "```{seealso}\n",
    "W celu pogłębienia wiedzy o interfejsie i możliwościach Jupyter Notebooka - zachęcamy do lektury np. [tego artykułu](https://www.dataquest.io/blog/jupyter-notebook-tutorial/)\n",
    "```"
   ]
  }
 ],
 "metadata": {
  "kernelspec": {
   "display_name": "Python 3",
   "language": "python",
   "name": "python3"
  },
  "language_info": {
   "codemirror_mode": {
    "name": "ipython",
    "version": 3
   },
   "file_extension": ".py",
   "mimetype": "text/x-python",
   "name": "python",
   "nbconvert_exporter": "python",
   "pygments_lexer": "ipython3",
   "version": "3.7.4"
  }
 },
 "nbformat": 4,
 "nbformat_minor": 5
}
