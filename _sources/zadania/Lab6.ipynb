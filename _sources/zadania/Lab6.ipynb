{
 "cells": [
  {
   "cell_type": "markdown",
   "id": "athletic-defeat",
   "metadata": {},
   "source": [
    "# Zadania Lista 6\n"
   ]
  },
  {
   "cell_type": "markdown",
   "id": "duplicate-degree",
   "metadata": {},
   "source": [
    "## 1. (2 pkt) Reorganizacja rozwiązania z poprzednich list\n",
    "\n",
    "Dokanaj refaktoryzacji rozwiązania listy 4 i 5 - przedstaw poszczególne elementy rozwiązania w postaci osobnych skryptów.\n",
    "\n",
    "Do realizacji można wykorzystać zastosować następujący podział:\n",
    "- Czyszczenie danych\n",
    "- Podział danych\n",
    "- Ekstrakcja cech\n",
    "- Uczenie i ewaluacja modelu\n",
    "\n",
    "Podczas refaktoryzacji pomiń elementy związane z `pandas.profiling` i warianty poszczególnych eksperymentów. \n",
    "\n",
    "Skrypty umieść w folderze `scripts`, parametry w pliku `params.yaml`, a pliki wyjściowe w folderze `data`. \n",
    "\n",
    "**UWAGA**\n",
    "W celu przyśpieszenia obliczeń można wykorzystać podzbiór zbioru danych lub ograniczyć dane etapy np. podzbiorem cech."
   ]
  },
  {
   "cell_type": "markdown",
   "id": "duplicate-jason",
   "metadata": {},
   "source": [
    "## 2. (3 pkt) Obsługa MLflow\n",
    "\n",
    "- Do skryptu przeznaczonego do ewaluacji modelu dodaj obsługę `MLflow`. \n",
    "- Przekaż odpowiednie parametry i metryki. \n",
    "- Dodaj wykres macierzy pomyłek dla zbioru uczącego i testowego."
   ]
  },
  {
   "cell_type": "markdown",
   "id": "great-popularity",
   "metadata": {},
   "source": [
    "## 3. (4 pkt)  Obsługa DVC\n",
    "- Dodaj przygotowane skrypty jako elementy potoku `DVC`, zdefiniuj odpowiednie parametry i zależności. \n",
    "- Dodaj metryki do trackowania. \n",
    "- Zreprodukuj potok. "
   ]
  },
  {
   "cell_type": "markdown",
   "id": "loved-organ",
   "metadata": {},
   "source": [
    "## 4. (3 pkt) Wykonanie eksperymentów\n",
    "\n",
    "- Dodaj możliwość wybrania modelu w konfiguracji. \n",
    "- Dodaj wsparcie dla modeli [`LightGBM`].(https://lightgbm.readthedocs.io/en/latest/) i [`Catboost`](https://github.com/catboost/catboost) \n",
    "- Dodaj logowanie tych parametrów do mlflow. \n",
    "- Wykorzystaj api `dvc experiments` do porównania modeli. \n",
    "- Załącz screen z MLFlow pokazujący przebieg eksperymentów\n",
    "\n",
    "## 5. (1 pkt) Podsumowanie\n",
    "- Napisz podsumowanie dokanych eksperymentów. \n",
    "- Załącz wyjście polecenia `dvc experiments show`. \n",
    "- Wskaż twoim zdaniem mocne i słabe strony zastosowania `dvc` i `mlflow`. \n",
    "- Zdefiniuj twoim zdaniem elementy najbardziej problematyczne i czasochłonne."
   ]
  },
  {
   "cell_type": "code",
   "execution_count": null,
   "id": "favorite-casino",
   "metadata": {},
   "outputs": [],
   "source": []
  }
 ],
 "metadata": {
  "kernelspec": {
   "display_name": "Python 3",
   "language": "python",
   "name": "python3"
  },
  "language_info": {
   "codemirror_mode": {
    "name": "ipython",
    "version": 3
   },
   "file_extension": ".py",
   "mimetype": "text/x-python",
   "name": "python",
   "nbconvert_exporter": "python",
   "pygments_lexer": "ipython3",
   "version": "3.6.5"
  }
 },
 "nbformat": 4,
 "nbformat_minor": 5
}
