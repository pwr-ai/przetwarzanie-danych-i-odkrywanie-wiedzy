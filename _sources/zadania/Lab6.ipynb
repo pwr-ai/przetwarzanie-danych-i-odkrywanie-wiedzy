{
 "cells": [
  {
   "cell_type": "markdown",
   "metadata": {},
   "source": [
    "# Zadania Lista 6\n"
   ]
  },
  {
   "cell_type": "markdown",
   "metadata": {},
   "source": [
    "## (7 pkt) 1. Zbuduj frontend aplikacji\n",
    "\n",
    "W pliku `app.py`  dołączonego do niniejszej listy znajdziesz kod skryptu, który pobiera z Twittera dane z konkretnego profilu i dokonuje na nich analizy sentymentu.\n",
    "\n",
    "W celu instalacji potrzebnych bibliotek, użyj poleceń (niestety, Twint z PyPi nie dziala):\n",
    "```bash\n",
    "pip install sentimentpl\n",
    "pip install --upgrade git+https://github.com/twintproject/twint.git@origin/master#egg=twint\n",
    "```\n",
    "\n",
    "Używając biblioteki Streamlit, zbuduj na bazie w/w skryptu aplikację posiadającą następujące funkcjonalności:\n",
    "* możliwość podania nazwy profilu do zescrapowania \n",
    "* użycie metody cachującej wyniki scrapowania, by zaoszczędzić transfer i czas\n",
    "* wykres ilości postów w czasie\n",
    "* wykres średniego sentymentu postów\n",
    "* progressbar pokazujący postęp analizy sentymentu\n",
    "* używając biblioteki `[streamlit-wordcloud](https://github.com/rezaho/streamlit-wordcloud)` wygeneruj chmurę hashtagów zawartych we wpisach (jeśli są dostępne, klucz `hashtags` w DataFrame zwróconym z Twinta)\n",
    "\n",
    "\n",
    "## (3 pkt) 2. Zbuduj obraz Dockerowy aplikacji\n",
    "Na bazie kodu z pkt 1 stwórz obraz Dockera zawierający i uruchamiający aplikację, umożliwiający dostać się do niej z komputera hosta. Jako portu dostępowego użyj 4 ostatnich cyfr swojego nr indeksu\n",
    "\n",
    "## (5 pkt) 3. Zbieraj statystyki produkcyjne\n",
    "\n",
    "Używając Docker Compose, stwórz środowisko umożliwiajace zbieranie statystyk:\n",
    "* złącz swoją aplikację z obrazami Graphite i Grafany w jedno środowisko dockerowe\n",
    "* rozpocznij zbieranie statystyk z aplikacji. Przykładowe statystyki - ilość uruchomień, ilość użyć cache, czas pobierania danych, czas analizy sentymentu, ilość zebranych postów, wyniki sentymentu (jako timing), ilość błędów pobierania danych itp.\n",
    "* stwórz dashboard w Grafanie zawierający wykresy stworzone na bazie zbieranych metryk\n",
    "\n",
    "Stworzone wykresy udokumentuj screenami\n",
    "\n",
    "## (dodatkowe) (2 pkt) Załóż alert na któryś z wykresów Grafany\n",
    "   "
   ]
  }
 ],
 "metadata": {
  "kernelspec": {
   "display_name": "Python 3",
   "language": "python",
   "name": "python3"
  },
  "language_info": {
   "codemirror_mode": {
    "name": "ipython",
    "version": 3
   },
   "file_extension": ".py",
   "mimetype": "text/x-python",
   "name": "python",
   "nbconvert_exporter": "python",
   "pygments_lexer": "ipython3",
   "version": "3.9.2"
  }
 },
 "nbformat": 4,
 "nbformat_minor": 5
}
