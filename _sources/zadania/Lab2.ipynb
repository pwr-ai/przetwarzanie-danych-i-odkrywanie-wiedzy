{
 "cells": [
  {
   "cell_type": "markdown",
   "metadata": {},
   "source": [
    "# Zadania Lista 2"
   ]
  },
  {
   "cell_type": "markdown",
   "metadata": {},
   "source": [
    "#### 1. (6.5 pkt) Wykonaj podzadania zdefiniowane w punktach a), b) i c) z wykorzystaniem bibliotek `numpy` i `matplotlib`\n"
   ]
  },
  {
   "cell_type": "markdown",
   "metadata": {},
   "source": [
    "a) **(3 pkt)** Poniżej przedstawiono implementację funkcji `calculate`, w której zrealizowano zbiór operacji na dwóch dwuwymiarowych macierzach $a$ i $b$. Zmień implementację tej funkcji tak, aby pozbyć się wykorzystania pętli - w tym celu wykorzystaj operacje zdefiniowane w bibliotece `numpy`. Zweryfikuj poprawność nowo zdefiowanej funkcji dla dowolnie wybranego zestawu parametrów"
   ]
  },
  {
   "cell_type": "markdown",
   "metadata": {},
   "source": [
    "```python\n",
    "def calculate(\n",
    "    a: np.ndarray, \n",
    "    b: np.ndarray,\n",
    "    threshold: int = 5\n",
    ") -> float:\n",
    "'''Implements bunch of operations on matrices.'''\n",
    "    # Check a and b dimensions\n",
    "    assert a.shape == b.shape\n",
    "    # Check whether array is 2D \n",
    "    assert len(a.shape) == 2\n",
    "\n",
    "    rows = a.shape[0]\n",
    "    cols = a.shape[1]\n",
    "    b_sum = 0\n",
    "    out = 0.0\n",
    "    c = np.zeros(a.shape)\n",
    "\n",
    "    for row_id in range(rows):\n",
    "        for col_id in range(cols):\n",
    "            if a[row_id][col_id] > threshold:\n",
    "                c[row_id][col_id] = abs(\n",
    "                    a[row_id][col_id] - b[row_id][col_id]\n",
    "                )\n",
    "            else:\n",
    "                c[row_id][col_id] = 1\n",
    "\n",
    "            b_sum += b[row_id][col_id]\n",
    "\n",
    "\n",
    "    row_avgs = []\n",
    "    for row_id in range(rows):\n",
    "        row_sum = 0\n",
    "        for row_id in range(cols):\n",
    "            row_sum += c[row_id][col_id]\n",
    "\n",
    "        row_avg = row_sum / cols\n",
    "        out += (row_avg * 100) / b_sum  \n",
    "\n",
    "    return out\n",
    "```\n"
   ]
  },
  {
   "cell_type": "code",
   "execution_count": null,
   "metadata": {},
   "outputs": [],
   "source": [
    "# TUTAJ UMIEŚĆ KOD"
   ]
  },
  {
   "cell_type": "markdown",
   "metadata": {},
   "source": [
    "b) **(1.5 pkt)** Dokonaj porównania czasów wykonania funkcji `calculate` i tej zaimplementowanej w punkcie 1. Wylosuj macierze wejściowe $a$ i $b$ z rozkładu dyskretnego jednostajnego z zakresu 0-10 oraz przyjmij wartość parametru `threshold` na 5. Obliczenia przeprowadź dla następujących wymiarów macierzy:\n",
    "\n",
    "- 3x3\n",
    "- 100x100\n",
    "- 1000x1000\n",
    "- 10000x1000\n",
    "\n",
    "**Uwaga**\n",
    "W celu mierzenia czasu można użyć komendy %timeit\n",
    "https://ipython.readthedocs.io/en/stable/interactive/magics.html#magic-timeit\n"
   ]
  },
  {
   "cell_type": "code",
   "execution_count": null,
   "metadata": {},
   "outputs": [],
   "source": [
    "# TUTAJ UMIEŚĆ KOD I PORÓWNANIE"
   ]
  },
  {
   "cell_type": "markdown",
   "metadata": {},
   "source": [
    "c) **(2 pkt)** Wykorzystując bibliotekę `matplotlib` narysuj wykres przyśpieszenia nowo zaimplementowanej funkcji w porównaniu do oryginalnej implementacji. Dobierz odpowiedni typ wykresu, podpisz etykiety osi i uzupełnij tytuł wykresu."
   ]
  },
  {
   "cell_type": "code",
   "execution_count": null,
   "metadata": {},
   "outputs": [],
   "source": [
    "# TUTAJ UMIEŚĆ KOD I WYKRES"
   ]
  },
  {
   "cell_type": "markdown",
   "metadata": {},
   "source": [
    "#### 2. (6.5 pkt) Wykonaj podzadania zdefiniowane w punktach a), b), c) i d) z wykorzystaniem bibliotek `pandas`, `matplotlib` i `sklearn`\n",
    "\n",
    "a) **(0.5 pkt)** Używając biblioteki `sklearn` i poniższej definicji wczytaj zbiór danych `boston house-prices dataset` i przekształć go do postaci `DataFrame` z biblioteki `pandas`. Dodatkowo wyświetl 15 pierwszych rekordów.\n",
    "\n",
    "```python\n",
    "from sklearn.datasets import load_boston\n",
    "dataset = load_boston()\n",
    "```"
   ]
  },
  {
   "cell_type": "code",
   "execution_count": null,
   "metadata": {},
   "outputs": [],
   "source": [
    "# TUTAJ UMIEŚĆ KOD "
   ]
  },
  {
   "cell_type": "markdown",
   "metadata": {},
   "source": [
    "b) **(1 pkt)** Używając funkcji `apply` utwórz kolumnę $\\text{HIGH_TAX}$, która sprawdza czy dla danego rekordu stawka podatkowa (kolumna $\\text{TAX}$)  jest większa od mediany stawki podatkowej wszystkich rekordów\n",
    "\n"
   ]
  },
  {
   "cell_type": "code",
   "execution_count": null,
   "metadata": {},
   "outputs": [],
   "source": [
    "# TUTAJ UMIEŚĆ KOD "
   ]
  },
  {
   "cell_type": "markdown",
   "metadata": {},
   "source": [
    "c) **(2 pkt)** Pogrupuj rekordy wg. kolumny $\\text{HIGH_TAX}$ i wybierz 4 cechy ze zbioru danych w których najbardziej widać różnicę dla grup $\\text{HIGH_TAX}$\n",
    "\n"
   ]
  },
  {
   "cell_type": "code",
   "execution_count": null,
   "metadata": {},
   "outputs": [],
   "source": [
    "# TUTAJ UMIEŚĆ KOD I WYPISZ WYBRANE CECHY"
   ]
  },
  {
   "cell_type": "markdown",
   "metadata": {},
   "source": [
    "d) **(3 pkt)** Dla wybranych cech w punkcie `c)` porównaj wartości tych cech na wykresach. Dobierz odpowiedni typ wykresu (słupkowy, kołowy, liniowy, histogram). Wybór uzasadnij. Wykresy mają być umiejscowione w jednym wykresie z subplotem składającym się z 2 kolumn i dwóch rzędów. Wykresy powinny posiadać etykiety osi X i Y oraz legendę.\n"
   ]
  },
  {
   "cell_type": "code",
   "execution_count": null,
   "metadata": {},
   "outputs": [],
   "source": [
    "# TUTAJ UMIEŚĆ KOD I WYKRESY"
   ]
  },
  {
   "cell_type": "markdown",
   "metadata": {},
   "source": [
    "#### [OPCJONALNE] 3. (3 pkt) Zapoznaj się z biblioteką [seaborn](https://seaborn.pydata.org/index.html) i zmień wykresy z punktu 3 d) na używające tej biblioteki"
   ]
  },
  {
   "cell_type": "code",
   "execution_count": null,
   "metadata": {},
   "outputs": [],
   "source": [
    "# TUTAJ UMIEŚĆ KOD I WYKRESY"
   ]
  }
 ],
 "metadata": {
  "kernelspec": {
   "display_name": "Python 3",
   "language": "python",
   "name": "python3"
  },
  "language_info": {
   "codemirror_mode": {
    "name": "ipython",
    "version": 3
   },
   "file_extension": ".py",
   "mimetype": "text/x-python",
   "name": "python",
   "nbconvert_exporter": "python",
   "pygments_lexer": "ipython3",
   "version": "3.6.5"
  }
 },
 "nbformat": 4,
 "nbformat_minor": 2
}
