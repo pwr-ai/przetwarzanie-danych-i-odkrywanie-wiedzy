{
 "cells": [
  {
   "cell_type": "markdown",
   "id": "collected-australian",
   "metadata": {},
   "source": [
    "# Zadania Lista 4: Analiza eksploracyjna danych"
   ]
  },
  {
   "cell_type": "markdown",
   "id": "39f0b915-8bf2-4a34-b64c-34d06d43109f",
   "metadata": {
    "tags": []
   },
   "source": [
    "**Wymagania**\n",
    "\n",
    "- Końcową komendę `dvc repro` należy uruchomić korzystając ze środowiska w kontenerze Docker. "
   ]
  },
  {
   "cell_type": "markdown",
   "id": "883cad88-5f9e-44bb-92ee-65bc189b7185",
   "metadata": {
    "tags": []
   },
   "source": [
    "### Zadanie 1 (1 pkt)\n",
    "\n",
    "Skonstruuj co najmniej 3 dodatkowe cechy na podstawie danych oraz wiedzy dziedzinowej i umieść je jako osobne kolumny. Cechy nie powinny pochodzić wyłącznie z tekstu. Przykładem takiej cechy może być długość tekstu."
   ]
  },
  {
   "cell_type": "markdown",
   "id": "eight-supplier",
   "metadata": {
    "tags": []
   },
   "source": [
    "### Zadanie 2 (6 pkt)\n",
    "\n",
    "Celem zadania jest dokonanie analizy eksploracyjnej (EDA) zadanego zbioru danych, pod kątem zastosowania do treningu modelu sentymentu, przy pomocy poznanych narzędzi. \n",
    "\n",
    "Na podstawie danych numerycznych/kategorycznych postaraj się odpowiedzieć na następujące pytania (jednak nie ograniczaj się jedynie do odpowiedzi na nie):\n",
    "- ile znajduje się w zbiorze cech kategorycznych, a ile numerycznych? \n",
    "- czy zmienna wyjściowa jest kategoryczna, czy numeryczna? \n",
    "- czy i ile w zbiorze jest brakujących wartości? Dla jakich zmiennych? Co z tego wynika?\n",
    "- czy któreś z cech są skorelowane? Co z tego może wynikać?\n",
    "- czy któraś z cech koreluje ze zmienną wyjściową? Jeśli tak - która? Czy któraś nie koreluje?\n",
    "- czy zbiór danych wydaje się być wystarczająco informacyjny by rozwiązać zadanie analizy sentymentu?\n",
    "\n",
    "Zbadaj również dane tekstowe:\n",
    "- czy któreś ze słów wydają się dominować w zbiorze?\n",
    "- czy najpopularniejsze słowa różnią się znacząco pomiędzy klasami? Czy potrafisz wyróżnić słowa mogące wpływać w znaczym stopniu na sentyment?\n",
    "- jaka jest charakterystyka tekstu (np. długość, czystość)?\n",
    "\n",
    "\n",
    "Opisz swoje ciekawe spostrzeżenia co do danych. Spróbuj na podstawie uzyskanych informacji zarekomendować dalsze działania w zakresie posiadanej wiedzy. "
   ]
  },
  {
   "cell_type": "markdown",
   "id": "varied-florist",
   "metadata": {},
   "source": [
    "Rezultatem pracy niech będzie prosty, krótki raport podsumowujący wiedzę, którą udało się uzyskać z EDA. Powinien zawierać sedno analiz i najważniejsze wnioski które udało się uzyskać. Raport powinien być w formacie Jupyter Notebook'a.\n",
    "\n",
    "Co do formuły raportu - załóż, że pracujesz w dziale R&D renomowanej firmy i musisz przygotować krótkie streszczenie wiedzy dla swojego przełożonego, by mógł on podjąć decyzje o dalszych etapach prac. **Krótko, treściwie, same konkrety, wnioski i rekomendacje** :) "
   ]
  },
  {
   "cell_type": "markdown",
   "id": "eda46f6d-d5e2-4347-8a09-9e2af18d5778",
   "metadata": {},
   "source": [
    "### Zadanie 3 (1 pkt)\n",
    "\n",
    "Porównywanie notebooków za pomocą `git` jest problematyczne, dlatego najlepiej przechowywać je z wyczyszczonym outputem a wykonane przechowywać za pomocą dvc w osobnej lokalizacji. Dodatkową zaletą jest redukcja rozmiaru repozytorium gdy notebook'i zawierają dużo obrazki.\n",
    "\n",
    "Dodaj do DVC stage, który będzie wykonywał napisany notebook zapisując w folderze `data` lub jego podfolderze, dodaj odpowiednie zależności. Wykorzystaj komendę `jupyter nbconvert` lub narzędzie [papermill](https://papermill.readthedocs.io/en/latest/)."
   ]
  }
 ],
 "metadata": {
  "kernelspec": {
   "display_name": "Python 3 (ipykernel)",
   "language": "python",
   "name": "python3"
  },
  "language_info": {
   "codemirror_mode": {
    "name": "ipython",
    "version": 3
   },
   "file_extension": ".py",
   "mimetype": "text/x-python",
   "name": "python",
   "nbconvert_exporter": "python",
   "pygments_lexer": "ipython3",
   "version": "3.10.9"
  }
 },
 "nbformat": 4,
 "nbformat_minor": 5
}
