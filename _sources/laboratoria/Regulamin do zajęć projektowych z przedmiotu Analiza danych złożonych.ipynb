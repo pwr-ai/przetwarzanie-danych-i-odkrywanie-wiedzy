{
 "cells": [
  {
   "cell_type": "markdown",
   "metadata": {},
   "source": [
    "1. Zajęcia składać się będą z dwóch części: laboratoryjnej (4 zajęcia - 60 pkt) i projektowej (3 zajęcia - 40 pkt)\n",
    "\n",
    "2. Każde zadanie laboratoryjne oceniane jest łącznie na 15 pkt. Tematy którę będą realizowane: \n",
    "\n",
    "    * Klasyfikacja kolektywna (2021-03-09, termin oddania zadania: 2021-03-23)\n",
    "    * Klasyfikacja w danych hierarchicznych (2021-03-23, termin oddania zadania: 2021-04-20)\n",
    "    * Dane strumieniowe (2021-04-21, termin oddania zadania: 2021-05-04)\n",
    "    * Analiza szeregów czasowych (2021-05-04, termin oddania zadania: 2021-05-18) \n",
    "    \n",
    "\n",
    "3. Za opóźnienie o każdy termin zajęć kara punktowa wynosi 25% punktacji bazowej,\n",
    "przy czym listę można oddać najpóźniej 2 terminy zajęć po ustalonym terminie.\n",
    "\n",
    "4. Część projektowa polega na kontynuacji realizowanych projektów w poprzednich semestrach.  Tematyka projektów jest dowolna. Projekty powinny być realizowane w tej samej grupie osób. W ramach zajęć należy wprowadzić modyfikację projektu, która będzie wcześniej skonsultowana z prowadzącym i dopasowana do realizowanego projektu. Dopuszczalne są poniższe modyfikację:\n",
    "    * Dodanie nowego źródła danych \n",
    "    * Przeprowadzenie analizy eksproracyjnej z perspektywy użytkownika końcowego.\n",
    "    \n",
    "\n",
    "5. Część projektowa kończy się prezentacją, która odbędzie się na ostatnich zjęciach. \n",
    "Prezentacja powinna objąć takie elementy jak: stan projektu przed rozpoczęciem zajęć, \n",
    "wprowadzone zmiany podczas realizacji tych zajęć, napotkane problemy, dalsze plany dotyczące rozwoju tego projektu.\n",
    "\n",
    "6. W przypadku sytuacji, gdzie wybranie projektu będzie niemożliwe wprowadzona będzie część zastępcza, \n",
    "która zostanie ogłoszona nie później niż na pierwszych zajęciach projektowych.\n",
    "\n",
    "7. Ocena końcowa z zajęć jest przyznawana zgodnie z informacjami zawartymi w poniższej tabeli. \n",
    "\n",
    "| Punkty | Ocena |\n",
    "| --- | --- |\n",
    "| 0-50 | 2.0 |\n",
    "| 51-60 | 3.0 |\n",
    "| 61-70 | 3.5 |\n",
    "| 71-80 | 4.0 |\n",
    "| 81-90 | 4.5 |\n",
    "| 91-100 | 5.0 |"
   ]
  }
 ],
 "metadata": {
  "kernelspec": {
   "display_name": "Python 3",
   "language": "python",
   "name": "python3"
  },
  "language_info": {
   "codemirror_mode": {
    "name": "ipython",
    "version": 3
   },
   "file_extension": ".py",
   "mimetype": "text/x-python",
   "name": "python",
   "nbconvert_exporter": "python",
   "pygments_lexer": "ipython3",
   "version": "3.7.4"
  }
 },
 "nbformat": 4,
 "nbformat_minor": 2
}
