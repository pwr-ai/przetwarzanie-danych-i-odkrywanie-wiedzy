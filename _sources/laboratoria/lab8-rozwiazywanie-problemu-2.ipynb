{
 "cells": [
  {
   "cell_type": "markdown",
   "id": "dutch-effort",
   "metadata": {},
   "source": [
    "![](../docs/banner.png)"
   ]
  },
  {
   "cell_type": "markdown",
   "id": "powered-affairs",
   "metadata": {},
   "source": [
    "# Laboratorium 7: Rozwiązywanie problemu odkrywania wiedzy - część 2"
   ]
  },
  {
   "cell_type": "markdown",
   "id": "great-month",
   "metadata": {},
   "source": [
    "## Efekty kształcenia laboratorium\n",
    "<hr>"
   ]
  },
  {
   "cell_type": "markdown",
   "id": "polar-hygiene",
   "metadata": {},
   "source": [
    "- zapoznasz się z zasadami BHP\n",
    "- dowiesz się, co będziemy ćwiczyć w trakcie tego semestru\n",
    "- poznasz zasady oceniania \n",
    "- poznasz możliwości tworzenia środowiska wirtualnego Python\n",
    "- poznasz środowisko Jupyter\n",
    "- poznasz podstawowe mechanizmy systemu kontroli wersji Git i ekosystemu GitHub"
   ]
  },
  {
   "cell_type": "code",
   "execution_count": null,
   "id": "forced-ratio",
   "metadata": {},
   "outputs": [],
   "source": []
  },
  {
   "cell_type": "code",
   "execution_count": null,
   "id": "elementary-cargo",
   "metadata": {},
   "outputs": [],
   "source": []
  }
 ],
 "metadata": {
  "kernelspec": {
   "display_name": "Python 3",
   "language": "python",
   "name": "python3"
  },
  "language_info": {
   "codemirror_mode": {
    "name": "ipython",
    "version": 3
   },
   "file_extension": ".py",
   "mimetype": "text/x-python",
   "name": "python",
   "nbconvert_exporter": "python",
   "pygments_lexer": "ipython3",
   "version": "3.8.6"
  }
 },
 "nbformat": 4,
 "nbformat_minor": 5
}
