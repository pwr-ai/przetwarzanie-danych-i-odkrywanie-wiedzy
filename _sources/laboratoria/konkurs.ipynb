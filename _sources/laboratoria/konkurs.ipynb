{
 "cells": [
  {
   "cell_type": "markdown",
   "id": "norman-kennedy",
   "metadata": {},
   "source": [
    "![](../docs/banner.png)<figcaption style=\"text-align: right; font-size:9px\"><a href=\"https://pixabay.com/service/license/\">Na licencji Pixabay</a></figcaption>"
   ]
  },
  {
   "cell_type": "markdown",
   "id": "initial-distinction",
   "metadata": {},
   "source": [
    "# KONKURS"
   ]
  },
  {
   "cell_type": "markdown",
   "id": "seeing-granny",
   "metadata": {},
   "source": [
    "### Regulamin\n",
    "\n",
    "1. Konkurs jest realizowany z wykorzystaniem platform Kaggle i Github Classroom\n",
    "1. Każdy student może posiadać tylko jedno konto użytkownika na platformie Kaggle biorące udział w konkursie.\n",
    "1. Można przyjąć dowolną nazwę użytkownika za wyjątkiem obraźliwych lub narusząjących dobra osobiste. Nazwa użytkownika biorąca udział w konkursie powinna być wpisana do pliku README.md w przesłanym zadaniu na platformie Github Classroom.\n",
    "1. Obowiązuje zakaz dzielenia się kodu z pozostałymi uczestnikami konkursu\n",
    "1. Można wysłać maksymalnie 15 zgłoszeń konkursowych dziennie do ewaluacji\n",
    "1. Można wybrać tylko jedno zgłoszenie do końcowej oceny\n",
    "1. Konkurs trwa od 2022.04.27 do 2022.06.09\n",
    "1. Każda próba oszustwa (manipulacje na zbiorze danych, współdzielenie kodu itp.) będzie wiązała się z usunięciem z uczestinctwa i otrzymaniem 0 pkt za ostatnie zadanie\n",
    "1. Zgłoszenie jest uznawane za poprawne, jeżeli zajdą wszystkie poniższe punkty:\n",
    "    - Wysłanie pliku csv z wynikami predykcji na zbiorze testowym na platformę Kaggle\n",
    "    - Osiągnięcie na tablicy publicznej (public) wyniku przekraczające 0.7 uśrednionej metryki f1-score\n",
    "    - Zamieszczenie na platformie Github Classroom kodu rozwiązania wraz z wysłanym plikiem submission\n",
    "1. Za poprawne zgłoszenie konkursowe student otrzyma 13 pkt za zadanie. \n",
    "1. Student otrzyma 25 pkt (pełna punktacja) za zgłoszenie, którego wynik ewaluacji na publicznej tablicy wyników (public leaderboard) wyniesie więcej niż 0.8\n",
    "1. Trójka studentów, która znajdzie się w TOP 3 na prywatnej tablicy wyników, otrzyma 5 punktów dodatkowych do oceny z laboratorium. Osoby te będą poproszone na ostatnich zajęciach o krótkie zaprezentowanie rozwiązania. Nie obowiązuje tutaj podział na grupy, brany jest wynik obejmujący wszystkie grupy laboratoryjne."
   ]
  },
  {
   "cell_type": "markdown",
   "id": "imported-pathology",
   "metadata": {},
   "source": [
    "### Zgłoszenia rozwiązania \n",
    "\n",
    "Pliki zgłoszeniowe powinny mieć dwie kolumny i być w formacie csv: \n",
    "- Id - identyfikator przypadku ze zbioru uczącego\n",
    "- Predicted - Predykowana klasa\n",
    "\n",
    "Przykładowy plik rozwiązania:\n",
    "\n",
    "```csv\n",
    "Id,Predicted\n",
    "1, 1\n",
    "2, 0\n",
    "3, 0\n",
    "4, 1\n",
    "5, 1\n",
    "6, 0\n",
    "etc.\n",
    "```"
   ]
  },
  {
   "cell_type": "markdown",
   "id": "silver-treatment",
   "metadata": {},
   "source": [
    "### Metryka \n",
    "\n",
    "Zgłoszenie jest rankingowane na podstawie uśrednionej metryki `f1-score` (typ uśrednienia: `micro`)"
   ]
  },
  {
   "cell_type": "markdown",
   "id": "resident-deployment",
   "metadata": {},
   "source": [
    "### Tablica wyników\n",
    "\n",
    "Podczas realizacji konkursu będą dostępne dwie tablice wyników:\n",
    "- Publiczna, dostępna od momentu uruchomienia konkursu. Każdy uczestnik będzie mógł podejrzeć aktualne miejsce w rankingu i uzyskany wynik. Wyniki predykcji będą ewaluowane z wykorzystaniem 30% zbioru testowego.\n",
    "- Prywatna, dostępna po zakończenia konkursu. Każdy uczestnik, będzie mógł podejrzeć aktualne miejsce i uzyskany wynik dopiero po zakończeniu konkursu. Wyniki predykcji będą ewaluowane z wykorzystaniem 70% zbioru testowego.\n",
    "\n",
    "W związku z tym, że ewaluacja w ramach danej tablicy wyników dokonywana jest na innej próbce danych, miejsce rankingowe może ulec zmianie. \n",
    "Podział danych na tablice publiczną i prywatną jest niejawny i ewaluacja wyników następuje po stronie platofrmy Kaggle"
   ]
  },
  {
   "cell_type": "markdown",
   "id": "canadian-panama",
   "metadata": {},
   "source": [
    "## Zbiór danych"
   ]
  },
  {
   "cell_type": "markdown",
   "id": "vital-switzerland",
   "metadata": {},
   "source": [
    "Zbiór danych tworzy lista projektów realizowanych z Funduszy Europejskich w Polsce w latach 2014-2020. Zbiór danych został wcześniej oczyszczony i wybrano podzbiór **15** cech. Cecha wyjściowa składa się z dwóch klas i z powodu prowadzenia konkursu została utajniona.\n",
    "\n",
    "### Podział zbioru\n",
    "\n",
    "| Podzbiór | Liczba przypadków | Czy podzbiór można modyfikować podzbiór | Czy posiada etykiety | Liczba przypadków klasy 0 | Liczba przypadków klasy 1 | Rozkład klas |\n",
    "| --- | --- | --- | --- | --- | -- | -- |\n",
    "| Uczący (train)| 46800 | $\\surd$ | $\\surd$ | 21857 | 24943 |  0.467 / 0.533 |\n",
    "| Walidacyjny (dev) | 15600 | $\\surd$ | $\\surd$ | 7320 | 8280 | 0.469 / 0.531 |\n",
    "| Testowy (test) | 15600 | $\\times$ | $\\times$ | - | - | - |\n",
    "\n"
   ]
  },
  {
   "cell_type": "markdown",
   "id": "champion-disco",
   "metadata": {
    "tags": [
     "hide-cell"
    ]
   },
   "source": [
    "```python\n",
    "import sys\n",
    "\n",
    "sys.path.append(\"../../pdiow-challenge/\")\n",
    "\n",
    "from pdiow.dataset import PDIOWChallengeDatasetLoader\n",
    "from pandas_profiling import ProfileReport\n",
    "\n",
    "ds = PDIOWChallengeDatasetLoader(\"../../pdiow-challenge/dataset/\").load()\n",
    "df = ds.x_train\n",
    "df[\"target\"] = ds.y_train\n",
    "```"
   ]
  },
  {
   "cell_type": "markdown",
   "id": "checked-church",
   "metadata": {},
   "source": [
    "###  Kolumny w zbiorze danych\n",
    "\n",
    "Nazwa | Opis |\n",
    "--- | --- |\n",
    "title | Tytuł projektu |\n",
    "description | Skrócony opis do 2000 znaków |\n",
    "beneficiary_name | Nazwa beneficjenta\n",
    "fund | Fundusz |\n",
    "programme |  Program |\n",
    "eu_financial_rate | Poziom unijnego dofinansowania w procentach w % |\n",
    "finance_form | Forma finansowania |\n",
    "territory_type | Typ obszaru, na którym realizowany jest projekt |\n",
    "start_date | Data rozpoczęcia realizacji projektu\n",
    "end_date | Data zakończenia realizacji projektu\n",
    "competitive_procedure | Projekt konkursowy czy pozakonkursowy |\n",
    "economic_activity_area | Dziedzina działalności gospodarczej, której dotyczy projekt |\n",
    "project_thematic_objective | Cel projektu\n",
    "area_of_project_intervention | Obszar wsparcia projektu |\n",
    "teritorial_delivery_mechanism | Projekt realizowany w ramach terytorialnych mechanizmów wdrażania\n",
    "y | brak* \n",
    "\n",
    "\n",
    "*Opis będzie przedstawiony na ostatnich zajęciach"
   ]
  },
  {
   "cell_type": "markdown",
   "id": "proud-marijuana",
   "metadata": {},
   "source": [
    "### Raport z Pandas Profiling zbioru uczącego"
   ]
  },
  {
   "cell_type": "markdown",
   "id": "monetary-oxide",
   "metadata": {},
   "source": [
    "```python\n",
    "report = ProfileReport(df)\n",
    "report.to_notebook_iframe()\n",
    "```"
   ]
  },
  {
   "cell_type": "markdown",
   "id": "instructional-feeling",
   "metadata": {},
   "source": [
    "## Kod biblioteki pdiow-challenge\n",
    "\n",
    "\n",
    "```{important}\n",
    "\n",
    "Wykorzystanie i adaptowanie interfejsów zdefiniowanych w bibliotece jest opcjonalne. Ma ułatwić pracę, niż tworzyć wymóg jej stosowania.\n",
    "\n",
    "Jedyna funkcjonalność która nie powinna być zmieniona, jest ta dotycząca przygotowania pliku zgłoszeniowego\n",
    "```"
   ]
  },
  {
   "cell_type": "markdown",
   "id": "unavailable-future",
   "metadata": {},
   "source": [
    "### Pobieranie i wczytywanie zbioru danych\n",
    "\n",
    "```python\n",
    "from pdiow.dataset import PDIOWChallengeDatasetLoader\n",
    "\n",
    "ds = PDIOWChallengeDatasetLoader().load()\n",
    "```\n",
    "\n",
    "### Podzbiory danych\n",
    "\n",
    "W ramach ułatwienia prototypowania modeli można ograniczyć przypadków w zbiorze wykorzystując metodę `subsample()`, która ogranicza rozmiar zbioru do zadanego procentu. \n",
    "\n",
    "**Przykład**: Ograniczenie zbioru do 10%\n",
    "\n",
    "```python\n",
    "ds.subsample(sample_size=0.1)\n",
    "```\n",
    "\n",
    "### Transformacje danych\n",
    "\n",
    "Przygotowany został szablon, który można wykorzystać w celu łatwego zaadaptowania transformacji danych.\n",
    "\n",
    "```python\n",
    "class Transformation(ABC):\n",
    "    def __init__(self, dataset: PDIOWChallangeDataset):\n",
    "        self.dataset = dataset\n",
    "        \n",
    "    @abstractmethod\n",
    "    def _fit_transform(self, data: pd.DataFrame) -> pd.DataFrame:\n",
    "        pass\n",
    "\n",
    "    @abstractmethod\n",
    "    def _transform(self, data: pd.DataFrame) -> pd.DataFrame:\n",
    "        pass\n",
    "\n",
    "    def transform(self) -> PDIOWChallangeDataset:\n",
    "        self.dataset.X_train = self._fit_transform(self.dataset.X_train)\n",
    "        self.dataset.X_dev = self._transform(self.dataset.X_dev)\n",
    "        self.dataset.X_test = self._transform(self.dataset.X_test)\n",
    "        return self.dataset\n",
    "```\n",
    "\n",
    "Pozwala na zdefiniowanie transformacji, ich definicja i zastosowania na zbiorze uczącym, a w końcowym kroku dokonuje transformacji na zbiorach walidacyjnym i testowym\n",
    "\n",
    "### Uczenie modelu i ewaluacja\n",
    "\n",
    "Przygotowany również został szablon do uczenia modeli i jego ewaluacji, który obejmuję implementację metod jak m.in. `fit`, `predict`, `evaluate`. Parametrami Modelu jest zainicjalizowany klasyfikator oraz zbiór danych.\n",
    "\n",
    "```{imporant}\n",
    "Przekazany klasyfikator `classifier` musi implementować metody `fit` i `predict`\n",
    "```\n",
    "\n",
    "```python\n",
    "class ClassificationModel:\n",
    "    def __init__(self, classifier: Any, dataset: PDIOWChallengeDataset) -> None:\n",
    "        self.classifier = classifier\n",
    "        self.dataset = dataset\n",
    "        self._validate_model()\n",
    "\n",
    "    def _validate_model(self) -> None:\n",
    "        fit = getattr(self, \"fit\", None)\n",
    "        if not callable(fit):\n",
    "            raise ValueError(\"Given model has not fit method!\")\n",
    "\n",
    "        predict = getattr(self, \"predict\", None)\n",
    "        if not callable(predict):\n",
    "            raise ValueError(\"Given model has not predict method!\")\n",
    "\n",
    "    def fit(self) -> None:\n",
    "        self.classifier.fit(self.dataset.x_train, self.dataset.y_train)\n",
    "\n",
    "    def predict(self) -> Any:\n",
    "        return self.classifier.predict(self.dataset.x_test)\n",
    "\n",
    "    def evaluate(self) -> Any:\n",
    "        return Evaluator(\n",
    "            y_true=self.dataset.y_dev,\n",
    "            y_pred=self.classifier.predict(self.dataset.x_dev),\n",
    "        ).evaluate()\n",
    "\n",
    "    def evaluate_cv(self, splits: int = 5) -> Any:\n",
    "        return CVEvaluator(\n",
    "            model=self.classifier,\n",
    "            X=pd.concat(\n",
    "                [self.dataset.x_train, self.dataset.x_dev],\n",
    "                axis=0,\n",
    "                ignore_index=False,\n",
    "            ),\n",
    "            Y=pd.concat(\n",
    "                [self.dataset.y_train, self.dataset.y_dev],\n",
    "                axis=0,\n",
    "                ignore_index=False,\n",
    "            ),\n",
    "            splits=splits,\n",
    "        ).evaluate()\n",
    "\n",
    "    def fit_evaluate(self) -> Any:\n",
    "        self.fit()\n",
    "        return self.evaluate()\n",
    "\n",
    "    def create_submission_file(self, filepath: str) -> None:\n",
    "        create_submission_file(y_pred=self.predict(), filepath=filepath)\n",
    "```\n",
    "\n",
    "Ewaluację modelu możemy przeprowadzić na dwa sposoby:\n",
    "- standardowy wykorzystując metodę `fit_evaluate()` i zbiór walidacyjny \n",
    "- lub metodę `evaluate_cv()`, która łączy zbiory uczący i walidacyjny i dokonuje walidacji krzyżową. \n",
    "\n",
    "### Przygotowanie pliku zgłoszeniowego\n",
    "\n",
    "Do przygotowania pliku zgłoszeniowego można wykorzystać metodę `create_submission_file` w `ClassificationModel`  lub funkcji `create_submission_file` umieszczonej w module `pdiow.submission`."
   ]
  }
 ],
 "metadata": {
  "kernelspec": {
   "display_name": "Python 3",
   "language": "python",
   "name": "python3"
  },
  "language_info": {
   "codemirror_mode": {
    "name": "ipython",
    "version": 3
   },
   "file_extension": ".py",
   "mimetype": "text/x-python",
   "name": "python",
   "nbconvert_exporter": "python",
   "pygments_lexer": "ipython3",
   "version": "3.6.5"
  }
 },
 "nbformat": 4,
 "nbformat_minor": 5
}
